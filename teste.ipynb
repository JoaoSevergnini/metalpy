{
 "cells": [
  {
   "cell_type": "markdown",
   "metadata": {},
   "source": [
    "## Testes do módulo de verificação de perfis metálicos"
   ]
  },
  {
   "cell_type": "code",
   "execution_count": 1,
   "metadata": {},
   "outputs": [],
   "source": [
    "from material import *\n",
    "from secao import *\n",
    "from perfil_de_aco import *\n",
    "from perfil_i_laminado import *"
   ]
  },
  {
   "cell_type": "markdown",
   "metadata": {},
   "source": [
    "### classe Material()"
   ]
  },
  {
   "cell_type": "code",
   "execution_count": 2,
   "metadata": {},
   "outputs": [],
   "source": [
    "#Criando um material com as propriedades do aço A572\n",
    "#               E,   poisson, fy, fu\n",
    "A572 = Material(20000, 0.3, 34.5, 45)"
   ]
  },
  {
   "cell_type": "code",
   "execution_count": 3,
   "metadata": {},
   "outputs": [
    {
     "name": "stdout",
     "output_type": "stream",
     "text": [
      "modulo de elasticidade:  20000 kgf/mm²\n",
      "modulo de cisalhamento:  7692.307692307692 kgf/mm²\n",
      "coeficiente de poisson:  0.3\n",
      "Tensão de escoamento:  34.5 kgf/mm²\n",
      "Tensão de ruptura:  45 kgf/mm²\n"
     ]
    }
   ],
   "source": [
    "#imprimindo os parâmetros da classe\n",
    "print('modulo de elasticidade: ', A572.E, 'kgf/mm²')\n",
    "print('modulo de cisalhamento: ', A572.G, 'kgf/mm²')\n",
    "print('coeficiente de poisson: ', A572.poisson)\n",
    "print('Tensão de escoamento: ', A572.fy, 'kgf/mm²')\n",
    "print('Tensão de ruptura: ', A572.fu, 'kgf/mm²')"
   ]
  },
  {
   "cell_type": "markdown",
   "metadata": {},
   "source": [
    "## classes Secao(), PerfilDeAco() e PerfilILaminado()"
   ]
  },
  {
   "cell_type": "code",
   "execution_count": 4,
   "metadata": {},
   "outputs": [],
   "source": [
    "#Criando um instancia da classe PerfilILaminado() com as propriedades do perfil W530X74, com o aço\n",
    "#A572 criado anteriomente\n",
    "#                            nome do perfil, material\n",
    "P_W530X74 = PerfilILaminado(  'W530X74',      A572  )"
   ]
  },
  {
   "cell_type": "markdown",
   "metadata": {},
   "source": [
    "<img src=\"img\\perfil_I.png\" alt=\"propriedades da seção I\" style=\"width:300px\">"
   ]
  },
  {
   "cell_type": "code",
   "execution_count": 5,
   "metadata": {},
   "outputs": [
    {
     "name": "stdout",
     "output_type": "stream",
     "text": [
      "Propriedades geométricas do perfil W530X74\n",
      "-------------------------------------------\n",
      "Altura total(ht):  528.0 mm\n",
      "Altura da alma(hw):  500.8 mm\n",
      "Distância entre as faces internas das mesas(h): 528.0 mm\n",
      "Largura da mesa(bf):  166.0 mm\n",
      "Espessura da mesa(tf):  13.6 mm\n",
      "Espessura da alma(tw): 9.65 mm\n",
      "Área Trasnversal(A): 9480.0 mm²\n",
      "Momento de inécicia em x (Ix): 410000000.0 mm4\n",
      "Momento de inécicia em y (Iy): 10400000.0 mm4\n",
      "Constante de torção (J): 475000.0 mm4\n",
      "Raio de giração em x(rx):  207.96380730232684 mm\n",
      "Raio de giração em y(ry):  33.121690981924665 mm\n",
      "Módulo de resitência elástico em x (Wx):  1550000.0 mm³\n",
      "Módulo de resitência elástico em y (Wy):  125000.0 mm³\n",
      "Módulo de resitência plástico em x (Zx):  1800000.0 mm³\n",
      "Módulo de resitência elástico em y (Zy):  200000.0 mm³\n",
      "Constante de empenamento(Cw): 690000000000.0 mm6\n",
      "Cordenada X do centro de cisalhamento em relação ao Xcg (xo): 0 mm\n",
      "Cordenada Y do centro de cisalhamento em relação ao Ycg (yo): 0 mm\n",
      "Raio de giração em relação ao centro de corte (ro): 210.58487970692823 mm\n"
     ]
    }
   ],
   "source": [
    "#imprimindo as propriedades do perfil\n",
    "print('Propriedades geométricas do perfil W530X74')\n",
    "print('-------------------------------------------')\n",
    "\n",
    "print('Altura total(ht): ', P_W530X74.ht, 'mm')\n",
    "print('Altura da alma(hw): ', P_W530X74.hw, 'mm')\n",
    "print('Distância entre as faces internas das mesas(h):', P_W530X74.ht, 'mm')\n",
    "print('Largura da mesa(bf): ', P_W530X74.bf, 'mm')\n",
    "print('Espessura da mesa(tf): ', P_W530X74.tf, 'mm')\n",
    "print('Espessura da alma(tw):', P_W530X74.tw, 'mm')\n",
    "print('Área Trasnversal(A):', P_W530X74.A, 'mm²')\n",
    "print('Momento de inécicia em x (Ix):', P_W530X74.Ix, 'mm4')\n",
    "print('Momento de inécicia em y (Iy):', P_W530X74.Iy, 'mm4')\n",
    "print('Constante de torção (J):', P_W530X74.J,'mm4')\n",
    "print('Raio de giração em x(rx): ', P_W530X74.rx, 'mm')\n",
    "print('Raio de giração em y(ry): ', P_W530X74.ry, 'mm')\n",
    "print('Módulo de resitência elástico em x (Wx): ', P_W530X74.Wx, 'mm³')\n",
    "print('Módulo de resitência elástico em y (Wy): ', P_W530X74.Wy, 'mm³')\n",
    "print('Módulo de resitência plástico em x (Zx): ', P_W530X74.Zx, 'mm³')\n",
    "print('Módulo de resitência elástico em y (Zy): ', P_W530X74.Zy, 'mm³')\n",
    "print('Constante de empenamento(Cw):', P_W530X74.Cw, 'mm6')\n",
    "print('Cordenada X do centro de cisalhamento em relação ao Xcg (xo):', P_W530X74.xo, 'mm')\n",
    "print('Cordenada Y do centro de cisalhamento em relação ao Ycg (yo):', P_W530X74.yo, 'mm')\n",
    "print('Raio de giração em relação ao centro de corte (ro):', P_W530X74.ro, 'mm')"
   ]
  },
  {
   "cell_type": "markdown",
   "metadata": {},
   "source": [
    "### Algumas propriedades mecânicas\n",
    "\n",
    "- considerando uma barra com comprimentos de flambagem \n",
    "    * klx = 3000 mm\n",
    "    * kly = 3000 mm\n",
    "    * klz = 3000 mm"
   ]
  },
  {
   "cell_type": "code",
   "execution_count": 6,
   "metadata": {},
   "outputs": [
    {
     "name": "stdout",
     "output_type": "stream",
     "text": [
      "Cargas criticas de flambagem\n",
      "----------------------------\n",
      "Nex: 8992306.232103636 kgf\n",
      "Ney: 228097.52393628738 kgf\n",
      "Nez 423651.35849832644 kgf\n",
      "Ne: 228097.52393628738 kgf\n"
     ]
    }
   ],
   "source": [
    "#Comprimentos de flambagem\n",
    "klx = 3000\n",
    "kly = 3000\n",
    "klz = 3000\n",
    "\n",
    "print(\"Cargas criticas de flambagem\")\n",
    "print(\"----------------------------\")\n",
    "\n",
    "print('Nex:', P_W530X74.Nex(klx), 'kgf')\n",
    "print('Ney:', P_W530X74.Ney(kly), 'kgf')\n",
    "print('Nez', P_W530X74.Nez(klz), 'kgf')\n",
    "\n",
    "print('Ne:', P_W530X74.Ne(klx, kly, klz), 'kgf')"
   ]
  },
  {
   "cell_type": "code",
   "execution_count": 7,
   "metadata": {},
   "outputs": [
    {
     "name": "stdout",
     "output_type": "stream",
     "text": [
      "Indices de esbeltez da barra\n",
      "----------------------------\n",
      "Indice de esbeltez em relação ao giro no eixo X: 3.0191695241215943\n",
      "Indice de esbeltez em relação ao giro no eixo Y: 0.48085290078684345\n"
     ]
    }
   ],
   "source": [
    "#Indice de esbeltez\n",
    "print('Indices de esbeltez da barra')\n",
    "print('----------------------------')\n",
    "\n",
    "print('Indice de esbeltez em relação ao giro no eixo X:', P_W530X74.indice_esbeltez_X(100))\n",
    "print('Indice de esbeltez em relação ao giro no eixo Y:', P_W530X74.indice_esbeltez_Y(100))"
   ]
  },
  {
   "cell_type": "markdown",
   "metadata": {},
   "source": [
    "## Métodos de verificação da capacidade resistente"
   ]
  },
  {
   "cell_type": "markdown",
   "metadata": {},
   "source": [
    "#### Tração - escoamento da seção bruta"
   ]
  },
  {
   "cell_type": "code",
   "execution_count": 8,
   "metadata": {},
   "outputs": [
    {
     "name": "stdout",
     "output_type": "stream",
     "text": [
      "Resistência ao escoamento da seção bruta  = 297327.2727272727 kgf\n"
     ]
    }
   ],
   "source": [
    "resb = P_W530X74.resist_esc_secao_bruta_NBR8800()\n",
    "print('Resistência ao escoamento da seção bruta  =', resb, 'kgf')"
   ]
  },
  {
   "cell_type": "markdown",
   "metadata": {},
   "source": [
    "#### Compressão\n",
    "- considerando os comprimentos de flambagem indicados anteriormente "
   ]
  },
  {
   "cell_type": "code",
   "execution_count": 9,
   "metadata": {},
   "outputs": [
    {
     "name": "stdout",
     "output_type": "stream",
     "text": [
      "Ncrd =  162608.76901153615 kgf\n",
      "\n",
      " Parametros de cálculo:\n",
      "-------------------------\n",
      "Indice de esbeltez reduzido 1.197439088097866\n",
      "Fator Chi: 0.5487332954051534\n",
      "Fator Q: 0.9917241864669285\n"
     ]
    }
   ],
   "source": [
    "print('Ncrd = ', P_W530X74.Ncrd_NBR8800(klx, kly, klz), 'kgf')\n",
    "\n",
    "print('\\n Parametros de cálculo:')\n",
    "print('-------------------------')\n",
    "ier = P_W530X74.ind_esbeltez_reduzido(klx, kly, klz)\n",
    "frc = P_W530X74.fator_reducao_compressao(ier)\n",
    "print('Indice de esbeltez reduzido', ier )\n",
    "print('Fator Chi:', frc)\n",
    "print('Fator Q:', P_W530X74.fator_Q(frc))"
   ]
  },
  {
   "cell_type": "markdown",
   "metadata": {},
   "source": [
    "#### Cortante"
   ]
  },
  {
   "cell_type": "markdown",
   "metadata": {},
   "source": [
    "##### Em Y - maior inércia"
   ]
  },
  {
   "cell_type": "code",
   "execution_count": 10,
   "metadata": {},
   "outputs": [
    {
     "name": "stdout",
     "output_type": "stream",
     "text": [
      "Força reistênte de corte\n",
      "-----------------------\n",
      "Vrd_y:  95882.4 kgf\n",
      "\n",
      " Parametros de cálculo:\n",
      "-------------------------\n",
      "Awy:  5095.2  mm²\n",
      "Vpl:  105470.64  kgf\n",
      "kv:  5\n",
      "Lambda_p:  59.222009226398214\n",
      "Lambda_r:  73.75832058196869\n"
     ]
    }
   ],
   "source": [
    "print('Força reistênte de corte')\n",
    "print('-----------------------')\n",
    "print('Vrd_y: ', P_W530X74.Vrdy_NBR8800(), 'kgf')\n",
    "\n",
    "print('\\n Parametros de cálculo:')\n",
    "print('-------------------------')\n",
    "print('Awy: ', P_W530X74.Awy, ' mm²')\n",
    "print('Vpl: ', P_W530X74.Vpl(P_W530X74.Awy), ' kgf')\n",
    "print('kv: ', P_W530X74.kv_Vrdy())\n",
    "print('Lambda_p: ', P_W530X74.par_esbeltez_limites_Vrd(P_W530X74.kv_Vrdy())[0])\n",
    "print('Lambda_r: ', P_W530X74.par_esbeltez_limites_Vrd(P_W530X74.kv_Vrdy())[1])"
   ]
  },
  {
   "cell_type": "markdown",
   "metadata": {},
   "source": [
    "##### Em X - menor inércia"
   ]
  },
  {
   "cell_type": "code",
   "execution_count": 11,
   "metadata": {},
   "outputs": [
    {
     "name": "stdout",
     "output_type": "stream",
     "text": [
      "Força reistênte de corte\n",
      "-----------------------\n",
      "Vrd_x:  84967.85454545454 kgf\n",
      "\n",
      " Parametros de cálculo:\n",
      "-------------------------\n",
      "Aw:  4515.2  mm²\n",
      "Vpl:  93464.64  kgf\n",
      "kv:  1.2\n",
      "Lambda_p:  29.01274082941463\n",
      "Lambda_r:  36.13404994208913\n"
     ]
    }
   ],
   "source": [
    "print('Força reistênte de corte')\n",
    "print('-----------------------')\n",
    "print('Vrd_x: ', P_W530X74.Vrdx_NBR8800(), 'kgf')\n",
    "\n",
    "print('\\n Parametros de cálculo:')\n",
    "print('-------------------------')\n",
    "print('Aw: ', P_W530X74.Awx, ' mm²')\n",
    "print('Vpl: ', P_W530X74.Vpl(P_W530X74.Awx), ' kgf')\n",
    "print('kv: ', P_W530X74.kv_Vrdx())\n",
    "print('Lambda_p: ', P_W530X74.par_esbeltez_limites_Vrd(P_W530X74.kv_Vrdx())[0])\n",
    "print('Lambda_r: ', P_W530X74.par_esbeltez_limites_Vrd(P_W530X74.kv_Vrdx())[1])"
   ]
  },
  {
   "cell_type": "markdown",
   "metadata": {},
   "source": [
    "### Momento fletor\n",
    "- considerando a barra contida em todo seu comprimento\n",
    "- coeficiente Cb = 1"
   ]
  },
  {
   "cell_type": "markdown",
   "metadata": {},
   "source": [
    "#### Em X - eixo de maior inércia"
   ]
  },
  {
   "cell_type": "code",
   "execution_count": 12,
   "metadata": {},
   "outputs": [
    {
     "name": "stdout",
     "output_type": "stream",
     "text": [
      "Momento resistente de cálculo\n",
      "-----------------------------\n",
      "Mrd_x: 56454545.45454545 kgf.mm\n",
      "\n",
      " Parametros de cálculo:\n",
      "-------------------------\n",
      "\n",
      "Mpl:  62100000.0 kgf.mm \n",
      "\n",
      "ELU - Flambagem lateral com torção\n",
      "-----------------------------------\n",
      "Lambda_p:  42.37582028619076\n",
      "Lambda_r:  124.85369974978447\n",
      "Mr: 37432500.0 kgf.mm\n",
      "Mcr: 528775058423461.1 kgf.mm\n",
      "Mn: 62100000.0 kgf.mm\n",
      "\n",
      "\n",
      "ELU - Flambagem local da mesa\n",
      "-----------------------------------\n",
      "Lambda_p:  9.14932483451846\n",
      "Lambda_r:  23.885510217361595\n",
      "Mr: 37432500.0 kgf.mm\n",
      "Mcr: 574291537.2332702 kgf.mm\n",
      "Mn: 62100000.0 kgf.mm\n",
      "\n",
      "\n",
      "ELU - Flambagem local da alma\n",
      "-----------------------------------\n",
      "Lambda_p:  90.53016152049844\n",
      "Lambda_r:  137.2398725177769\n",
      "Mr: 53475000.0 kgf.mm\n",
      "Mn: 62100000.0 kgf.mm\n",
      "\n",
      "\n"
     ]
    }
   ],
   "source": [
    "print('Momento resistente de cálculo')\n",
    "print('-----------------------------')\n",
    "print('Mrd_x:', P_W530X74.Mrdx_NBR8800(0), 'kgf.mm')\n",
    "print('\\n Parametros de cálculo:')\n",
    "print('-------------------------\\n')\n",
    "print('Mpl: ', P_W530X74.Mplx, 'kgf.mm \\n')\n",
    "print('ELU - Flambagem lateral com torção')\n",
    "print('-----------------------------------')\n",
    "print('Lambda_p: ', P_W530X74.par_esbeltez_limite_Mrdx_FLT()[0])\n",
    "print('Lambda_r: ', P_W530X74.par_esbeltez_limite_Mrdx_FLT()[1])\n",
    "print('Mr:', P_W530X74.Mrx_FLT(), 'kgf.mm')\n",
    "print('Mcr:', P_W530X74.Mcrx_FLT(1, 1), 'kgf.mm')\n",
    "print('Mn:', P_W530X74.Mnx_FLT(1, 1), 'kgf.mm')\n",
    "print('\\n')\n",
    "print('ELU - Flambagem local da mesa')\n",
    "print('-----------------------------------')\n",
    "print('Lambda_p: ', P_W530X74.par_esbeltez_limite_Mrdx_FLM()[0])\n",
    "print('Lambda_r: ', P_W530X74.par_esbeltez_limite_Mrdx_FLM()[1])\n",
    "print('Mr:', P_W530X74.Mrx_FLM(), 'kgf.mm')\n",
    "print('Mcr:', P_W530X74.Mcrx_FLM(), 'kgf.mm')\n",
    "print('Mn:', P_W530X74.Mnx_FLM(), 'kgf.mm')\n",
    "print('\\n')\n",
    "print('ELU - Flambagem local da alma')\n",
    "print('-----------------------------------')\n",
    "print('Lambda_p: ', P_W530X74.par_esbeltez_limite_Mrdx_FLA()[0])\n",
    "print('Lambda_r: ', P_W530X74.par_esbeltez_limite_Mrdx_FLA()[1])\n",
    "print('Mr:', P_W530X74.Mrx_FLA(), 'kgf.mm')\n",
    "print('Mn:', P_W530X74.Mnx_FLA(), 'kgf.mm')\n",
    "print('\\n')"
   ]
  },
  {
   "cell_type": "markdown",
   "metadata": {},
   "source": [
    "#### Em Y - eixo de menor inércia"
   ]
  },
  {
   "cell_type": "code",
   "execution_count": 13,
   "metadata": {},
   "outputs": [
    {
     "name": "stdout",
     "output_type": "stream",
     "text": [
      "Momento resistente de cálculo\n",
      "-----------------------------\n",
      "Mrd_y: 6272727.2727272725 kgf.mm\n",
      "\n",
      " Parametros de cálculo:\n",
      "-------------------------\n",
      "\n",
      "Mpl:  6900000.0 kgf.mm \n",
      "\n",
      "ELU - Flambagem local da mesa\n",
      "-----------------------------------\n",
      "Lambda_p:  9.14932483451846\n",
      "Lambda_r:  23.885510217361595\n",
      "Mr: 3018750.0 kgf.mm\n",
      "Mcr: 46313833.647844374 kgf.mm\n",
      "Mn: 6900000.0 kgf.mm\n",
      "\n",
      "\n"
     ]
    }
   ],
   "source": [
    "print('Momento resistente de cálculo')\n",
    "print('-----------------------------')\n",
    "print('Mrd_y:', P_W530X74.Mrdy_NBR8800(0), 'kgf.mm')\n",
    "print('\\n Parametros de cálculo:')\n",
    "print('-------------------------\\n')\n",
    "print('Mpl: ', P_W530X74.Mply, 'kgf.mm \\n')\n",
    "print('ELU - Flambagem local da mesa')\n",
    "print('-----------------------------------')\n",
    "print('Lambda_p: ', P_W530X74.par_esbeltez_limite_Mrdy_FLM()[0])\n",
    "print('Lambda_r: ', P_W530X74.par_esbeltez_limite_Mrdy_FLM()[1])\n",
    "print('Mr:', P_W530X74.Mry_FLM(), 'kgf.mm')\n",
    "print('Mcr:', P_W530X74.Mcry_FLM(), 'kgf.mm')\n",
    "print('Mn:', P_W530X74.Mny_FLM(), 'kgf.mm')\n",
    "print('\\n')"
   ]
  },
  {
   "cell_type": "code",
   "execution_count": null,
   "metadata": {},
   "outputs": [],
   "source": []
  },
  {
   "cell_type": "code",
   "execution_count": null,
   "metadata": {},
   "outputs": [],
   "source": []
  }
 ],
 "metadata": {
  "kernelspec": {
   "display_name": "Python 3",
   "language": "python",
   "name": "python3"
  },
  "language_info": {
   "codemirror_mode": {
    "name": "ipython",
    "version": 3
   },
   "file_extension": ".py",
   "mimetype": "text/x-python",
   "name": "python",
   "nbconvert_exporter": "python",
   "pygments_lexer": "ipython3",
   "version": "3.7.3"
  }
 },
 "nbformat": 4,
 "nbformat_minor": 2
}
