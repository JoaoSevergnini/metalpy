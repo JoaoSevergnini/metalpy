{
 "cells": [
  {
   "cell_type": "markdown",
   "metadata": {},
   "source": [
    "## Testes do módulo de verificação de perfis metálicos"
   ]
  },
  {
   "cell_type": "code",
   "execution_count": 1,
   "metadata": {},
   "outputs": [],
   "source": [
    "from material import *\n",
    "from secao import *\n",
    "from perfil_de_aco import *\n",
    "from perfil_i_laminado import *"
   ]
  },
  {
   "cell_type": "markdown",
   "metadata": {},
   "source": [
    "### classe Material()"
   ]
  },
  {
   "cell_type": "code",
   "execution_count": 2,
   "metadata": {},
   "outputs": [],
   "source": [
    "#Criando um material com as propriedades do aço A572\n",
    "#               E,   poisson, fy, fu\n",
    "A572 = Material(20000, 0.3, 34.5, 45)"
   ]
  },
  {
   "cell_type": "code",
   "execution_count": 3,
   "metadata": {},
   "outputs": [
    {
     "name": "stdout",
     "output_type": "stream",
     "text": [
      "modulo de elasticidade:  20000 kgf/mm²\n",
      "modulo de cisalhamento:  7692.307692307692 kgf/mm²\n",
      "coeficiente de poisson:  0.3\n",
      "Tensão de escoamento:  34.5 kgf/mm²\n",
      "Tensão de ruptura:  45 kgf/mm²\n"
     ]
    }
   ],
   "source": [
    "#imprimindo os parâmetros da classe\n",
    "print('modulo de elasticidade: ', A572.E, 'kgf/mm²')\n",
    "print('modulo de cisalhamento: ', A572.G, 'kgf/mm²')\n",
    "print('coeficiente de poisson: ', A572.poisson)\n",
    "print('Tensão de escoamento: ', A572.fy, 'kgf/mm²')\n",
    "print('Tensão de ruptura: ', A572.fu, 'kgf/mm²')"
   ]
  },
  {
   "cell_type": "markdown",
   "metadata": {},
   "source": [
    "## classes Secao(), PerfilDeAco() e PerfilILaminado()"
   ]
  },
  {
   "cell_type": "code",
   "execution_count": 4,
   "metadata": {},
   "outputs": [],
   "source": [
    "#Criando um instancia da classe PerfilILaminado() com as propriedades do perfil W530X74, com o aço\n",
    "#A572 criado anteriomente\n",
    "#                            nome do perfil, material\n",
    "P_W530X74 = PerfilILaminado(  'W530X74',      A572  )"
   ]
  },
  {
   "cell_type": "markdown",
   "metadata": {},
   "source": [
    "<img src=\"img\\perfil_I.png\" alt=\"propriedades da seção I\" style=\"width:300px\">"
   ]
  },
  {
   "cell_type": "code",
   "execution_count": 5,
   "metadata": {},
   "outputs": [
    {
     "name": "stdout",
     "output_type": "stream",
     "text": [
      "Propriedades geométricas do perfil W530X74\n",
      "-------------------------------------------\n",
      "Altura total(ht):  528.0 mm\n",
      "Altura da alma(hw):  500.8 mm\n",
      "Distância entre as faces internas das mesas(h): 528.0 mm\n",
      "Largura da mesa(bf):  166.0 mm\n",
      "Espessura da mesa(tf):  13.6 mm\n",
      "Espessura da alma(tw): 9.65 mm\n",
      "Área Trasnversal(A): 9480.0 mm²\n",
      "Momento de inécicia em x (Ix): 410000000.0 mm4\n",
      "Momento de inécicia em y (Iy): 10400000.0 mm4\n",
      "Constante de torção (J): 475000.0 mm4\n",
      "Raio de giração em x(rx):  207.96380730232684 mm\n",
      "Raio de giração em y(ry):  33.121690981924665 mm\n",
      "Módulo de resitência elástico em x (Wx):  1550000.0 mm³\n",
      "Módulo de resitência elástico em y (Wy):  125000.0 mm³\n",
      "Módulo de resitência plástico em x (Zx):  1800000.0 mm³\n",
      "Módulo de resitência elástico em y (Zy):  200000.0 mm³\n",
      "Constante de empenamento(Cw): 690000000000.0 mm6\n",
      "Cordenada X do centro de cisalhamento em relação ao Xcg (xo): 0 mm\n",
      "Cordenada Y do centro de cisalhamento em relação ao Ycg (yo): 0 mm\n",
      "Raio de giração em relação ao centro de corte (ro): 210.58487970692823 mm\n"
     ]
    }
   ],
   "source": [
    "#imprimindo as propriedades do perfil\n",
    "print('Propriedades geométricas do perfil W530X74')\n",
    "print('-------------------------------------------')\n",
    "\n",
    "print('Altura total(ht): ', P_W530X74.ht, 'mm')\n",
    "print('Altura da alma(hw): ', P_W530X74.hw, 'mm')\n",
    "print('Distância entre as faces internas das mesas(h):', P_W530X74.ht, 'mm')\n",
    "print('Largura da mesa(bf): ', P_W530X74.bf, 'mm')\n",
    "print('Espessura da mesa(tf): ', P_W530X74.tf, 'mm')\n",
    "print('Espessura da alma(tw):', P_W530X74.tw, 'mm')\n",
    "print('Área Trasnversal(A):', P_W530X74.A, 'mm²')\n",
    "print('Momento de inécicia em x (Ix):', P_W530X74.Ix, 'mm4')\n",
    "print('Momento de inécicia em y (Iy):', P_W530X74.Iy, 'mm4')\n",
    "print('Constante de torção (J):', P_W530X74.J,'mm4')\n",
    "print('Raio de giração em x(rx): ', P_W530X74.rx, 'mm')\n",
    "print('Raio de giração em y(ry): ', P_W530X74.ry, 'mm')\n",
    "print('Módulo de resitência elástico em x (Wx): ', P_W530X74.Wx, 'mm³')\n",
    "print('Módulo de resitência elástico em y (Wy): ', P_W530X74.Wy, 'mm³')\n",
    "print('Módulo de resitência plástico em x (Zx): ', P_W530X74.Zx, 'mm³')\n",
    "print('Módulo de resitência elástico em y (Zy): ', P_W530X74.Zy, 'mm³')\n",
    "print('Constante de empenamento(Cw):', P_W530X74.Cw, 'mm6')\n",
    "print('Cordenada X do centro de cisalhamento em relação ao Xcg (xo):', P_W530X74.xo, 'mm')\n",
    "print('Cordenada Y do centro de cisalhamento em relação ao Ycg (yo):', P_W530X74.yo, 'mm')\n",
    "print('Raio de giração em relação ao centro de corte (ro):', P_W530X74.ro, 'mm')"
   ]
  },
  {
   "cell_type": "markdown",
   "metadata": {},
   "source": [
    "### Algumas propriedades mecânicas\n",
    "\n",
    "- considerando uma barra com comprimentos de flambagem \n",
    "    * klx = 3000 mm\n",
    "    * kly = 3000 mm\n",
    "    * klz = 3000 mm"
   ]
  },
  {
   "cell_type": "code",
   "execution_count": 6,
   "metadata": {},
   "outputs": [
    {
     "name": "stdout",
     "output_type": "stream",
     "text": [
      "Cargas criticas de flambagem\n",
      "----------------------------\n",
      "Nex: 8992306.232103636 kgf\n",
      "Ney: 228097.52393628738 kgf\n",
      "Nez 423651.35849832644 kgf\n",
      "Ne: 228097.52393628738 kgf\n"
     ]
    }
   ],
   "source": [
    "#Comprimentos de flambagem\n",
    "klx = 3000\n",
    "kly = 3000\n",
    "klz = 3000\n",
    "\n",
    "print(\"Cargas criticas de flambagem\")\n",
    "print(\"----------------------------\")\n",
    "\n",
    "print('Nex:', P_W530X74.Nex(klx), 'kgf')\n",
    "print('Ney:', P_W530X74.Ney(kly), 'kgf')\n",
    "print('Nez', P_W530X74.Nez(klz), 'kgf')\n",
    "\n",
    "print('Ne:', P_W530X74.Ne(klx, kly, klz), 'kgf')"
   ]
  },
  {
   "cell_type": "code",
   "execution_count": 7,
   "metadata": {},
   "outputs": [
    {
     "name": "stdout",
     "output_type": "stream",
     "text": [
      "Indices de esbeltez da barra\n",
      "----------------------------\n",
      "Indice de esbeltez em relação ao giro no eixo X: 3.0191695241215943\n",
      "Indice de esbeltez em relação ao giro no eixo Y: 0.48085290078684345\n"
     ]
    }
   ],
   "source": [
    "#Indice de esbeltez\n",
    "print('Indices de esbeltez da barra')\n",
    "print('----------------------------')\n",
    "\n",
    "print('Indice de esbeltez em relação ao giro no eixo X:', P_W530X74.indice_esbeltez_X(100))\n",
    "print('Indice de esbeltez em relação ao giro no eixo Y:', P_W530X74.indice_esbeltez_Y(100))"
   ]
  },
  {
   "cell_type": "markdown",
   "metadata": {},
   "source": [
    "## Métodos de verificação da capacidade resistente"
   ]
  },
  {
   "cell_type": "markdown",
   "metadata": {},
   "source": [
    "#### Tração - escoamento da seção bruta"
   ]
  },
  {
   "cell_type": "code",
   "execution_count": 8,
   "metadata": {},
   "outputs": [
    {
     "name": "stdout",
     "output_type": "stream",
     "text": [
      "Resistência ao escoamento da seção bruta  = 297327.2727272727 kgf\n"
     ]
    }
   ],
   "source": [
    "resb = P_W530X74.resist_esc_secao_bruta_NBR8800()\n",
    "print('Resistência ao escoamento da seção bruta  =', resb, 'kgf')"
   ]
  },
  {
   "cell_type": "markdown",
   "metadata": {},
   "source": [
    "#### Compressão\n",
    "- considerando os comprimentos de flambagem indicados anteriormente "
   ]
  },
  {
   "cell_type": "code",
   "execution_count": 9,
   "metadata": {},
   "outputs": [
    {
     "name": "stdout",
     "output_type": "stream",
     "text": [
      "Ncrd =  162608.76901153615 kgf\n",
      "\n",
      " Parametros de cálculo:\n",
      "-------------------------\n",
      "Indice de esbeltez reduzido 1.197439088097866\n",
      "Fator Chi: 0.5487332954051534\n",
      "Fator Q: 0.9917241864669285\n"
     ]
    }
   ],
   "source": [
    "print('Ncrd = ', P_W530X74.Ncrd_NBR8800(klx, kly, klz), 'kgf')\n",
    "\n",
    "print('\\n Parametros de cálculo:')\n",
    "print('-------------------------')\n",
    "ier = P_W530X74.ind_esbeltez_reduzido(klx, kly, klz)\n",
    "frc = P_W530X74.fator_reducao_compressao(ier)\n",
    "print('Indice de esbeltez reduzido', ier )\n",
    "print('Fator Chi:', frc)\n",
    "print('Fator Q:', P_W530X74.fator_Q(frc))"
   ]
  },
  {
   "cell_type": "markdown",
   "metadata": {},
   "source": [
    "#### Cortante"
   ]
  },
  {
   "cell_type": "markdown",
   "metadata": {},
   "source": [
    "##### Em Y - maior inércia"
   ]
  },
  {
   "cell_type": "code",
   "execution_count": 10,
   "metadata": {},
   "outputs": [
    {
     "name": "stdout",
     "output_type": "stream",
     "text": [
      "Força reistênte de corte\n",
      "-----------------------\n",
      "Vrd_y:  95882.4 kgf\n",
      "\n",
      " Parametros de cálculo:\n",
      "-------------------------\n",
      "Awy:  5095.2  mm²\n",
      "Vpl:  105470.64  kgf\n",
      "kv:  5\n",
      "Lambda_p:  59.222009226398214\n",
      "Lambda_r:  73.75832058196869\n"
     ]
    }
   ],
   "source": [
    "print('Força reistênte de corte')\n",
    "print('-----------------------')\n",
    "print('Vrd_y: ', P_W530X74.Vrdy_NBR8800(), 'kgf')\n",
    "\n",
    "print('\\n Parametros de cálculo:')\n",
    "print('-------------------------')\n",
    "print('Awy: ', P_W530X74.Awy, ' mm²')\n",
    "print('Vpl: ', P_W530X74.Vpl(P_W530X74.Awy), ' kgf')\n",
    "print('kv: ', P_W530X74.kv_Vrdy())\n",
    "print('Lambda_p: ', P_W530X74.par_esbeltez_limites_Vrd(P_W530X74.kv_Vrdy())[0])\n",
    "print('Lambda_r: ', P_W530X74.par_esbeltez_limites_Vrd(P_W530X74.kv_Vrdy())[1])"
   ]
  },
  {
   "cell_type": "markdown",
   "metadata": {},
   "source": [
    "##### Em X - menor inércia"
   ]
  },
  {
   "cell_type": "code",
   "execution_count": 11,
   "metadata": {},
   "outputs": [
    {
     "name": "stdout",
     "output_type": "stream",
     "text": [
      "Força reistênte de corte\n",
      "-----------------------\n",
      "Vrd_x:  84967.85454545454 kgf\n",
      "\n",
      " Parametros de cálculo:\n",
      "-------------------------\n",
      "Aw:  4515.2  mm²\n",
      "Vpl:  93464.64  kgf\n",
      "kv:  1.2\n",
      "Lambda_p:  29.01274082941463\n",
      "Lambda_r:  36.13404994208913\n"
     ]
    }
   ],
   "source": [
    "print('Força reistênte de corte')\n",
    "print('-----------------------')\n",
    "print('Vrd_x: ', P_W530X74.Vrdx_NBR8800(), 'kgf')\n",
    "\n",
    "print('\\n Parametros de cálculo:')\n",
    "print('-------------------------')\n",
    "print('Aw: ', P_W530X74.Awx, ' mm²')\n",
    "print('Vpl: ', P_W530X74.Vpl(P_W530X74.Awx), ' kgf')\n",
    "print('kv: ', P_W530X74.kv_Vrdx())\n",
    "print('Lambda_p: ', P_W530X74.par_esbeltez_limites_Vrd(P_W530X74.kv_Vrdx())[0])\n",
    "print('Lambda_r: ', P_W530X74.par_esbeltez_limites_Vrd(P_W530X74.kv_Vrdx())[1])"
   ]
  },
  {
   "cell_type": "markdown",
   "metadata": {},
   "source": [
    "### Momento fletor\n",
    "- considerando a barra contida em todo seu comprimento\n",
    "- coeficiente Cb = 1"
   ]
  },
  {
   "cell_type": "markdown",
   "metadata": {},
   "source": [
    "#### Em X - eixo de maior inércia"
   ]
  },
  {
   "cell_type": "code",
   "execution_count": 12,
   "metadata": {},
   "outputs": [
    {
     "name": "stdout",
     "output_type": "stream",
     "text": [
      "Momento resistente de cálculo\n",
      "-----------------------------\n",
      "Mrd_x: 56454545.45454545 kgf.mm\n",
      "\n",
      " Parametros de cálculo:\n",
      "-------------------------\n",
      "\n",
      "Mpl:  62100000.0 kgf.mm \n",
      "\n",
      "ELU - Flambagem lateral com torção\n",
      "-----------------------------------\n",
      "Lambda_p:  42.37582028619076\n",
      "Lambda_r:  124.85369974978447\n",
      "Mr: 37432500.0 kgf.mm\n",
      "Mcr: 528775058423461.1 kgf.mm\n",
      "Mn: 62100000.0 kgf.mm\n",
      "\n",
      "\n",
      "ELU - Flambagem local da mesa\n",
      "-----------------------------------\n",
      "Lambda_p:  9.14932483451846\n",
      "Lambda_r:  23.885510217361595\n",
      "Mr: 37432500.0 kgf.mm\n",
      "Mcr: 574291537.2332702 kgf.mm\n",
      "Mn: 62100000.0 kgf.mm\n",
      "\n",
      "\n",
      "ELU - Flambagem local da alma\n",
      "-----------------------------------\n",
      "Lambda_p:  90.53016152049844\n",
      "Lambda_r:  137.2398725177769\n",
      "Mr: 53475000.0 kgf.mm\n",
      "Mn: 62100000.0 kgf.mm\n",
      "\n",
      "\n"
     ]
    }
   ],
   "source": [
    "print('Momento resistente de cálculo')\n",
    "print('-----------------------------')\n",
    "print('Mrd_x:', P_W530X74.Mrdx_NBR8800(0), 'kgf.mm')\n",
    "print('\\n Parametros de cálculo:')\n",
    "print('-------------------------\\n')\n",
    "print('Mpl: ', P_W530X74.Mplx, 'kgf.mm \\n')\n",
    "print('ELU - Flambagem lateral com torção')\n",
    "print('-----------------------------------')\n",
    "print('Lambda_p: ', P_W530X74.par_esbeltez_limite_Mrdx_FLT()[0])\n",
    "print('Lambda_r: ', P_W530X74.par_esbeltez_limite_Mrdx_FLT()[1])\n",
    "print('Mr:', P_W530X74.Mrx_FLT(), 'kgf.mm')\n",
    "print('Mcr:', P_W530X74.Mcrx_FLT(1, 1), 'kgf.mm')\n",
    "print('Mn:', P_W530X74.Mnx_FLT(1, 1), 'kgf.mm')\n",
    "print('\\n')\n",
    "print('ELU - Flambagem local da mesa')\n",
    "print('-----------------------------------')\n",
    "print('Lambda_p: ', P_W530X74.par_esbeltez_limite_Mrdx_FLM()[0])\n",
    "print('Lambda_r: ', P_W530X74.par_esbeltez_limite_Mrdx_FLM()[1])\n",
    "print('Mr:', P_W530X74.Mrx_FLM(), 'kgf.mm')\n",
    "print('Mcr:', P_W530X74.Mcrx_FLM(), 'kgf.mm')\n",
    "print('Mn:', P_W530X74.Mnx_FLM(), 'kgf.mm')\n",
    "print('\\n')\n",
    "print('ELU - Flambagem local da alma')\n",
    "print('-----------------------------------')\n",
    "print('Lambda_p: ', P_W530X74.par_esbeltez_limite_Mrdx_FLA()[0])\n",
    "print('Lambda_r: ', P_W530X74.par_esbeltez_limite_Mrdx_FLA()[1])\n",
    "print('Mr:', P_W530X74.Mrx_FLA(), 'kgf.mm')\n",
    "print('Mn:', P_W530X74.Mnx_FLA(), 'kgf.mm')\n",
    "print('\\n')"
   ]
  },
  {
   "cell_type": "markdown",
   "metadata": {},
   "source": [
    "#### Em Y - eixo de menor inércia"
   ]
  },
  {
   "cell_type": "code",
   "execution_count": 13,
   "metadata": {},
   "outputs": [
    {
     "name": "stdout",
     "output_type": "stream",
     "text": [
      "Momento resistente de cálculo\n",
      "-----------------------------\n",
      "Mrd_y: 6272727.2727272725 kgf.mm\n",
      "\n",
      " Parametros de cálculo:\n",
      "-------------------------\n",
      "\n",
      "Mpl:  6900000.0 kgf.mm \n",
      "\n",
      "ELU - Flambagem local da mesa\n",
      "-----------------------------------\n",
      "Lambda_p:  9.14932483451846\n",
      "Lambda_r:  23.885510217361595\n",
      "Mr: 3018750.0 kgf.mm\n",
      "Mcr: 46313833.647844374 kgf.mm\n",
      "Mn: 6900000.0 kgf.mm\n",
      "\n",
      "\n"
     ]
    }
   ],
   "source": [
    "print('Momento resistente de cálculo')\n",
    "print('-----------------------------')\n",
    "print('Mrd_y:', P_W530X74.Mrdy_NBR8800(0), 'kgf.mm')\n",
    "print('\\n Parametros de cálculo:')\n",
    "print('-------------------------\\n')\n",
    "print('Mpl: ', P_W530X74.Mply, 'kgf.mm \\n')\n",
    "print('ELU - Flambagem local da mesa')\n",
    "print('-----------------------------------')\n",
    "print('Lambda_p: ', P_W530X74.par_esbeltez_limite_Mrdy_FLM()[0])\n",
    "print('Lambda_r: ', P_W530X74.par_esbeltez_limite_Mrdy_FLM()[1])\n",
    "print('Mr:', P_W530X74.Mry_FLM(), 'kgf.mm')\n",
    "print('Mcr:', P_W530X74.Mcry_FLM(), 'kgf.mm')\n",
    "print('Mn:', P_W530X74.Mny_FLM(), 'kgf.mm')\n",
    "print('\\n')"
   ]
  },
  {
   "cell_type": "code",
   "execution_count": 1,
   "metadata": {},
   "outputs": [],
   "source": [
    "from material import AcoNBR8800\n",
    "from perfil_estrutural import *"
   ]
  },
  {
   "cell_type": "code",
   "execution_count": 68,
   "metadata": {},
   "outputs": [],
   "source": [
    "aco = AcoNBR8800(350,400)\n",
    "p = PerfilI(152, 152, 152, 5.8, 6.6, 6.6, aco)"
   ]
  },
  {
   "cell_type": "code",
   "execution_count": 4,
   "metadata": {},
   "outputs": [],
   "source": [
    "c = Caixao(305, 254, 11.8, 11.8, aco)"
   ]
  },
  {
   "cell_type": "code",
   "execution_count": 98,
   "metadata": {},
   "outputs": [],
   "source": [
    "p = PerfilILam('W1100X499', aco)"
   ]
  },
  {
   "cell_type": "code",
   "execution_count": 44,
   "metadata": {},
   "outputs": [
    {
     "data": {
      "text/plain": [
       "144000000000000.0"
      ]
     },
     "execution_count": 44,
     "metadata": {},
     "output_type": "execute_result"
    }
   ],
   "source": [
    "p.Cw"
   ]
  },
  {
   "cell_type": "code",
   "execution_count": 64,
   "metadata": {},
   "outputs": [],
   "source": [
    "tubo = TuboRet('HSS76.2X5.5', aco)"
   ]
  },
  {
   "cell_type": "code",
   "execution_count": 67,
   "metadata": {},
   "outputs": [
    {
     "data": {
      "text/plain": [
       "76.2"
      ]
     },
     "execution_count": 67,
     "metadata": {},
     "output_type": "execute_result"
    }
   ],
   "source": [
    "tubo.b"
   ]
  },
  {
   "cell_type": "code",
   "execution_count": 39,
   "metadata": {},
   "outputs": [],
   "source": [
    "tubo = TuboCir()"
   ]
  },
  {
   "cell_type": "code",
   "execution_count": 40,
   "metadata": {},
   "outputs": [],
   "source": []
  },
  {
   "cell_type": "code",
   "execution_count": 44,
   "metadata": {},
   "outputs": [
    {
     "data": {
      "text/plain": [
       "<material.AcoNBR8800 at 0x212a4d0b780>"
      ]
     },
     "execution_count": 44,
     "metadata": {},
     "output_type": "execute_result"
    }
   ],
   "source": []
  },
  {
   "cell_type": "code",
   "execution_count": 87,
   "metadata": {},
   "outputs": [],
   "source": [
    "I2y = p.tfi * p.bfi ** 3 / 12\n",
    "I1y = p.tfs * p.bfs ** 3 / 12\n",
    "I2x = p.tfi ** 3 * p.bfi / 12\n",
    "I1x = p.tfs ** 3 * p.bfs / 12\n",
    "h =  (p.d - p.tfi / 2 - p.tfs / 2)\n",
    "yo =  h *  I2y   / (I2y + I1y)"
   ]
  },
  {
   "cell_type": "code",
   "execution_count": 88,
   "metadata": {},
   "outputs": [
    {
     "data": {
      "text/plain": [
       "0.5"
      ]
     },
     "execution_count": 88,
     "metadata": {},
     "output_type": "execute_result"
    }
   ],
   "source": [
    "I2y   / (I2y + I1y)"
   ]
  },
  {
   "cell_type": "code",
   "execution_count": 89,
   "metadata": {},
   "outputs": [
    {
     "data": {
      "text/plain": [
       "145.39999999999998"
      ]
     },
     "execution_count": 89,
     "metadata": {},
     "output_type": "execute_result"
    }
   ],
   "source": [
    "Aco()"
   ]
  },
  {
   "cell_type": "code",
   "execution_count": 94,
   "metadata": {},
   "outputs": [],
   "source": [
    "import perfil_estrutural"
   ]
  },
  {
   "cell_type": "code",
   "execution_count": 100,
   "metadata": {},
   "outputs": [],
   "source": [
    "import inspect"
   ]
  },
  {
   "cell_type": "code",
   "execution_count": 108,
   "metadata": {},
   "outputs": [
    {
     "data": {
      "text/plain": [
       "<property at 0x1e76be87278>"
      ]
     },
     "execution_count": 108,
     "metadata": {},
     "output_type": "execute_result"
    }
   ],
   "source": [
    "inspect.getmembers(PerfilI)[0][1]"
   ]
  },
  {
   "cell_type": "code",
   "execution_count": 113,
   "metadata": {},
   "outputs": [
    {
     "data": {
      "text/plain": [
       "dict_values([1120.0, 404.0, 45.0, 26.2, 20.0, 38.0, 4.5, 63500.0, 12900000000.0, 499000000.0, 31100000.0, <material.AcoNBR8800 object at 0x000001E76CAD16D8>, 12700000000.0, 2580000000000000.0, 99800000000000.0, 2394700000000.0, 23100000.0, 23100000.0, 2460000.0, 2460000.0, 26500000.0, 3870000.0, 36360.0, 29344.0, 0, 0, 144000000000000.0, [True, True], 'I LAMINADO', 23100000.0, 2460000.0])"
      ]
     },
     "execution_count": 113,
     "metadata": {},
     "output_type": "execute_result"
    }
   ],
   "source": [
    "p.__dict__.values()"
   ]
  },
  {
   "cell_type": "code",
   "execution_count": 117,
   "metadata": {},
   "outputs": [
    {
     "data": {
      "text/plain": [
       "['__name__',\n",
       " '__doc__',\n",
       " '__package__',\n",
       " '__loader__',\n",
       " '__spec__',\n",
       " '__file__',\n",
       " '__cached__',\n",
       " '__builtins__',\n",
       " 'SecaoGenerica',\n",
       " 'pi',\n",
       " 'sqrt',\n",
       " 'Material',\n",
       " 'Aco',\n",
       " 'pd',\n",
       " 'perfis_AISC',\n",
       " 'PerfilEstrutural',\n",
       " 'PerfilI',\n",
       " 'PerfilILam',\n",
       " 'Caixao',\n",
       " 'TuboRet',\n",
       " 'TuboCir']"
      ]
     },
     "execution_count": 117,
     "metadata": {},
     "output_type": "execute_result"
    }
   ],
   "source": [
    "perfil_estrutural.__dir__()"
   ]
  },
  {
   "cell_type": "code",
   "execution_count": 118,
   "metadata": {},
   "outputs": [],
   "source": [
    "import norma"
   ]
  },
  {
   "cell_type": "code",
   "execution_count": 132,
   "metadata": {},
   "outputs": [
    {
     "data": {
      "text/plain": [
       "[('Mcrx_FLA', <function norma.Nbr8800.Mcrx_FLA(self)>),\n",
       " ('Mcrx_FLM', <function norma.Nbr8800.Mcrx_FLM(self)>),\n",
       " ('Mcrx_FLT', <function norma.Nbr8800.Mcrx_FLT(self, Cb, Lb)>),\n",
       " ('Mnx_FLA', <function norma.Nbr8800.Mnx_FLA(self)>),\n",
       " ('Mnx_FLM', <function norma.Nbr8800.Mnx_FLM(self)>),\n",
       " ('Mrdx', <function norma.Nbr8800.Mrdx(self, Lb, gama_a1=1.1, Cb=1)>),\n",
       " ('Mrx_FLA', <function norma.Nbr8800.Mrx_FLA(self)>),\n",
       " ('Mrx_FLM', <function norma.Nbr8800.Mrx_FLM(self)>),\n",
       " ('Mrx_FLT', <function norma.Nbr8800.Mrx_FLT(self)>),\n",
       " ('Ncrd',\n",
       "  <function norma.Nbr8800.Ncrd(perfil, klx, kly, klz, gama_a1=1.1, data=False)>),\n",
       " ('Ntrd_ESB', <function norma.Nbr8800.Ntrd_ESB(perfil, gama_a1=1.1)>),\n",
       " ('Vrdx',\n",
       "  <function norma.Nbr8800.Vrdx(perfil, gama_a1=1.1, a=None, data=False)>),\n",
       " ('Vrdy',\n",
       "  <function norma.Nbr8800.Vrdy(perfil, a=None, gama_a1=1.1, data=False)>),\n",
       " ('_Mnx_FLT', <function norma.Nbr8800._Mnx_FLT(perfil, Cb, Lb)>),\n",
       " ('_Q', <function norma.Nbr8800._Q(perfil, chi)>),\n",
       " ('_Qa', <function norma.Nbr8800._Qa(perfil, chi)>),\n",
       " ('_Qs_g3', <function norma.Nbr8800._Qs_g3(perfil)>),\n",
       " ('_Qs_g4', <function norma.Nbr8800._Qs_g4(perfil)>),\n",
       " ('_Qs_g5', <function norma.Nbr8800._Qs_g5(perfil)>),\n",
       " ('_Qs_g6', <function norma.Nbr8800._Qs_g6(perfil)>),\n",
       " ('__class__', type),\n",
       " ('__delattr__', <slot wrapper '__delattr__' of 'object' objects>),\n",
       " ('__dict__',\n",
       "  mappingproxy({'__module__': 'norma',\n",
       "                'c_tensao_res': 0.7,\n",
       "                'Ntrd_ESB': <staticmethod at 0x1e76cfcabe0>,\n",
       "                '_Qs_g3': <staticmethod at 0x1e76d3ca4e0>,\n",
       "                '_Qs_g4': <staticmethod at 0x1e76d3ca240>,\n",
       "                '_Qs_g5': <staticmethod at 0x1e76cf8bf98>,\n",
       "                '_Qs_g6': <staticmethod at 0x1e76cf8bc18>,\n",
       "                '_Qa': <staticmethod at 0x1e76cf8b5f8>,\n",
       "                '_Q': <staticmethod at 0x1e76cf8b320>,\n",
       "                'Ncrd': <staticmethod at 0x1e76cf8bd68>,\n",
       "                'Vrdx': <staticmethod at 0x1e76c9836a0>,\n",
       "                'Vrdy': <staticmethod at 0x1e76c983588>,\n",
       "                'Mrx_FLT': <function norma.Nbr8800.Mrx_FLT(self)>,\n",
       "                'Mcrx_FLT': <function norma.Nbr8800.Mcrx_FLT(self, Cb, Lb)>,\n",
       "                '_Mnx_FLT': <staticmethod at 0x1e76c9834a8>,\n",
       "                'Mrx_FLM': <function norma.Nbr8800.Mrx_FLM(self)>,\n",
       "                'Mcrx_FLM': <function norma.Nbr8800.Mcrx_FLM(self)>,\n",
       "                'Mnx_FLM': <function norma.Nbr8800.Mnx_FLM(self)>,\n",
       "                'Mrx_FLA': <function norma.Nbr8800.Mrx_FLA(self)>,\n",
       "                'Mcrx_FLA': <function norma.Nbr8800.Mcrx_FLA(self)>,\n",
       "                'Mnx_FLA': <function norma.Nbr8800.Mnx_FLA(self)>,\n",
       "                'Mrdx': <function norma.Nbr8800.Mrdx(self, Lb, gama_a1=1.1, Cb=1)>,\n",
       "                '__dict__': <attribute '__dict__' of 'Nbr8800' objects>,\n",
       "                '__weakref__': <attribute '__weakref__' of 'Nbr8800' objects>,\n",
       "                '__doc__': None})),\n",
       " ('__dir__', <method '__dir__' of 'object' objects>),\n",
       " ('__doc__', None),\n",
       " ('__eq__', <slot wrapper '__eq__' of 'object' objects>),\n",
       " ('__format__', <method '__format__' of 'object' objects>),\n",
       " ('__ge__', <slot wrapper '__ge__' of 'object' objects>),\n",
       " ('__getattribute__', <slot wrapper '__getattribute__' of 'object' objects>),\n",
       " ('__gt__', <slot wrapper '__gt__' of 'object' objects>),\n",
       " ('__hash__', <slot wrapper '__hash__' of 'object' objects>),\n",
       " ('__init__', <slot wrapper '__init__' of 'object' objects>),\n",
       " ('__init_subclass__', <function Nbr8800.__init_subclass__>),\n",
       " ('__le__', <slot wrapper '__le__' of 'object' objects>),\n",
       " ('__lt__', <slot wrapper '__lt__' of 'object' objects>),\n",
       " ('__module__', 'norma'),\n",
       " ('__ne__', <slot wrapper '__ne__' of 'object' objects>),\n",
       " ('__new__', <function object.__new__(*args, **kwargs)>),\n",
       " ('__reduce__', <method '__reduce__' of 'object' objects>),\n",
       " ('__reduce_ex__', <method '__reduce_ex__' of 'object' objects>),\n",
       " ('__repr__', <slot wrapper '__repr__' of 'object' objects>),\n",
       " ('__setattr__', <slot wrapper '__setattr__' of 'object' objects>),\n",
       " ('__sizeof__', <method '__sizeof__' of 'object' objects>),\n",
       " ('__str__', <slot wrapper '__str__' of 'object' objects>),\n",
       " ('__subclasshook__', <function Nbr8800.__subclasshook__>),\n",
       " ('__weakref__', <attribute '__weakref__' of 'Nbr8800' objects>),\n",
       " ('c_tensao_res', 0.7)]"
      ]
     },
     "execution_count": 132,
     "metadata": {},
     "output_type": "execute_result"
    }
   ],
   "source": [
    "inspect.getmembers(inspect.getmembers(norma)[3][1])"
   ]
  },
  {
   "cell_type": "code",
   "execution_count": null,
   "metadata": {},
   "outputs": [],
   "source": []
  }
 ],
 "metadata": {
  "kernelspec": {
   "display_name": "Python 3",
   "language": "python",
   "name": "python3"
  },
  "language_info": {
   "codemirror_mode": {
    "name": "ipython",
    "version": 3
   },
   "file_extension": ".py",
   "mimetype": "text/x-python",
   "name": "python",
   "nbconvert_exporter": "python",
   "pygments_lexer": "ipython3",
   "version": "3.7.3"
  }
 },
 "nbformat": 4,
 "nbformat_minor": 2
}
