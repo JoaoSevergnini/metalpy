{
 "cells": [
  {
   "cell_type": "code",
   "execution_count": 1,
   "metadata": {},
   "outputs": [],
   "source": [
    "from metalpy.perfis import TuboCir\n",
    "from metalpy.material import Aco"
   ]
  },
  {
   "cell_type": "code",
   "execution_count": 2,
   "metadata": {},
   "outputs": [],
   "source": [
    "aco = Aco(20000, 0.3, 35, 45, 0.6)\n",
    "tubo = TuboCir('TC88.9X8', aco, und = 'cm')"
   ]
  },
  {
   "cell_type": "code",
   "execution_count": 6,
   "metadata": {},
   "outputs": [
    {
     "data": {
      "text/plain": [
       "propriedades_perfil(A=20.3, Ix=168.00000000000003, Iy=168.00000000000003, J=336.0, Wxs=37.8, Wxi=37.8, Wys=37.8, Wyi=37.8, Zx=52.5, Zy=52.5, Awx=10.15, Awy=10.15, xo=0, yo=0, Cw=0.0)"
      ]
     },
     "execution_count": 6,
     "metadata": {},
     "output_type": "execute_result"
    }
   ],
   "source": [
    "tubo.prop()"
   ]
  },
  {
   "cell_type": "code",
   "execution_count": 3,
   "metadata": {},
   "outputs": [
    {
     "data": {
      "text/plain": [
       "propriedades_perfil(A=20.3, Ix=168.0, Iy=168.0, J=336.0, Wxs=37.8, Wxi=37.8, Wys=37.8, Wyi=37.8, Zx=52.5, Zy=52.5, Awx=10.15, Awy=10.15, xo=0, yo=0, Cw=0.0)"
      ]
     },
     "execution_count": 3,
     "metadata": {},
     "output_type": "execute_result"
    }
   ],
   "source": [
    "tubo.prop()"
   ]
  },
  {
   "cell_type": "code",
   "execution_count": 3,
   "metadata": {},
   "outputs": [],
   "source": [
    "dir_path = \"metalpy\\\\perfis\\\\\"\n",
    "\n",
    "try:\n",
    "    \n",
    "    import pandas as pd\n",
    "\n",
    "    perfis_AISC = pd.read_excel( dir_path + 'db-aisc-perfis.xlsx')\n",
    "    perfis_vallourec_ret = pd.read_excel( dir_path + 'db-vallourec-perfis.xlsx')\n",
    "    perfis_vallourec_cir = pd.read_excel( dir_path + 'db-vallourec-perfis.xlsx', 1)\n",
    "\n",
    "    db_perfis = pd.concat([perfis_AISC, perfis_vallourec_cir, perfis_vallourec_ret], sort=False)\n",
    "\n",
    "except ModuleNotFoundError:\n",
    "\n",
    "    import json as js\n",
    "\n",
    "    with open( dir_path + \"db-aisc-perfis.json\") as file:\n",
    "        perfis_AISC = js.load(file)\n",
    "\n",
    "    with open( dir_path  + \"db-vallourec-perfis.json\") as file:\n",
    "        perfis_vallourec = js.load(file)\n",
    "\n",
    "        perfis_vallourec_ret = perfis_vallourec[\"Tubos retangulares\"]\n",
    "        perfis_vallourec_cir = perfis_vallourec[\"Tubos circulares\"]\n",
    "    \n",
    "    db_perfis = perfis_AISC + perfis_vallourec_ret + perfis_vallourec_cir\n",
    "\n",
    "    def encontrar_perfil(nome):\n",
    "        perfil = None\n",
    "        for p in db_perfis:\n",
    "            if p['Nomes'] == nome:\n",
    "                perfil = p\n",
    "                break\n",
    "            else:\n",
    "                pass\n",
    "        return perfil"
   ]
  },
  {
   "cell_type": "code",
   "execution_count": 7,
   "metadata": {},
   "outputs": [
    {
     "data": {
      "text/plain": [
       "1"
      ]
     },
     "execution_count": 7,
     "metadata": {},
     "output_type": "execute_result"
    }
   ],
   "source": [
    "len(db_perfis[db_perfis['Nomes'] == 'TC88.9X8'])"
   ]
  },
  {
   "cell_type": "code",
   "execution_count": 11,
   "metadata": {},
   "outputs": [],
   "source": [
    "perfil = encontrar_perfil('TC88.9X8')"
   ]
  },
  {
   "cell_type": "code",
   "execution_count": 12,
   "metadata": {},
   "outputs": [
    {
     "data": {
      "text/plain": [
       "{'Tipo': 'TC',\n",
       " 'Nomes': 'TC88.9X8',\n",
       " 'D': 88.9,\n",
       " 'tdes': 8,\n",
       " 'D/t': 11.1125,\n",
       " 'W': 16,\n",
       " 'A': 2030,\n",
       " 'Ix': 1.6800000000000002,\n",
       " 'Iy': 1.6800000000000002,\n",
       " 'rx': 28.700000000000003,\n",
       " 'ry': 28.700000000000003,\n",
       " 'Wx': 37.8,\n",
       " 'Wy': 37.8,\n",
       " 'Zx': 52.5,\n",
       " 'Zy': 52.5,\n",
       " 'J': 3360,\n",
       " 'Wt': 75.6,\n",
       " 'U': 0.279}"
      ]
     },
     "execution_count": 12,
     "metadata": {},
     "output_type": "execute_result"
    }
   ],
   "source": [
    "perfil"
   ]
  },
  {
   "cell_type": "code",
   "execution_count": null,
   "metadata": {},
   "outputs": [],
   "source": []
  }
 ],
 "metadata": {
  "kernelspec": {
   "display_name": "Python 3.8.4rc1 ('virt': venv)",
   "language": "python",
   "name": "python3"
  },
  "language_info": {
   "codemirror_mode": {
    "name": "ipython",
    "version": 3
   },
   "file_extension": ".py",
   "mimetype": "text/x-python",
   "name": "python",
   "nbconvert_exporter": "python",
   "pygments_lexer": "ipython3",
   "version": "3.8.4rc1"
  },
  "orig_nbformat": 4,
  "vscode": {
   "interpreter": {
    "hash": "6a723a01e91fc3ffc55a589ff0dbeb165c9adac30ad49a0dbdc9730498a55d74"
   }
  }
 },
 "nbformat": 4,
 "nbformat_minor": 2
}
