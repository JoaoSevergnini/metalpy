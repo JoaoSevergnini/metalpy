{
 "cells": [
  {
   "cell_type": "markdown",
   "metadata": {},
   "source": [
    "Exemplos *Classe TuboCir*\n",
    "-----------------------\n",
    "Este notebook apresenta exemplos de utilização da classe *TuboCir* que representa o perfil metálico do tipo *tubo circular*. Estes exemplos tem por objetivo mostrar como utilizar a biblioteca Metalpy, apresentar algumas funcionalidades e servir como validação dos métodos implementados.\n",
    "\n",
    "Os exemplos apresentados são exemplos já resolvidos obtidos de livros e manuais das seguintes referências:\n",
    "\n",
    "[1] ARAÚJO, AFONSO et al. **Projeto de Estruturas de Edificações com perfis Tubulares em Aço.** Belo Horizonte, 2016.\n",
    "\n",
    "[2] AMERICAN INSTITUTE OF STEEL CONSTRUCTION. AISC 360: **Companion to the AISC steel construction manual - Volume 1: Design Examples.** V15.1, Chicago. Illinois, 2015.\n",
    "\n",
    "-----------------------------------------------------------------------------------------------------------------------------"
   ]
  },
  {
   "cell_type": "code",
   "execution_count": null,
   "metadata": {},
   "outputs": [],
   "source": []
  }
 ],
 "metadata": {
  "kernelspec": {
   "display_name": "Python 3.8.4rc1 64-bit",
   "language": "python",
   "name": "python3"
  },
  "language_info": {
   "name": "python",
   "version": "3.8.4"
  },
  "orig_nbformat": 4,
  "vscode": {
   "interpreter": {
    "hash": "befbcf08969470eadecbcf94d1cd06b44db4fd587aae8870162e2e80c17c9087"
   }
  }
 },
 "nbformat": 4,
 "nbformat_minor": 2
}
