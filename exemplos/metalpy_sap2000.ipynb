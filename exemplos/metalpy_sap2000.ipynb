{
 "cells": [
  {
   "cell_type": "markdown",
   "metadata": {},
   "source": [
    "**MetalPy** + SAP2000\n",
    "-----------------\n",
    "\n",
    "Este notebook apresenta um exemplo de aplicação do pacote **MetalPy**, integrando-o ao software de análise estrutural SAP2000.\n",
    "\n",
    "Neste exemplo **MetalPy** é utilizado para fazer a verificação das barras de um modelo de treliça apresentado na figura 1. A treliça é formada por 33 barras, todas elas constítuidas de perfis tubo retangulares laminados e está submetido a um carregamento de aproximadamente 50kN em cada um de seus nós.\n",
    "\n",
    "<h1 align=\"center\">\n",
    "<img src=\"img\\\\modelo_sap_carregamento.png\">\n",
    "</h1><br>\n",
    "\n",
    "A treliça apresentada é formado por 4 diferentes tipos de perfis como mostrado na figura 2, todos eles de aço ASTM A992:\n",
    "\n",
    "<h1 align=\"center\">\n",
    "<img src=\"img\\\\modelo_sap_secoes.png\">\n",
    "</h1><br>\n",
    "\n",
    " * Barras do banzo superior - perfil TQ160X160X8\n",
    " * Barras do banzo inferior - perfil TQ100X80X8.8\n",
    " * Barras dos motantes - perfil TR150X120X6.4\n",
    " * Barras das diagonais -  perfil TQ100X80X8.8\n",
    "\n",
    "A obtenção dos esforços solicitantes é realizada através da análise estrutural realizado no SAP2000 e a verificação dos perfis é realizada com as funções do pacote **Metalpy** com os critérios de verificação da NBR8800:2008."
   ]
  },
  {
   "cell_type": "code",
   "execution_count": null,
   "metadata": {},
   "outputs": [],
   "source": [
    "#Importação do scrip de inicialização do SAP2000\n",
    "from iniciar_sap import IniciarSAP\n",
    "\n",
    "#Importando as classes necessárias do pacote Metalpy\n",
    "from metalpy.perfis import TuboRet\n",
    "from metalpy.material import Aco\n",
    "from metalpy.normas import NBR8800"
   ]
  },
  {
   "cell_type": "code",
   "execution_count": null,
   "metadata": {},
   "outputs": [],
   "source": [
    "# Iniciando o SAP2000\n",
    "modelo_sap = IniciarSAP()\n",
    "modelo_sap.InitializeNewModel()\n",
    "\n",
    "#Abrindo o Modelo de Analise no Sap\n",
    "FileName = 'C:\\CSiAPIexample\\TreliçaModelo.sdb' #Conferir o Diretório onde o arquivo do Modelo está Salvo\n",
    "ret = modelo_sap.File.OpenFile(FileName)"
   ]
  },
  {
   "cell_type": "code",
   "execution_count": null,
   "metadata": {},
   "outputs": [],
   "source": [
    "# Verificando o se o modelo está com a análise processada\n",
    "if not modelo_sap.GetModelIsLocked():\n",
    "    \n",
    "    # Rodando a análise caso ela não esteja processada\n",
    "    modelo_sap.Analyze.RunAnalysis() "
   ]
  },
  {
   "cell_type": "code",
   "execution_count": 158,
   "metadata": {},
   "outputs": [
    {
     "name": "stdout",
     "output_type": "stream",
     "text": [
      "Barra 1: Ok!  - Nsd/Nrd= 0.9230705616857159\n",
      "Barra 2: Ok!  - Nsd/Nrd= 0.6928467921042042\n",
      "Barra 3: Ok!  - Nsd/Nrd= 0.4619945859832385\n",
      "Barra 4: Ok!  - Nsd/Nrd= 0.2311423798622571\n",
      "Barra 5: Ok!  - Nsd/Nrd= 0.11135980513054947\n",
      "Barra 6: Ok!  - Nsd/Nrd= 0.2311423798622571\n",
      "Barra 7: Ok!  - Nsd/Nrd= 0.4619945859832385\n",
      "Barra 8: Ok!  - Nsd/Nrd= 0.69284679210422\n",
      "Barra 9: Ok!  - Nsd/Nrd= 0.9230705616857295\n",
      "Barra 10: Ok!  - Nsd/Nrd= 2.6652870061667693e-14\n",
      "Barra 11: Ok!  - Nsd/Nrd= 0.4090087974046535\n",
      "Barra 12: Ok!  - Nsd/Nrd= 0.45084859747604183\n",
      "Barra 13: Ok!  - Nsd/Nrd= 0.701157938407974\n",
      "Barra 14: Ok!  - Nsd/Nrd= 0.7728833099589132\n",
      "Barra 15: Ok!  - Nsd/Nrd= 0.8764474230099926\n",
      "Barra 16: Ok!  - Nsd/Nrd= 0.9661041374486314\n",
      "Barra 17: Ok!  - Nsd/Nrd= 0.9348772512106515\n",
      "Barra 18: Ok!  - Nsd/Nrd= 0.9661041374486066\n",
      "Barra 19: Ok!  - Nsd/Nrd= 0.9348772512106515\n",
      "Barra 20: Ok!  - Nsd/Nrd= 0.7728833099588938\n",
      "Barra 21: Ok!  - Nsd/Nrd= 0.8764474230099841\n",
      "Barra 22: Ok!  - Nsd/Nrd= 0.4508485974760218\n",
      "Barra 23: Ok!  - Nsd/Nrd= 0.7011579384079896\n",
      "Barra 24: Ok!  - Nsd/Nrd= 0.0\n",
      "Barra 25: Ok!  - Nsd/Nrd= 0.4090087974046689\n",
      "Barra 30: Ok!  - Nsd/Nrd= 0.11059791903277495\n",
      "Barra 31: Ok!  - Nsd/Nrd= 0.3317937570982278\n",
      "Barra 32: Ok!  - Nsd/Nrd= 0.55298959516374\n",
      "Barra 33: Ok!  - Nsd/Nrd= 0.774185433229242\n",
      "Barra 26: Ok!  - Nsd/Nrd= 0.7741854332292286\n",
      "Barra 27: Ok!  - Nsd/Nrd= 0.5529895951637401\n",
      "Barra 28: Ok!  - Nsd/Nrd= 0.3317937570982373\n",
      "Barra 29: Ok!  - Nsd/Nrd= 0.11059791903273443\n"
     ]
    }
   ],
   "source": [
    "#Obtendo o nome das barras da treliça do SAP2000\n",
    "barras_sap = modelo_sap.FrameObj.GetNameList()[1]\n",
    "\n",
    "for barra in barras_sap:\n",
    "\n",
    "    # -----------------------------\n",
    "    # OBTENÇÃO DOS DADOS DO SAP2000\n",
    "    # -----------------------------\n",
    "\n",
    "    # Obtendo o nome do perfil da barra\n",
    "    perfil = modelo_sap.FrameObj.GetSection(barra)[0]\n",
    "\n",
    "    # Obtendo as propriedades do material da barra\n",
    "    mat_perfil_sap = modelo_sap.PropFrame.GetMaterial(perfil)[0]\n",
    "\n",
    "    E, v = modelo_sap.PropMaterial.GetMPIsotropic(mat_perfil_sap)[:2]\n",
    "    fy, fu = modelo_sap.PropMaterial.GetOSteel_1(mat_perfil_sap)[:2]\n",
    "\n",
    "    # Obtendo o comprimento a as solicitções das barras\n",
    "    modelo_sap.Results.Setup.SetCaseSelectedForOutput(barra)\n",
    "    resultados = modelo_sap.Results.FrameForce(barra, 0)\n",
    "\n",
    "    klx = kly = klz = resultados[2][-1] # Comprimento da barra\n",
    "    Nsd = max(resultados[8]) # Esforço axial na barra\n",
    "\n",
    "    # -------------------------------------\n",
    "    # REALIZANDO A VERIFICAÇÃO COM METALPY\n",
    "    # -------------------------------------\n",
    "\n",
    "    aco = Aco(E, v, fy, fu, 0.6) # Criando o aço correspondente \n",
    "    perfil_mp = TuboRet(perfil, aco, und='cm') # Criando o perfil correspondente\n",
    "\n",
    "    if Nsd > 0:\n",
    "        Nrd = NBR8800.Ntrd_brt(perfil_mp)\n",
    "        \n",
    "    elif Nsd <= 0:\n",
    "        Nrd = NBR8800.Ncrd(perfil_mp, klx, kly, klz)\n",
    "\n",
    "\n",
    "    if Nrd >= abs(Nsd):\n",
    "        print('Barra ' + barra + ': Ok!', ' - Nsd/Nrd=', abs(Nsd / Nrd))\n",
    "\n",
    "    else:\n",
    "        print('Barra ' + barra + ': ** NÃO PASSOU NA VERIFICAÇÃO**',' - Nsd/Nrd=', abs(Nsd / Nrd))"
   ]
  },
  {
   "cell_type": "code",
   "execution_count": null,
   "metadata": {},
   "outputs": [],
   "source": []
  }
 ],
 "metadata": {
  "kernelspec": {
   "display_name": "Python 3.8.4rc1 ('virt': venv)",
   "language": "python",
   "name": "python3"
  },
  "language_info": {
   "codemirror_mode": {
    "name": "ipython",
    "version": 3
   },
   "file_extension": ".py",
   "mimetype": "text/x-python",
   "name": "python",
   "nbconvert_exporter": "python",
   "pygments_lexer": "ipython3",
   "version": "3.8.4"
  },
  "orig_nbformat": 4,
  "vscode": {
   "interpreter": {
    "hash": "6a723a01e91fc3ffc55a589ff0dbeb165c9adac30ad49a0dbdc9730498a55d74"
   }
  }
 },
 "nbformat": 4,
 "nbformat_minor": 2
}
