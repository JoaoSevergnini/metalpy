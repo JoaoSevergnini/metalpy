{
 "cells": [
  {
   "cell_type": "markdown",
   "metadata": {},
   "source": [
    "Exemplos *Classe PerfilILam*\n",
    "-----------------------\n",
    "Este notebook apresenta exemplos de utilização da classe *PerfilILam* que representa o perfil metálico do tipo *I laminado*. Estes exemplos tem por objetivo mostrar como utilizar a biblioteca Metalpy, apresentar algumas funcionalidades e servir como validação dos métodos implementados.\n",
    "\n",
    "Os exemplos apresentados são exemplos já resolvidos obtidos de livros e manuais das seguintes referências:\n",
    "\n",
    "[1] PFEIL, WALTER. **Estruturas de aço: dimensionamento prático.** 9ª Edição. Rio de Janeiro. LTC, 2022.\n",
    "\n",
    "[2] AMERICAN INSTITUTE OF STEEL CONSTRUCTION. AISC 360: **Companion to the AISC steel construction manual - Volume 1: Design Examples.** V15.1, Chicago. Illinois, 2015.\n",
    "\n",
    "-----------------------------------------------------------------------------------------------------------------------------"
   ]
  },
  {
   "cell_type": "markdown",
   "metadata": {},
   "source": [
    "### Exemplo 1\n",
    "\n",
    "Este exemplo é o exercícico 6.5.1.a) dos problemas resolvidos do capitulo 6 de [1], o exercicio trata da obtenção do momento fletor resistênte de um perfil I laminado W530X85. Considera-se o perfil contido lateralmente em toda a sua extensão. Aço MR250."
   ]
  },
  {
   "cell_type": "code",
   "execution_count": 1,
   "metadata": {},
   "outputs": [],
   "source": [
    "from perfis import PerfilILam\n",
    "from material import Aco\n",
    "\n",
    "import pandas as pd\n",
    "\n",
    "#Definindo o aço do tipo MR250 com as propriedades em kN/cm²\n",
    "MR250 = Aco(20000, 0.3, 25, 30, 0.6)\n",
    "\n",
    "#Definindo um perfil I laminado do tipo W com as propriedades em cm\n",
    "W530X85 = PerfilILam('W530X85', MR250, und='cm', norma='NBR8800')"
   ]
  },
  {
   "cell_type": "markdown",
   "metadata": {},
   "source": [
    "Comparação entre os valores de referência e valores obtidos com Metalpy"
   ]
  },
  {
   "cell_type": "code",
   "execution_count": 4,
   "metadata": {},
   "outputs": [
    {
     "data": {
      "text/html": [
       "<div>\n",
       "<style scoped>\n",
       "    .dataframe tbody tr th:only-of-type {\n",
       "        vertical-align: middle;\n",
       "    }\n",
       "\n",
       "    .dataframe tbody tr th {\n",
       "        vertical-align: top;\n",
       "    }\n",
       "\n",
       "    .dataframe thead th {\n",
       "        text-align: right;\n",
       "    }\n",
       "</style>\n",
       "<table border=\"1\" class=\"dataframe\">\n",
       "  <thead>\n",
       "    <tr style=\"text-align: right;\">\n",
       "      <th></th>\n",
       "      <th>Referência</th>\n",
       "      <th>Metalpy</th>\n",
       "    </tr>\n",
       "  </thead>\n",
       "  <tbody>\n",
       "    <tr>\n",
       "      <th>bf/2tf</th>\n",
       "      <td>5.0</td>\n",
       "      <td>5.040000</td>\n",
       "    </tr>\n",
       "    <tr>\n",
       "      <th>h/tw</th>\n",
       "      <td>46.4</td>\n",
       "      <td>46.300000</td>\n",
       "    </tr>\n",
       "    <tr>\n",
       "      <th>Zx (cm³)</th>\n",
       "      <td>2100.0</td>\n",
       "      <td>2110.000000</td>\n",
       "    </tr>\n",
       "    <tr>\n",
       "      <th>Mrdx(kN.cm)</th>\n",
       "      <td>47730.0</td>\n",
       "      <td>47954.545455</td>\n",
       "    </tr>\n",
       "  </tbody>\n",
       "</table>\n",
       "</div>"
      ],
      "text/plain": [
       "             Referência       Metalpy\n",
       "bf/2tf              5.0      5.040000\n",
       "h/tw               46.4     46.300000\n",
       "Zx (cm³)         2100.0   2110.000000\n",
       "Mrdx(kN.cm)     47730.0  47954.545455"
      ]
     },
     "execution_count": 4,
     "metadata": {},
     "output_type": "execute_result"
    }
   ],
   "source": [
    "#Respostas do exercicio\n",
    "r_esb_mesa = 5 # Esbeltez da mesa\n",
    "r_esb_alma = 46.4 # Esbeltez da alma\n",
    "r_Zx = 2100 # Módulo plástico\n",
    "r_Mrdx = 47730 #Momento resistênte\n",
    "\n",
    "#Respostas com Metalpy\n",
    "mp_esb_mesa = W530X85.esb_mesa\n",
    "mp_esb_alma =  W530X85.esb_alma\n",
    "mp_Zx = W530X85.Zx\n",
    "# Obtendo o momento fletor resistente em relação ao eixo X(maior inércia)\n",
    "Mrdx, dados_FLT, dados_FLM, dados_FLA = W530X85.Mrdx(Lb=0, Cb=1, data=True)\n",
    "\n",
    "columns = 'Referência Metalpy'.split()\n",
    "index = ['bf/2tf', 'h/tw', 'Zx (cm³)', 'Mrdx(kN.cm)']\n",
    "data = zip([r_esb_mesa, r_esb_alma, r_Zx, r_Mrdx], [ mp_esb_mesa, mp_esb_alma, mp_Zx, Mrdx])\n",
    "\n",
    "df = pd.DataFrame(data,index=index,columns=columns)\n",
    "df"
   ]
  },
  {
   "cell_type": "code",
   "execution_count": 5,
   "metadata": {},
   "outputs": [],
   "source": [
    "# Verificação\n",
    "tol = 0.02 #tolerência de 2% de erro\n",
    "\n",
    "assert min(r_Mrdx, Mrdx)/ max(r_Mrdx, Mrdx) >= 1 - tol, 'Valor do momento resistênte excede o tolerência'"
   ]
  },
  {
   "cell_type": "markdown",
   "metadata": {},
   "source": [
    "-------------------------------------------------------------------------------------------------------------------------\n",
    "Exemplo 2\n",
    "---------------\n",
    "Exemplo E.1D de [3]. Determinação da força axial de compressão resistênte de uma coluna formada por um perfil W19X90 (equivalente ao W360X134 em mm e kg/m) através dos critérios de cálculo da AISC360-16. A coluna é constituida de aço ASTM A992 e comprimento 15ft (457.2 cm). As parâmetros geométricos do perfil estão apresentados abaixo:\n",
    "\n",
    "* Ag = 26.5 in²\n",
    "* rx = 6.14 in\n",
    "* ry = 3.70 in\n",
    "* bf/2tf = 10.2\n",
    "* h/tw = 25.9\n",
    "\n",
    "*Obs: O exemplo será resolvido em unidades de comprimento em **cm** e de força em **kN**, e os resultados serão convertidos posteriormente para unidades de **in** e **kips***"
   ]
  },
  {
   "cell_type": "code",
   "execution_count": 6,
   "metadata": {},
   "outputs": [],
   "source": [
    "from perfis import PerfilI\n",
    "from normas import AISC360\n",
    "from material import Aco\n",
    "\n",
    "#Unidades para conversão\n",
    "in_to_cm = 2.54\n",
    "cm_to_in = 0.394\n",
    "ft_to_cm = 30.48\n",
    "kN_cm2_to_ksi = 1.4504\n",
    "ksi_to_kN_cm2 = 1 / 1.4504\n",
    "ft_to_cm = 30.48\n",
    "kN_to_kips = 0.225\n",
    "\n",
    "#Definição do Aço com as propriedades em ksi sendo convertidas para kN/cm²\n",
    "E = 29000 * ksi_to_kN_cm2 \n",
    "fy = 50 * ksi_to_kN_cm2\n",
    "fu = 65 * ksi_to_kN_cm2\n",
    "v = 0.3\n",
    "\n",
    "#Definindo um aço ASTM A992 em unidades de kN/cm²\n",
    "A992 = Aco(E, v, fy, fu, 0.6)\n",
    "\n",
    "#Definindo um perfil W360X134 em unidades de cm\n",
    "W360X134 = PerfilILam('W360X134', A992, und='cm', norma='AISC360')"
   ]
  },
  {
   "cell_type": "markdown",
   "metadata": {},
   "source": [
    "Comparação entre os valores de referência e valores obtidos com Metalpy"
   ]
  },
  {
   "cell_type": "code",
   "execution_count": 18,
   "metadata": {},
   "outputs": [
    {
     "data": {
      "text/html": [
       "<div>\n",
       "<style scoped>\n",
       "    .dataframe tbody tr th:only-of-type {\n",
       "        vertical-align: middle;\n",
       "    }\n",
       "\n",
       "    .dataframe tbody tr th {\n",
       "        vertical-align: top;\n",
       "    }\n",
       "\n",
       "    .dataframe thead th {\n",
       "        text-align: right;\n",
       "    }\n",
       "</style>\n",
       "<table border=\"1\" class=\"dataframe\">\n",
       "  <thead>\n",
       "    <tr style=\"text-align: right;\">\n",
       "      <th></th>\n",
       "      <th>Referência</th>\n",
       "      <th>Metalpy</th>\n",
       "    </tr>\n",
       "  </thead>\n",
       "  <tbody>\n",
       "    <tr>\n",
       "      <th>A (in²)</th>\n",
       "      <td>26.50</td>\n",
       "      <td>26.545356</td>\n",
       "    </tr>\n",
       "    <tr>\n",
       "      <th>bf/2tf</th>\n",
       "      <td>10.20</td>\n",
       "      <td>10.200000</td>\n",
       "    </tr>\n",
       "    <tr>\n",
       "      <th>h/tw</th>\n",
       "      <td>25.90</td>\n",
       "      <td>25.900000</td>\n",
       "    </tr>\n",
       "    <tr>\n",
       "      <th>ry (in)</th>\n",
       "      <td>3.70</td>\n",
       "      <td>3.702428</td>\n",
       "    </tr>\n",
       "    <tr>\n",
       "      <th>rx (in)</th>\n",
       "      <td>6.14</td>\n",
       "      <td>6.145325</td>\n",
       "    </tr>\n",
       "    <tr>\n",
       "      <th>Fe (ksi)</th>\n",
       "      <td>83.30</td>\n",
       "      <td>83.276512</td>\n",
       "    </tr>\n",
       "    <tr>\n",
       "      <th>Fcr (ksi)</th>\n",
       "      <td>38.90</td>\n",
       "      <td>38.889389</td>\n",
       "    </tr>\n",
       "    <tr>\n",
       "      <th>Ncrd (kips)</th>\n",
       "      <td>927.00</td>\n",
       "      <td>928.462721</td>\n",
       "    </tr>\n",
       "  </tbody>\n",
       "</table>\n",
       "</div>"
      ],
      "text/plain": [
       "             Referência     Metalpy\n",
       "A (in²)           26.50   26.545356\n",
       "bf/2tf            10.20   10.200000\n",
       "h/tw              25.90   25.900000\n",
       "ry (in)            3.70    3.702428\n",
       "rx (in)            6.14    6.145325\n",
       "Fe (ksi)          83.30   83.276512\n",
       "Fcr (ksi)         38.90   38.889389\n",
       "Ncrd (kips)      927.00  928.462721"
      ]
     },
     "execution_count": 18,
     "metadata": {},
     "output_type": "execute_result"
    }
   ],
   "source": [
    "#Respostas do exercicio\n",
    "r_A = 26.5 # Área total\n",
    "r_esb_mesa = 10.2 # Esbeltez da mesa\n",
    "r_esb_alma =  25.9 # Esbeltez da alma\n",
    "r_ry = 3.7 # Raio de giração em Y\n",
    "r_rx = 6.14 # Raio de giração em X\n",
    "r_Fe = 83.3 # Tensão critica de flambagem\n",
    "r_Fcr = 38.9 # Tensão crítica\n",
    "r_Ncrd = 927 # Força axial resistênte de cálculo pela AISC\n",
    "\n",
    "#Respostas com Metalpy\n",
    "mp_A =  W360X134.A * cm_to_in ** 2\n",
    "mp_esb_mesa = W360X134.esb_mesa\n",
    "mp_esb_alma = W360X134.esb_alma\n",
    "mp_ry = W360X134.ry * cm_to_in\n",
    "mp_rx = W360X134.rx * cm_to_in\n",
    "\n",
    "\n",
    "# Calculando a força axial resistênte de cálculo através do método Ncrd e obtendo os dados do cálculo\n",
    "Lx = 30 * ft_to_cm\n",
    "Ly = 15 * ft_to_cm\n",
    "Lz = 1\n",
    "Ncrd, dados = W360X134.Ncrd(Lx, Ly, 1, data=True)\n",
    "mp_Ncrd = Ncrd * kN_to_kips\n",
    "mp_Fe = dados.Fe * kN_cm2_to_ksi\n",
    "mp_Fcr = dados.Fcr * kN_cm2_to_ksi\n",
    "\n",
    "columns = 'Referência Metalpy'.split()\n",
    "index = ['A (in²)', 'bf/2tf', 'h/tw', 'ry (in)', 'rx (in)', 'Fe (ksi)', 'Fcr (ksi)', 'Ncrd (kips)']\n",
    "data = zip([r_A, r_esb_mesa, r_esb_alma, r_ry, r_rx, r_Fe, r_Fcr, r_Ncrd], [ mp_A, mp_esb_mesa, mp_esb_alma, mp_ry, mp_rx, mp_Fe, mp_Fcr, mp_Ncrd])\n",
    "\n",
    "df = pd.DataFrame(data,index=index,columns=columns)\n",
    "df"
   ]
  },
  {
   "cell_type": "code",
   "execution_count": 13,
   "metadata": {},
   "outputs": [],
   "source": [
    "# Verificação\n",
    "tol = 0.01 #tolerência de 1% de erro\n",
    "\n",
    "assert min(r_Ncrd, mp_Ncrd)/ max(r_Ncrd, mp_Ncrd) >= 1 - tol, 'Valor da força axial resistênte excede a tolerância'"
   ]
  },
  {
   "cell_type": "markdown",
   "metadata": {},
   "source": [
    "-------------------------------------------------------------------------------------------------------------------------\n",
    "Exemplo 3\n",
    "---------------\n",
    "Exemplo F.1 de [3]. Determinação do momento fletor resistênte de cálculo de uma viga formada por um perfil W18X50 (equivalente ao W460X74 em mm e kg/m) através dos critérios de cálculo da AISC360-16. A coluna é constituida de aço ASTM A992 e comprimento 15ft (457.2 cm). Considera-se três casos de ctravamento lateral:\n",
    "\n",
    "* 1A - Viga contida em todo seu comprimento (Lb=0)\n",
    "* 2A - Viga travada a cada 1/3 do seu comprimento (Lb=11.67 in (355.6 cm))\n",
    "* 3A - Viga travada no centro (Lb=17.5 in (533.4 cm))\n",
    "\n",
    "*Obs: O exemplo será resolvido em unidades de comprimento em **cm** e de força em **kN**, e os resultados serão convertidos posteriormente para unidades de **in** e **kips***"
   ]
  },
  {
   "cell_type": "code",
   "execution_count": 17,
   "metadata": {},
   "outputs": [],
   "source": [
    "from perfis import PerfilI\n",
    "from normas import AISC360\n",
    "from material import Aco\n",
    "\n",
    "#Unidades para conversão\n",
    "in_to_cm = 2.54\n",
    "cm_to_in = 0.394\n",
    "ft_to_cm = 30.48\n",
    "kN_cm2_to_ksi = 1.4504\n",
    "ksi_to_kN_cm2 = 1 / 1.4504\n",
    "ft_to_cm = 30.48\n",
    "kN_to_kips = 0.225\n",
    "\n",
    "#Definição do Aço com as propriedades em ksi sendo convertidas para kN/cm²\n",
    "E = 29000 * ksi_to_kN_cm2 \n",
    "fy = 50 * ksi_to_kN_cm2\n",
    "fu = 65 * ksi_to_kN_cm2\n",
    "v = 0.3\n",
    "\n",
    "#Definindo um aço ASTM A992 em unidades de kN/cm²\n",
    "A992 = Aco(E, v, fy, fu, 0.6)\n",
    "\n",
    "#Definindo um perfil W460X74\n",
    "W460X74 = PerfilILam('W460X74', A992, und='cm', norma='AISC360')"
   ]
  },
  {
   "cell_type": "markdown",
   "metadata": {},
   "source": [
    "Comparação entre os valores de referência e valores obtidos com Metalpy"
   ]
  },
  {
   "cell_type": "code",
   "execution_count": null,
   "metadata": {},
   "outputs": [],
   "source": [
    "#Respostas do exercicio\n",
    "r_A = 26.5 # Área total\n",
    "r_esb_mesa = 10.2 # Esbeltez da mesa\n",
    "r_esb_alma =  25.9 # Esbeltez da alma\n",
    "r_ry = 3.7 # Raio de giração em Y\n",
    "r_rx = 6.14 # Raio de giração em X\n",
    "r_Fe = 83.3 # Tensão critica de flambagem\n",
    "r_Fcr = 38.9 # Tensão crítica\n",
    "r_Ncrd = 927 # Força axial resistênte de cálculo pela AISC\n",
    "\n",
    "#Respostas com Metalpy\n",
    "mp_A =  W360X134.A * cm_to_in ** 2\n",
    "mp_esb_mesa = W360X134.esb_mesa\n",
    "mp_esb_alma = W360X134.esb_alma\n",
    "mp_ry = W360X134.ry * cm_to_in\n",
    "mp_rx = W360X134.rx * cm_to_in\n",
    "\n",
    "\n",
    "# Calculando a força axial resistênte de cálculo através do método Ncrd e obtendo os dados do cálculo\n",
    "Lx = 30 * ft_to_cm\n",
    "Ly = 15 * ft_to_cm\n",
    "Lz = 1\n",
    "Ncrd, dados = W360X134.Ncrd(Lx, Ly, 1, data=True)\n",
    "mp_Ncrd = Ncrd * kN_to_kips\n",
    "mp_Fe = dados.Fe * kN_cm2_to_ksi\n",
    "mp_Fcr = dados.Fcr * kN_cm2_to_ksi\n",
    "\n",
    "columns = 'Referência Metalpy'.split()\n",
    "index = ['A (in²)', 'bf/2tf', 'h/tw', 'ry (in)', 'rx (in)', 'Fe (ksi)', 'Fcr (ksi)', 'Ncrd (kips)']\n",
    "data = zip([r_A, r_esb_mesa, r_esb_alma, r_ry, r_rx, r_Fe, r_Fcr, r_Ncrd], [ mp_A, mp_esb_mesa, mp_esb_alma, mp_ry, mp_rx, mp_Fe, mp_Fcr, mp_Ncrd])\n",
    "\n",
    "df = pd.DataFrame(data,index=index,columns=columns)\n",
    "df"
   ]
  }
 ],
 "metadata": {
  "kernelspec": {
   "display_name": "Python 3.7.3 ('base')",
   "language": "python",
   "name": "python3"
  },
  "language_info": {
   "codemirror_mode": {
    "name": "ipython",
    "version": 3
   },
   "file_extension": ".py",
   "mimetype": "text/x-python",
   "name": "python",
   "nbconvert_exporter": "python",
   "pygments_lexer": "ipython3",
   "version": "3.7.3"
  },
  "orig_nbformat": 4,
  "vscode": {
   "interpreter": {
    "hash": "edf54ad24ebfb5fa8d28ab7d9e358dbacd9f36fc2103704bbb673ffd32c4b39f"
   }
  }
 },
 "nbformat": 4,
 "nbformat_minor": 2
}
