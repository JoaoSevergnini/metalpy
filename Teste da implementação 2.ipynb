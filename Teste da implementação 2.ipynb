{
 "cells": [
  {
   "cell_type": "code",
   "execution_count": 1,
   "metadata": {},
   "outputs": [],
   "source": [
    "from perfis import *\n",
    "from normas._nbr8800 import Nbr8800\n",
    "from normas._aisc import AISC360\n",
    "from material import AcoNBR8800\n",
    "from types import MethodType"
   ]
  },
  {
   "cell_type": "code",
   "execution_count": null,
   "metadata": {},
   "outputs": [],
   "source": []
  },
  {
   "cell_type": "code",
   "execution_count": 2,
   "metadata": {},
   "outputs": [],
   "source": [
    "def carregar_metodos(perfil, norma):\n",
    "    metodos = ('Ncrd', 'Ntrd_brt', 'Vrdx', 'Vrdy', 'Mrdx', 'Mrdy')\n",
    "    normas = {'Nbr8800': Nbr8800, 'AISC360': AISC360}\n",
    "    for metodo in metodos:\n",
    "        perfil.__setattr__(metodo, MethodType(getattr(Nbr8800, metodo), perfil))"
   ]
  },
  {
   "cell_type": "code",
   "execution_count": 3,
   "metadata": {},
   "outputs": [],
   "source": [
    "aco_35_40 = AcoNBR8800(345, 415)\n",
    "nome_p = 'W530X74'\n",
    "perfil = PerfilILam(nome_p, aco_35_40)"
   ]
  },
  {
   "cell_type": "code",
   "execution_count": 4,
   "metadata": {},
   "outputs": [
    {
     "name": "stdout",
     "output_type": "stream",
     "text": [
      "(2583982.8118891204, Ncrd_dados(Ne=20528777154265.863, ier=0.00039914636269928864, Chi=0.999999942048198, Q=0.8690702800095238))\n",
      "(2624575.4143292713, Ncrd_dados(Fe=2165482822.1799436, Fy_Fe=1.5931781885607208e-07, Fcr=344.9999769945284, Aef=8452.739418172632))\n"
     ]
    }
   ],
   "source": [
    "print(Nbr8800.Ncrd(perfil, 1, 1, 1, data = True))\n",
    "print(AISC360.Ncrd(perfil, 1, 1, 1, data = True))"
   ]
  },
  {
   "cell_type": "code",
   "execution_count": 5,
   "metadata": {},
   "outputs": [
    {
     "name": "stdout",
     "output_type": "stream",
     "text": [
      "849678.5454545454\n",
      "841181.76\n"
     ]
    }
   ],
   "source": [
    "print(Nbr8800.Vrdx(perfil))\n",
    "print(AISC360.Vrdx(perfil))"
   ]
  },
  {
   "cell_type": "code",
   "execution_count": null,
   "metadata": {},
   "outputs": [],
   "source": []
  },
  {
   "cell_type": "markdown",
   "metadata": {},
   "source": [
    " Exemplo 1\n",
    "---------------\n",
    "Exercicio 3.7.1 e 3.7.2 do livro ***Projeto de estruturas de Edificações com perfis Tubulates de Aço*** pag.176"
   ]
  },
  {
   "cell_type": "code",
   "execution_count": 12,
   "metadata": {},
   "outputs": [
    {
     "data": {
      "text/plain": [
       "(565.0403789408305,\n",
       " Ncrd_dados(Ne=708.7165528334247, ier=18.00689051654006, Chi=0.0027047189592467958, Q=1))"
      ]
     },
     "execution_count": 12,
     "metadata": {},
     "output_type": "execute_result"
    }
   ],
   "source": [
    "#Definição do Aço\n",
    "VMB300 = Aco(20000, 0.3, 30, 41.5, 0.6)\n",
    "L = 2500 #mm\n",
    "TUBO_C = TuboCir('TC168.3X16', VMB300)\n",
    "\n",
    "carregar_metodos(TUBO_C, 'Nbr8800')\n",
    "\n",
    "TUBO_C.Ncrd(L, L, L, data = True)"
   ]
  },
  {
   "cell_type": "markdown",
   "metadata": {},
   "source": [
    " Exemplo 2\n",
    "---------------\n",
    "Exercicio 3.7.4 do livro ***Projeto de estruturas de Edificações com perfis Tubulates de Aço*** pag.181"
   ]
  },
  {
   "cell_type": "code",
   "execution_count": 18,
   "metadata": {},
   "outputs": [
    {
     "data": {
      "text/plain": [
       "16152.272727272726"
      ]
     },
     "execution_count": 18,
     "metadata": {},
     "output_type": "execute_result"
    }
   ],
   "source": [
    "#Definição do Aço\n",
    "A572 = Aco(200, 0.03, 0.345, 0.450, 0.6)\n",
    "L = 8000 #mm\n",
    "TUBO_R = TuboRet('TR300X200X6.4', A572)\n",
    "\n",
    "carregar_metodos(TUBO_R, 'Nbr8800')\n",
    "\n",
    "TUBO_R.Mrdx(Lb = 8000, Cb = 1) / 10"
   ]
  },
  {
   "cell_type": "code",
   "execution_count": 19,
   "metadata": {},
   "outputs": [
    {
     "data": {
      "text/plain": [
       "{'A': 5870.0,\n",
       " 'Ix': 77320000.0,\n",
       " 'Iy': 41610000.0,\n",
       " 'J': 8650000.0,\n",
       " 'Wxs': 515000.0,\n",
       " 'Wxi': 515000.0,\n",
       " 'Wyi': 416000.0,\n",
       " 'Wys': 416000.0,\n",
       " 'Zx': 619000.0,\n",
       " 'Zy': 470000.0,\n",
       " 'Awx': 3676.16,\n",
       " 'Awy': 2396.16,\n",
       " 'xo': 0,\n",
       " 'yo': 0,\n",
       " 'Cw': 0}"
      ]
     },
     "execution_count": 19,
     "metadata": {},
     "output_type": "execute_result"
    }
   ],
   "source": [
    "TUBO_R.prop_geo()"
   ]
  },
  {
   "cell_type": "code",
   "execution_count": 6,
   "metadata": {},
   "outputs": [
    {
     "data": {
      "text/plain": [
       "(653.1818007272727,\n",
       " Vrdy_dados(Vpl=718.4999808, kv=5, elp=59.222009226398214, elr=73.75832058196869))"
      ]
     },
     "execution_count": 6,
     "metadata": {},
     "output_type": "execute_result"
    }
   ],
   "source": [
    "TUBO_R.Vrdy(data = True)"
   ]
  },
  {
   "cell_type": "code",
   "execution_count": 8,
   "metadata": {},
   "outputs": [
    {
     "data": {
      "text/plain": [
       "18504.54545454545"
      ]
     },
     "execution_count": 8,
     "metadata": {},
     "output_type": "execute_result"
    }
   ],
   "source": [
    "TUBO_R.Mrdx(Lb = 10000, Cb = 1.24) / 10"
   ]
  },
  {
   "cell_type": "code",
   "execution_count": null,
   "metadata": {},
   "outputs": [],
   "source": []
  },
  {
   "cell_type": "markdown",
   "metadata": {},
   "source": [
    "Exemplo 3\n",
    "---------\n",
    "Exercicio 3.7.7 do livro ***Projeto de estruturas de Edificações com perfis Tubulates de Aço*** pag.190"
   ]
  },
  {
   "cell_type": "code",
   "execution_count": 21,
   "metadata": {},
   "outputs": [],
   "source": [
    "#Definição do Aço\n",
    "A572 = Aco(200, 0.03, 0.345, 0.450, 0.6)\n",
    "L = 8000 #mm\n",
    "TC320X6 = TuboCir('TC323.8X6.4', A572)\n",
    "\n",
    "carregar_metodos(TC320X6, 'Nbr8800')"
   ]
  },
  {
   "cell_type": "code",
   "execution_count": 5,
   "metadata": {},
   "outputs": [
    {
     "data": {
      "text/plain": [
       "17714.862888482632"
      ]
     },
     "execution_count": 5,
     "metadata": {},
     "output_type": "execute_result"
    }
   ],
   "source": [
    "TC320X6.Mrdx(1)/10"
   ]
  },
  {
   "cell_type": "code",
   "execution_count": 12,
   "metadata": {},
   "outputs": [
    {
     "data": {
      "text/plain": [
       "556.0772727272727"
      ]
     },
     "execution_count": 12,
     "metadata": {},
     "output_type": "execute_result"
    }
   ],
   "source": [
    "TC320X6.Vrdy(a=4000)"
   ]
  },
  {
   "cell_type": "code",
   "execution_count": 17,
   "metadata": {},
   "outputs": [],
   "source": [
    "FATOR_CONVERSAO_METRICO = {'mm': 1, 'cm': 10, 'm':1000}\n",
    "FATOR_CONVERSAO_FORCA = {'kN': 1, 'N' : 1000, 'MN':1000, 'tf' : 0.102041, 'kgf': 102.041}"
   ]
  },
  {
   "cell_type": "code",
   "execution_count": 15,
   "metadata": {},
   "outputs": [
    {
     "data": {
      "text/plain": [
       "102.0408163265306"
      ]
     },
     "execution_count": 15,
     "metadata": {},
     "output_type": "execute_result"
    }
   ],
   "source": [
    "1000/9.8"
   ]
  },
  {
   "cell_type": "code",
   "execution_count": null,
   "metadata": {},
   "outputs": [],
   "source": []
  }
 ],
 "metadata": {
  "kernelspec": {
   "display_name": "Python 3",
   "language": "python",
   "name": "python3"
  },
  "language_info": {
   "codemirror_mode": {
    "name": "ipython",
    "version": 3
   },
   "file_extension": ".py",
   "mimetype": "text/x-python",
   "name": "python",
   "nbconvert_exporter": "python",
   "pygments_lexer": "ipython3",
   "version": "3.7.3"
  }
 },
 "nbformat": 4,
 "nbformat_minor": 2
}
