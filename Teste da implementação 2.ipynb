{
 "cells": [
  {
   "cell_type": "code",
   "execution_count": 1,
   "metadata": {
    "pycharm": {
     "name": "#%%\n"
    }
   },
   "outputs": [],
   "source": [
    "from perfis import *\n",
    "from normas import NBR8800\n",
    "from normas import AISC360\n",
    "from material import AcoNBR8800, Aco"
   ]
  },
  {
   "cell_type": "code",
   "execution_count": 2,
   "metadata": {},
   "outputs": [],
   "source": [
    "perfil2 = PerfilILam('W530X74', AcoNBR8800(345,415), und = 'cm', norma = 'NBR8800')"
   ]
  },
  {
   "cell_type": "code",
   "execution_count": 2,
   "metadata": {
    "pycharm": {
     "name": "#%%\n"
    }
   },
   "outputs": [],
   "source": [
    "aco_35_40 = Aco(20000, 0.3, 34.5, 41.5, 0.6)\n",
    "nome_p = 'W530X74'\n",
    "perfil = PerfilILam(nome_p, aco_35_40, und='cm')"
   ]
  },
  {
   "cell_type": "code",
   "execution_count": null,
   "metadata": {},
   "outputs": [],
   "source": [
    "print(NBR8800.Ntrd_brt(perfil, data = True))\n",
    "print(AISC360.Ntrd_brt(perfil, data = True))"
   ]
  },
  {
   "cell_type": "code",
   "execution_count": 7,
   "metadata": {
    "pycharm": {
     "name": "#%%\n"
    }
   },
   "outputs": [
    {
     "name": "stdout",
     "output_type": "stream",
     "text": [
      "(2594.7335236004565, Ncrd_dados(Ncrk=2854.206875960502, A=94.8, fy=34.5, Ne=205287771.54265866, ier1=0.003991463626992886, Chi1=0.9999933317693858, ier2=0.0037287429693665607, Chi2=0.9999941806920734, Q=0.8726910920216034))\n",
      "(2624.567375623642, Ncrd_dados(Ncrk=2916.1859729151574, A=94.8, Fy=34.5, Fe=2165482.822179944, Fy_Fe=1.5931781885607207e-05, Fcr=34.499769946043806, Aef=84.52769329986693))\n"
     ]
    }
   ],
   "source": [
    "print(NBR8800.Ncrd(perfil, 1, 1, 1, data = True))\n",
    "print(AISC360.Ncrd(perfil, 1, 1, 1, data = True))"
   ]
  },
  {
   "cell_type": "code",
   "execution_count": 8,
   "metadata": {},
   "outputs": [
    {
     "data": {
      "text/plain": [
       "82.73101199999999"
      ]
     },
     "execution_count": 8,
     "metadata": {},
     "output_type": "execute_result"
    }
   ],
   "source": []
  },
  {
   "cell_type": "code",
   "execution_count": 5,
   "metadata": {
    "pycharm": {
     "name": "#%%\n"
    }
   },
   "outputs": [
    {
     "name": "stdout",
     "output_type": "stream",
     "text": [
      "849678.5454545454\n",
      "841181.76\n"
     ]
    }
   ],
   "source": [
    "print(Nbr8800.Vrdx(perfil))\n",
    "print(AISC360.Vrdx(perfil))"
   ]
  },
  {
   "cell_type": "markdown",
   "metadata": {
    "pycharm": {
     "name": "#%% md\n"
    }
   },
   "source": [
    " Exemplo 1\n",
    "---------------\n",
    "Exercicio 3.7.1 e 3.7.2 do livro ***Projeto de estruturas de Edificações com perfis Tubulates de Aço*** pag.176"
   ]
  },
  {
   "cell_type": "code",
   "execution_count": 2,
   "metadata": {
    "pycharm": {
     "name": "#%%\n"
    }
   },
   "outputs": [
    {
     "data": {
      "text/plain": [
       "(2018.3374718324114,\n",
       " Ncrd_dados(Ncrk=2220.1712190156527, A=76.6, fy=30, Ne=7087.165528334247, ier1=0.5694278760955249, Chi1=0.9661319490929734, ier2=0.5694278760955249, Chi2=0.9661319490929734, Q=1))"
      ]
     },
     "execution_count": 2,
     "metadata": {},
     "output_type": "execute_result"
    }
   ],
   "source": [
    "from perfis import TuboCir\n",
    "from material import Aco\n",
    "\n",
    "#Definição do Aço\n",
    "VMB300 = Aco(20000, 0.3, 30, 41.5, 0.6) #kN/cm²\n",
    "L = 250 #cm\n",
    "TUBO_C_nbr = TuboCir('TC168.3X16', VMB300, und = 'cm', norma = 'NBR8800')\n",
    "TUBO_C_nbr.Ncrd(L, L, L,  data = True)"
   ]
  },
  {
   "cell_type": "code",
   "execution_count": 3,
   "metadata": {},
   "outputs": [
    {
     "data": {
      "text/plain": [
       "(1805.7292128588929,\n",
       " Ncrd_dados(Ncrk=2006.3657920654364, A=76.6, Fy=30, Fe=92.52174318974214, Fy_Fe=0.3242481060746604, Fcr=26.19276490947045, Aef=76.6))"
      ]
     },
     "execution_count": 3,
     "metadata": {},
     "output_type": "execute_result"
    }
   ],
   "source": [
    "TUBO_C_aisc = TuboCir('TC168.3X16', VMB300, und = 'cm', norma = 'AISC360')\n",
    "TUBO_C_aisc.Ncrd(L, L, L,  data = True)"
   ]
  },
  {
   "cell_type": "code",
   "execution_count": 2,
   "metadata": {},
   "outputs": [
    {
     "data": {
      "text/plain": [
       "(1536.3291267119168,\n",
       " Ncrd_dados(Ncrk=1689.9620393831087, A=58.1, fy=30, Ne=5653.309400943984, ier1=0.5552611857877148, Chi1=0.9695708774429769, ier2=0.5552611857877148, Chi2=0.9695708774429769, Q=1))"
      ]
     },
     "execution_count": 2,
     "metadata": {},
     "output_type": "execute_result"
    }
   ],
   "source": [
    "HSS = TuboCir(\"HSS168.3X12.7\", VMB300, und = 'cm', norma = \"NBR8800\")\n",
    "HSS.Ncrd(L, L, L, data=True)"
   ]
  },
  {
   "cell_type": "markdown",
   "metadata": {
    "pycharm": {
     "name": "#%% md\n"
    }
   },
   "source": [
    " Exemplo 2\n",
    "---------------\n",
    "Exercicio 3.7.4 do livro ***Projeto de estruturas de Edificações com perfis Tubulates de Aço*** pag.181"
   ]
  },
  {
   "cell_type": "code",
   "execution_count": 1,
   "metadata": {
    "pycharm": {
     "name": "#%%\n"
    }
   },
   "outputs": [
    {
     "data": {
      "text/plain": [
       "(19383.702289380166,\n",
       " ELU_FLT_dados(esb=95.01893966203009, elp=86.75423973578022, elr=2291.7262091730695, Mn=21322.072518318186),\n",
       " ELU_FLM_dados(esb_mesa=26.25, elp=26.966431091212304, elr=33.70803886401537, Mn=21355.5),\n",
       " ELU_FLA_dados(esb_alma=41.875, elp=58.26675289351229, elr=137.2398725177769, Mn=21355.5))"
      ]
     },
     "execution_count": 1,
     "metadata": {},
     "output_type": "execute_result"
    }
   ],
   "source": [
    "from perfis import TuboRet\n",
    "from material import Aco\n",
    "\n",
    "#Definição do Aço com a propriedades em kN/cm²\n",
    "A572 = Aco(20000, 0.3, 34.5, 45.0, 0.6)\n",
    "L = 800 #cm\n",
    "TUBO_R = TuboRet('TR300X200X6.4', A572, und='cm', norma='NBR8800')\n",
    "\n",
    "TUBO_R.Mrdx(Lb = L, Cb = 1, data=True)"
   ]
  },
  {
   "cell_type": "markdown",
   "metadata": {},
   "source": [
    "Determinação da força cortante resistente de calculo Vrdy"
   ]
  },
  {
   "cell_type": "code",
   "execution_count": 2,
   "metadata": {
    "pycharm": {
     "name": "#%%\n"
    }
   },
   "outputs": [
    {
     "name": "stdout",
     "output_type": "stream",
     "text": [
      "41.875\n"
     ]
    },
    {
     "data": {
      "text/plain": [
       "(691.7864727272727,\n",
       " Vrdy_dados(Vpl=760.96512, kv=5, elp=59.222009226398214, elr=73.75832058196869))"
      ]
     },
     "execution_count": 2,
     "metadata": {},
     "output_type": "execute_result"
    }
   ],
   "source": [
    "print(TUBO_R.esb_alma)\n",
    "TUBO_R.Vrdy(data = True)"
   ]
  },
  {
   "cell_type": "markdown",
   "metadata": {},
   "source": [
    "Exercicio 3.7.4"
   ]
  },
  {
   "cell_type": "code",
   "execution_count": 3,
   "metadata": {
    "pycharm": {
     "name": "#%%\n"
    }
   },
   "outputs": [
    {
     "data": {
      "text/plain": [
       "(19414.090909090908,\n",
       " ELU_FLT_dados(esb=118.77367457753762, elp=86.75423973578022, elr=2291.7262091730695, Mn=21355.5),\n",
       " ELU_FLM_dados(esb_mesa=26.25, elp=26.966431091212304, elr=33.70803886401537, Mn=21355.5),\n",
       " ELU_FLA_dados(esb_alma=41.875, elp=58.26675289351229, elr=137.2398725177769, Mn=21355.5))"
      ]
     },
     "execution_count": 3,
     "metadata": {},
     "output_type": "execute_result"
    }
   ],
   "source": [
    "TUBO_R.Mrdx(Lb = 1000, Cb = 5.62, data=True)"
   ]
  },
  {
   "cell_type": "markdown",
   "metadata": {},
   "source": [
    "Exercicio 3.7.5"
   ]
  },
  {
   "cell_type": "code",
   "execution_count": 4,
   "metadata": {},
   "outputs": [
    {
     "data": {
      "text/plain": [
       "(19414.090909090908,\n",
       " ELU_FLT_dados(esb=118.77367457753762, elp=86.75423973578022, elr=2291.7262091730695, Mn=21355.5),\n",
       " ELU_FLM_dados(esb_mesa=26.25, elp=26.966431091212304, elr=33.70803886401537, Mn=21355.5),\n",
       " ELU_FLA_dados(esb_alma=41.875, elp=58.26675289351229, elr=137.2398725177769, Mn=21355.5))"
      ]
     },
     "execution_count": 4,
     "metadata": {},
     "output_type": "execute_result"
    }
   ],
   "source": [
    "TUBO_R.Mrdx(Lb = 1000, Cb = 1.24, data=True)"
   ]
  },
  {
   "cell_type": "markdown",
   "metadata": {
    "pycharm": {
     "name": "#%% md\n"
    }
   },
   "source": [
    "Exemplo 3\n",
    "---------\n",
    "Exercicio 3.7.7 do livro ***Projeto de estruturas de Edificações com perfis Tubulates de Aço*** pag.190"
   ]
  },
  {
   "cell_type": "code",
   "execution_count": 6,
   "metadata": {
    "pycharm": {
     "name": "#%%\n"
    }
   },
   "outputs": [],
   "source": [
    "from perfis import TuboCir\n",
    "from material import Aco\n",
    "\n",
    "#Definição do Aço com as propriedades em kN/cm²\n",
    "A572 = Aco(20000, 0.3, 34.5, 45.0, 0.6)\n",
    "L = 800 #comprimento da barra em cm\n",
    "\n",
    "#Definindo um perfil TC323.8X6.4 (perfil caralogado mais próximo do apresentado no exercicio)\n",
    "TC320X6 = TuboCir('TC323.8X6.4', A572, 'cm', 'NBR8800')"
   ]
  },
  {
   "cell_type": "markdown",
   "metadata": {},
   "source": [
    "Determinação do momento resistente Mrdx"
   ]
  },
  {
   "cell_type": "code",
   "execution_count": 12,
   "metadata": {
    "pycharm": {
     "name": "#%%\n"
    }
   },
   "outputs": [
    {
     "data": {
      "text/plain": [
       "(19338.460048290184,\n",
       " Mrd_dados(Mn=21272.306053119206, elp=40.579710144927546, elr=179.71014492753622))"
      ]
     },
     "execution_count": 12,
     "metadata": {},
     "output_type": "execute_result"
    }
   ],
   "source": [
    "TC320X6.Mrdx(data = True)"
   ]
  },
  {
   "cell_type": "markdown",
   "metadata": {},
   "source": [
    "Determinação da força cortante resistente Vrd"
   ]
  },
  {
   "cell_type": "code",
   "execution_count": 22,
   "metadata": {
    "pycharm": {
     "name": "#%%\n"
    }
   },
   "outputs": [
    {
     "data": {
      "text/plain": [
       "(600.2999999999998, Vrdy_dados(fcr=20.7))"
      ]
     },
     "execution_count": 22,
     "metadata": {},
     "output_type": "execute_result"
    }
   ],
   "source": [
    "TC320X6.Vrdy(Lv=4000, data=True)"
   ]
  },
  {
   "cell_type": "markdown",
   "metadata": {
    "pycharm": {
     "name": "#%% md\n"
    }
   },
   "source": [
    "Exemplo 4\n",
    "---------------\n",
    "Exercicio 6.5.1 do livro ***Estrutura de aço - dimensionamento prático*** pag.197"
   ]
  },
  {
   "cell_type": "code",
   "execution_count": 24,
   "metadata": {
    "pycharm": {
     "name": "#%%\n"
    }
   },
   "outputs": [],
   "source": [
    "from perfis import PerfilI\n",
    "from material import Aco\n",
    "\n",
    "#Definindo o aço do tipo MR250 com as propriedades em kN/cm²\n",
    "MR250 = Aco(20000, 0.3, 25, 30, 0.6)\n",
    "\n",
    "#Dados do perfil VS 500 X 86 em cm\n",
    "d = 50 \n",
    "bf = 25 \n",
    "tw = 0.63 \n",
    "tf = 1.6\n",
    "\n",
    "VS500X86 = PerfilI(d, bf, bf, tw, tf, tf, MR250, 'NBR8800')"
   ]
  },
  {
   "cell_type": "code",
   "execution_count": 25,
   "metadata": {
    "pycharm": {
     "name": "#%%\n"
    }
   },
   "outputs": [
    {
     "data": {
      "text/plain": [
       "(51840.06363636362,\n",
       " ELU_FLT_dados(esb=0.0, elp=49.78031739553295, elr=2378.4952994716205, Mn=57024.06999999999),\n",
       " ELU_FLM_dados(esb_mesa=7.8125, elp=10.748023074035522, elr=21.87878741756857, Mn=57024.06999999999),\n",
       " ELU_FLA_dados(esb_alma=74.28571428571428, elp=106.34885989045675, elr=161.22034611053286, Mn=57024.06999999999))"
      ]
     },
     "execution_count": 25,
     "metadata": {},
     "output_type": "execute_result"
    }
   ],
   "source": [
    "VS500X86.Mrdx(Lb = 0, data=True)"
   ]
  },
  {
   "cell_type": "code",
   "execution_count": 27,
   "metadata": {},
   "outputs": [],
   "source": [
    "from perfis import PerfilILam\n",
    "from material import Aco\n",
    "\n",
    "#Definindo o aço do tipo MR250 com as propriedades em kN/cm²\n",
    "MR250 = Aco(20000, 0.3, 25, 30, 0.6)\n",
    "\n",
    "#Definindo um perfil I laminado do tipo W com as propriedades em cm\n",
    "W530X85 = PerfilILam('W530X85', MR250, und='cm', norma='NBR8800')"
   ]
  },
  {
   "cell_type": "code",
   "execution_count": 28,
   "metadata": {},
   "outputs": [
    {
     "data": {
      "text/plain": [
       "(47954.54545454545,\n",
       " ELU_FLT_dados(esb=0.0, elp=49.78031739553295, elr=2738.012454487316, Mn=52750.0),\n",
       " ELU_FLM_dados(esb_mesa=5.04, elp=10.748023074035522, elr=28.05912125698675, Mn=52750.0),\n",
       " ELU_FLA_dados(esb_alma=46.3, elp=106.34885989045675, elr=161.22034611053286, Mn=52750.0))"
      ]
     },
     "execution_count": 28,
     "metadata": {},
     "output_type": "execute_result"
    }
   ],
   "source": [
    "W530X85.Mrdx(Lb = 0, data=True)"
   ]
  },
  {
   "cell_type": "markdown",
   "metadata": {},
   "source": [
    "Exemplo 6\n",
    "---------------\n",
    "Exercicio 6.5.6 do livro ***Estrutura de aço - dimensionamento prático*** pag.197"
   ]
  },
  {
   "cell_type": "code",
   "execution_count": 3,
   "metadata": {},
   "outputs": [],
   "source": [
    "from perfis import PerfilI\n",
    "from material import Aco\n",
    "\n",
    "#Definindo o aço do tipo MR250 com as propriedades em kN/cm²\n",
    "MR250 = Aco(20000, 0.3, 25, 30, 0.6)\n",
    "\n",
    "bf = 20\n",
    "d = 90\n",
    "tf = 0.95\n",
    "\n",
    "tw5 = PerfilI(d, bf, bf, 0.5, tf, tf, MR250, norma='NBR8800')\n",
    "tw8 = PerfilI(d, bf, bf, 0.8, tf, tf, MR250, norma='NBR8800')\n",
    "tw10 = PerfilI(d, bf, bf, 1, tf, tf, MR250, norma='NBR8800')"
   ]
  },
  {
   "cell_type": "code",
   "execution_count": 12,
   "metadata": {},
   "outputs": [
    {
     "name": "stdout",
     "output_type": "stream",
     "text": [
      "propriedades_perfil(A=82.05, Ix=103828.508375, Iy=1267.5843750000001, J=15.142083333333332, Wxs=2307.300186111111, Wxi=2307.300186111111, Wys=126.75843750000001, Wyi=126.75843750000001, Zx=2662.1512499999994, Zy=195.50625, Awx=44.05, Awy=38.0, xo=0, yo=0.0, Cw=2511135.7916666674)\n"
     ]
    },
    {
     "data": {
      "text/plain": [
       "(52438.640593434335,\n",
       " ELU_EMT_dados(Wxt=2307.300186111111, Mn=57682.504652777774),\n",
       " ELU_FLT_dados(esb=0.0, elp=31.112698372208094, elr=106.20521591221058, Mn=57682.504652777774),\n",
       " ELU_FLM_dados(esb_mesa=10.526315789473685, elp=10.748023074035522, elr=27.997959109294275, Mn=57682.504652777774))"
      ]
     },
     "execution_count": 12,
     "metadata": {},
     "output_type": "execute_result"
    }
   ],
   "source": [
    "print(tw5.prop())\n",
    "tw5.Mrdx(Lb=0, Cb=1, data=True)"
   ]
  },
  {
   "cell_type": "code",
   "execution_count": 11,
   "metadata": {},
   "outputs": [
    {
     "name": "stdout",
     "output_type": "stream",
     "text": [
      "propriedades_perfil(A=108.48, Ix=120923.45439999999, Iy=1270.4256, J=26.629533333333335, Wxs=2687.1878755555554, Wxi=2687.1878755555554, Wys=127.04256000000001, Wyi=127.04256000000001, Zx=3244.272, Zy=204.096, Awx=70.48, Awy=38.0, xo=0, yo=0.0, Cw=2511135.7916666674)\n"
     ]
    },
    {
     "data": {
      "text/plain": [
       "(72862.15099783118,\n",
       " ELU_FLT_dados(esb=0.0, elp=49.78031739553295, elr=1193.5669444162825, Mn=81106.8),\n",
       " ELU_FLM_dados(esb_mesa=10.526315789473685, elp=10.748023074035522, elr=19.827962738331667, Mn=81106.8),\n",
       " ELU_FLA_dados(esb_alma=110.12499999999999, elp=106.34885989045675, elr=161.22034611053286, Mn=80148.3660976143))"
      ]
     },
     "execution_count": 11,
     "metadata": {},
     "output_type": "execute_result"
    }
   ],
   "source": [
    "print(tw8.prop())\n",
    "tw8.Mrdx(Lb=0, Cb=1, data=True)"
   ]
  },
  {
   "cell_type": "code",
   "execution_count": 10,
   "metadata": {},
   "outputs": [
    {
     "name": "stdout",
     "output_type": "stream",
     "text": [
      "propriedades_perfil(A=126.1, Ix=132320.08508333334, Iy=1274.0083333333334, J=41.114999999999995, Wxs=2940.4463351851855, Wxi=2940.4463351851855, Wys=127.40083333333334, Wyi=127.40083333333334, Zx=3632.3525000000004, Zy=212.025, Awx=88.1, Awy=38.0, xo=0, yo=0.0, Cw=2511135.7916666674)\n"
     ]
    },
    {
     "data": {
      "text/plain": [
       "(82553.46590909091,\n",
       " ELU_FLT_dados(esb=0.0, elp=49.78031739553295, elr=1417.273905366374, Mn=90808.81250000001),\n",
       " ELU_FLM_dados(esb_mesa=10.526315789473685, elp=10.748023074035522, elr=20.965518012082185, Mn=90808.81250000001),\n",
       " ELU_FLA_dados(esb_alma=88.1, elp=106.34885989045675, elr=161.22034611053286, Mn=90808.81250000001))"
      ]
     },
     "execution_count": 10,
     "metadata": {},
     "output_type": "execute_result"
    }
   ],
   "source": [
    "print(tw10.prop())\n",
    "tw10.Mrdx(Lb=0, Cb=1, data=True)"
   ]
  },
  {
   "cell_type": "code",
   "execution_count": null,
   "metadata": {},
   "outputs": [],
   "source": [
    "tw"
   ]
  },
  {
   "cell_type": "code",
   "execution_count": 1,
   "metadata": {},
   "outputs": [],
   "source": [
    "from perfis import Caixao\n",
    "from material import Aco\n",
    "\n",
    "#Definindo o aço do tipo MR250 com as propriedades em kN/cm²\n",
    "MR250 = Aco(20000, 0.3, 25, 30, 0.6)\n",
    "\n",
    "#Definindo uma seção caixão com 20cm de altura, 20cm de largura e espessura de 3.5cm\n",
    "C200x15 = Caixao(20, 20, 1.77, 1.77, MR250, 'NBR8800')"
   ]
  },
  {
   "cell_type": "code",
   "execution_count": 2,
   "metadata": {},
   "outputs": [
    {
     "data": {
      "text/plain": [
       "(20116.283318181813,\n",
       " ELU_FLT_dados(esb=66.86848809079733, elp=139.09832544713677, elr=2624.774739520965, Mn=22127.91165),\n",
       " ELU_FLM_dados(esb_mesa=9.299435028248588, elp=105.21748904055828, elr=161.22034611053286, Mn=22127.91165),\n",
       " ELU_FLA_dados(esb_alma=9.299435028248588, elp=31.678383797157334, elr=39.59797974644666, Mn=22127.91165))"
      ]
     },
     "execution_count": 2,
     "metadata": {},
     "output_type": "execute_result"
    }
   ],
   "source": [
    "C200x15.Mrdy(Lb = 500, data=True)"
   ]
  },
  {
   "cell_type": "code",
   "execution_count": 1,
   "metadata": {},
   "outputs": [],
   "source": [
    "from perfis import PerfilI\n",
    "from normas import NBR8800, AISC360\n",
    "from material import Aco\n",
    "\n",
    "#Definindo o aço do tipo MR250 com as propriedades em kN/cm²\n",
    "MR250 = Aco(20000, 0.3, 25, 30, 0.6)\n",
    "\n",
    "WRF1200X244 = PerfilI(120, 30, 55, 1.2, 2, 2, MR250)"
   ]
  },
  {
   "cell_type": "code",
   "execution_count": 5,
   "metadata": {},
   "outputs": [
    {
     "name": "stderr",
     "output_type": "stream",
     "text": [
      "c:\\Users\\55519\\Documents\\UFRGS\\TCC\\Código\\projeto de TCC - verificações de estrututas metálicas\\metalpy\\normas\\_aisc.py:67: UserWarning: Item D1: A AISC360-16 recomenda que índice de esbeltez de barras tracionadas não supere o valor de 300\n",
      "  warn('Item D1: A AISC360-16 recomenda que índice de esbeltez de barras tracionadas não '\n"
     ]
    },
    {
     "data": {
      "text/plain": [
       "(6957.0, Ntrd_dados(Ntrk=7730.0, A=309.2, fy=25))"
      ]
     },
     "execution_count": 5,
     "metadata": {},
     "output_type": "execute_result"
    }
   ],
   "source": [
    " AISC360.Ntrd_brt(WRF1200X244, data=True)"
   ]
  },
  {
   "cell_type": "code",
   "execution_count": 3,
   "metadata": {},
   "outputs": [
    {
     "name": "stderr",
     "output_type": "stream",
     "text": [
      "c:\\Users\\55519\\Documents\\UFRGS\\TCC\\Código\\projeto de TCC - verificações de estrututas metálicas\\metalpy\\normas\\_nbr8800.py:65: UserWarning: Item 5.2.8.1:A NBR8800:2008 recomenda que índice de esbeltez de barras tracionadas não supere o valor de 300\n",
      "  warn('Item 5.2.8.1:A NBR8800:2008 recomenda que índice de esbeltez de barras tracionadas não '\n"
     ]
    },
    {
     "data": {
      "text/plain": [
       "(7027.272727272727, Ntrd_dados(Ntrk=7730.0, A=309.2, fy=25))"
      ]
     },
     "execution_count": 3,
     "metadata": {},
     "output_type": "execute_result"
    }
   ],
   "source": [
    "NBR8800.Ntrd_brt(WRF1200X244, data=True)"
   ]
  },
  {
   "cell_type": "code",
   "execution_count": 7,
   "metadata": {},
   "outputs": [
    {
     "data": {
      "text/plain": [
       "6957.0"
      ]
     },
     "execution_count": 7,
     "metadata": {},
     "output_type": "execute_result"
    }
   ],
   "source": [
    "7730*0.9"
   ]
  },
  {
   "cell_type": "code",
   "execution_count": null,
   "metadata": {},
   "outputs": [],
   "source": []
  }
 ],
 "metadata": {
  "kernelspec": {
   "display_name": "Python 3.7.3 ('base')",
   "language": "python",
   "name": "python3"
  },
  "language_info": {
   "codemirror_mode": {
    "name": "ipython",
    "version": 3
   },
   "file_extension": ".py",
   "mimetype": "text/x-python",
   "name": "python",
   "nbconvert_exporter": "python",
   "pygments_lexer": "ipython3",
   "version": "3.7.3"
  },
  "metadata": {
   "interpreter": {
    "hash": "9685c742d0dbdc333b7069f373b9bb80e4c938c5f883b4ee3d5911d9ebcf0e9e"
   }
  },
  "vscode": {
   "interpreter": {
    "hash": "edf54ad24ebfb5fa8d28ab7d9e358dbacd9f36fc2103704bbb673ffd32c4b39f"
   }
  }
 },
 "nbformat": 4,
 "nbformat_minor": 2
}
