{
 "cells": [
  {
   "cell_type": "code",
   "execution_count": 1,
   "metadata": {
    "pycharm": {
     "name": "#%%\n"
    }
   },
   "outputs": [],
   "source": [
    "from perfis import *\n",
    "from normas import NBR8800\n",
    "from normas import AISC360\n",
    "from material import AcoNBR8800, Aco"
   ]
  },
  {
   "cell_type": "code",
   "execution_count": 2,
   "metadata": {},
   "outputs": [],
   "source": [
    "perfil2 = PerfilILam('W530X74', AcoNBR8800(345,415), und = 'cm', norma = 'NBR8800')"
   ]
  },
  {
   "cell_type": "code",
   "execution_count": 2,
   "metadata": {
    "pycharm": {
     "name": "#%%\n"
    }
   },
   "outputs": [],
   "source": [
    "aco_35_40 = Aco(20000, 0.3, 34.5, 41.5, 0.6)\n",
    "nome_p = 'W530X74'\n",
    "perfil = PerfilILam(nome_p, aco_35_40, und='cm')"
   ]
  },
  {
   "cell_type": "code",
   "execution_count": null,
   "metadata": {},
   "outputs": [],
   "source": [
    "print(NBR8800.Ntrd_brt(perfil, data = True))\n",
    "print(AISC360.Ntrd_brt(perfil, data = True))"
   ]
  },
  {
   "cell_type": "code",
   "execution_count": 7,
   "metadata": {
    "pycharm": {
     "name": "#%%\n"
    }
   },
   "outputs": [
    {
     "output_type": "stream",
     "name": "stdout",
     "text": [
      "(2594.7335236004565, Ncrd_dados(Ncrk=2854.206875960502, A=94.8, fy=34.5, Ne=205287771.54265866, ier1=0.003991463626992886, Chi1=0.9999933317693858, ier2=0.0037287429693665607, Chi2=0.9999941806920734, Q=0.8726910920216034))\n(2624.567375623642, Ncrd_dados(Ncrk=2916.1859729151574, A=94.8, Fy=34.5, Fe=2165482.822179944, Fy_Fe=1.5931781885607207e-05, Fcr=34.499769946043806, Aef=84.52769329986693))\n"
     ]
    }
   ],
   "source": [
    "print(NBR8800.Ncrd(perfil, 1, 1, 1, data = True))\n",
    "print(AISC360.Ncrd(perfil, 1, 1, 1, data = True))"
   ]
  },
  {
   "cell_type": "code",
   "execution_count": 8,
   "metadata": {},
   "outputs": [
    {
     "output_type": "execute_result",
     "data": {
      "text/plain": [
       "82.73101199999999"
      ]
     },
     "metadata": {},
     "execution_count": 8
    }
   ],
   "source": []
  },
  {
   "cell_type": "code",
   "execution_count": 5,
   "metadata": {
    "pycharm": {
     "name": "#%%\n"
    }
   },
   "outputs": [
    {
     "name": "stdout",
     "output_type": "stream",
     "text": [
      "849678.5454545454\n",
      "841181.76\n"
     ]
    }
   ],
   "source": [
    "print(Nbr8800.Vrdx(perfil))\n",
    "print(AISC360.Vrdx(perfil))"
   ]
  },
  {
   "cell_type": "markdown",
   "metadata": {
    "pycharm": {
     "name": "#%% md\n"
    }
   },
   "source": [
    " Exemplo 1\n",
    "---------------\n",
    "Exercicio 3.7.1 e 3.7.2 do livro ***Projeto de estruturas de Edificações com perfis Tubulates de Aço*** pag.176"
   ]
  },
  {
   "cell_type": "code",
   "execution_count": 12,
   "metadata": {
    "pycharm": {
     "name": "#%%\n"
    }
   },
   "outputs": [
    {
     "data": {
      "text/plain": [
       "(565.0403789408305,\n",
       " Ncrd_dados(Ne=708.7165528334247, ier=18.00689051654006, Chi=0.0027047189592467958, Q=1))"
      ]
     },
     "execution_count": 12,
     "metadata": {},
     "output_type": "execute_result"
    }
   ],
   "source": [
    "#Definição do Aço\n",
    "VMB300 = Aco(20000, 0.3, 30, 41.5, 0.6)\n",
    "L = 2500 #mm\n",
    "TUBO_C = TuboCir('TC168.3X16', VMB300)\n",
    "\n",
    "carregar_metodos(TUBO_C, 'Nbr8800')\n",
    "\n",
    "TUBO_C.Ncrd(L, L, L, data = True)"
   ]
  },
  {
   "cell_type": "markdown",
   "metadata": {
    "pycharm": {
     "name": "#%% md\n"
    }
   },
   "source": [
    " Exemplo 2\n",
    "---------------\n",
    "Exercicio 3.7.4 do livro ***Projeto de estruturas de Edificações com perfis Tubulates de Aço*** pag.181"
   ]
  },
  {
   "cell_type": "code",
   "execution_count": 1,
   "metadata": {
    "pycharm": {
     "name": "#%%\n"
    }
   },
   "outputs": [
    {
     "output_type": "execute_result",
     "data": {
      "text/plain": [
       "1941.4090909090908"
      ]
     },
     "metadata": {},
     "execution_count": 1
    }
   ],
   "source": [
    "from perfis import TuboRet\n",
    "from material import Aco\n",
    "\n",
    "#Definição do Aço com a propriedades em kN/cm²\n",
    "A572 = Aco(20000, 0.3, 34.5, 45.0, 0.6)\n",
    "L = 800 #cm\n",
    "TUBO_R = TuboRet('TR300X200X6.4', A572, und='cm', norma='NBR8800')\n",
    "\n",
    "TUBO_R.Mrdx(Lb = L, Cb = 1) / 10"
   ]
  },
  {
   "cell_type": "code",
   "execution_count": 12,
   "metadata": {},
   "outputs": [
    {
     "output_type": "execute_result",
     "data": {
      "text/plain": [
       "26.25"
      ]
     },
     "metadata": {},
     "execution_count": 12
    }
   ],
   "source": [
    "TUBO_R.esb_mesa"
   ]
  },
  {
   "cell_type": "code",
   "execution_count": 40,
   "metadata": {
    "pycharm": {
     "name": "#%%\n"
    }
   },
   "outputs": [
    {
     "output_type": "execute_result",
     "data": {
      "text/plain": [
       "(450.9137454545454,\n",
       " Vrdy_dados(Vpl=496.00512, kv=5, elp=59.222009226398214, elr=73.75832058196869))"
      ]
     },
     "metadata": {},
     "execution_count": 40
    }
   ],
   "source": [
    "TUBO_R.Vrdy(data = True)"
   ]
  },
  {
   "cell_type": "code",
   "execution_count": 8,
   "metadata": {
    "pycharm": {
     "name": "#%%\n"
    }
   },
   "outputs": [
    {
     "data": {
      "text/plain": [
       "18504.54545454545"
      ]
     },
     "execution_count": 8,
     "metadata": {},
     "output_type": "execute_result"
    }
   ],
   "source": [
    "TUBO_R.Mrdx(Lb = 10000, Cb = 1.24) / 10"
   ]
  },
  {
   "cell_type": "markdown",
   "metadata": {
    "pycharm": {
     "name": "#%% md\n"
    }
   },
   "source": [
    "Exemplo 3\n",
    "---------\n",
    "Exercicio 3.7.7 do livro ***Projeto de estruturas de Edificações com perfis Tubulates de Aço*** pag.190"
   ]
  },
  {
   "cell_type": "code",
   "execution_count": 1,
   "metadata": {
    "pycharm": {
     "name": "#%%\n"
    }
   },
   "outputs": [],
   "source": [
    "from perfis import TuboCir\n",
    "from material import Aco\n",
    "\n",
    "#Definição do Aço com as propriedades em kN/cm²\n",
    "A572 = Aco(20000, 0.3, 34.5, 45.0, 0.6)\n",
    "L = 800 #comprimento da barra em cm\n",
    "\n",
    "#Definindo um perfil TC323.8X6.4 (perfil caralogado mais próximo do apresentado no exercicio)\n",
    "TC320X6 = TuboCir('TC323.8X6.4', A572, 'cm', 'NBR8800')"
   ]
  },
  {
   "cell_type": "code",
   "execution_count": 10,
   "metadata": {
    "pycharm": {
     "name": "#%%\n"
    }
   },
   "outputs": [
    {
     "output_type": "execute_result",
     "data": {
      "text/plain": [
       "19338.460048290184"
      ]
     },
     "metadata": {},
     "execution_count": 10
    }
   ],
   "source": [
    "TC320X6.Mrdx()"
   ]
  },
  {
   "cell_type": "code",
   "execution_count": 6,
   "metadata": {
    "pycharm": {
     "name": "#%%\n"
    }
   },
   "outputs": [
    {
     "output_type": "execute_result",
     "data": {
      "text/plain": [
       "60029.99999999999"
      ]
     },
     "metadata": {},
     "execution_count": 6
    }
   ],
   "source": [
    "TC320X6.Vrdy(a=4000)"
   ]
  },
  {
   "cell_type": "markdown",
   "metadata": {
    "pycharm": {
     "name": "#%% md\n"
    }
   },
   "source": [
    "Exemplo 4\n",
    "---------------\n",
    "Exercicio 6.5.1 do livro ***Estrutura de aço - dimensionamento prático*** pag.197"
   ]
  },
  {
   "cell_type": "code",
   "execution_count": 1,
   "metadata": {
    "pycharm": {
     "name": "#%%\n"
    }
   },
   "outputs": [],
   "source": [
    "from perfis import PerfilI\n",
    "from material import Aco\n",
    "\n",
    "#Definindo o aço do tipo MR250 com as propriedades em kN/cm²\n",
    "MR250 = Aco(20000, 0.3, 25, 30, 0.6)\n",
    "\n",
    "#Dados do perfil VS 500 X 86 em cm\n",
    "d = 50 \n",
    "bf = 25 \n",
    "tw = 0.63 \n",
    "tf = 1.6\n",
    "\n",
    "VS500X86 = PerfilI(d, bf, bf, tw, tf, tf, MR250, 'NBR8800')"
   ]
  },
  {
   "cell_type": "code",
   "execution_count": 5,
   "metadata": {
    "pycharm": {
     "name": "#%%\n"
    }
   },
   "outputs": [
    {
     "output_type": "execute_result",
     "data": {
      "text/plain": [
       "518.4006363636362"
      ]
     },
     "metadata": {},
     "execution_count": 5
    }
   ],
   "source": [
    "VS500X86.Mrdx(Lb = 0) / 100"
   ]
  },
  {
   "cell_type": "code",
   "execution_count": 4,
   "metadata": {},
   "outputs": [
    {
     "output_type": "execute_result",
     "data": {
      "text/plain": [
       "propriedades_perfil(A=109.484, Ix=52249.68634666667, Iy=4167.641849966667, J=72.30075826666668, Wxs=2089.987453866667, Wxi=2089.987453866667, Wys=333.41134799733334, Wyi=333.41134799733334, Zx=2280.9628, Zy=504.64373, Awx=29.483999999999998, Awy=80.0, xo=0, yo=0.0, Cw=2440166.666666667)"
      ]
     },
     "metadata": {},
     "execution_count": 4
    }
   ],
   "source": [
    "VS500X86.prop()"
   ]
  },
  {
   "cell_type": "code",
   "execution_count": 1,
   "metadata": {},
   "outputs": [],
   "source": [
    "from perfis import PerfilILam\n",
    "from material import Aco\n",
    "\n",
    "#Definindo o aço do tipo MR250 com as propriedades em kN/cm²\n",
    "MR250 = Aco(20000, 0.3, 25, 30, 0.6)\n",
    "\n",
    "#Definindo um perfil I laminado do tipo W com as propriedades em cm\n",
    "W530X85 = PerfilILam('W530X85', MR250, und='cm', norma='NBR8800')"
   ]
  },
  {
   "cell_type": "code",
   "execution_count": 9,
   "metadata": {},
   "outputs": [
    {
     "output_type": "execute_result",
     "data": {
      "text/plain": [
       "479.5454545454545"
      ]
     },
     "metadata": {},
     "execution_count": 9
    }
   ],
   "source": [
    "W530X85.Mrdx(Lb = 0) / 100"
   ]
  },
  {
   "cell_type": "code",
   "execution_count": 1,
   "metadata": {},
   "outputs": [],
   "source": [
    "from perfis import Caixao\n",
    "from material import Aco\n",
    "\n",
    "#Definindo o aço do tipo MR250 com as propriedades em kN/cm²\n",
    "MR250 = Aco(20000, 0.3, 25, 30, 0.6)\n",
    "\n",
    "#Definindo uma seção caixão com 20cm de altura, 20cm de largura e espessura de 3.5cm\n",
    "C200x15 = Caixao(35, 35, 1.77, 1.77, MR250, 'NBR8800')"
   ]
  },
  {
   "cell_type": "code",
   "execution_count": 2,
   "metadata": {},
   "outputs": [
    {
     "output_type": "error",
     "ename": "NameError",
     "evalue": "name 'Wef' is not defined",
     "traceback": [
      "\u001b[1;31m---------------------------------------------------------------------------\u001b[0m",
      "\u001b[1;31mNameError\u001b[0m                                 Traceback (most recent call last)",
      "\u001b[1;32m<ipython-input-2-ba810ed0f39b>\u001b[0m in \u001b[0;36m<module>\u001b[1;34m\u001b[0m\n\u001b[1;32m----> 1\u001b[1;33m \u001b[0mC200x15\u001b[0m\u001b[1;33m.\u001b[0m\u001b[0mMrdy\u001b[0m\u001b[1;33m(\u001b[0m\u001b[1;36m500\u001b[0m\u001b[1;33m)\u001b[0m\u001b[1;33m\u001b[0m\u001b[1;33m\u001b[0m\u001b[0m\n\u001b[0m",
      "\u001b[1;32mc:\\Users\\55519\\Documents\\UFRGS\\TCC\\Código\\projeto de TCC - verificações de estrututas metálicas\\metalpy\\normas\\_nbr8800.py\u001b[0m in \u001b[0;36mMrdy\u001b[1;34m(perfil, Lb, gama_a1, Cb)\u001b[0m\n\u001b[0;32m    635\u001b[0m \u001b[1;33m\u001b[0m\u001b[0m\n\u001b[0;32m    636\u001b[0m         \u001b[1;32melif\u001b[0m \u001b[0mperfil\u001b[0m\u001b[1;33m.\u001b[0m\u001b[0mtipo\u001b[0m \u001b[1;32min\u001b[0m \u001b[1;33m(\u001b[0m\u001b[1;34m'TUBO RET'\u001b[0m\u001b[1;33m,\u001b[0m \u001b[1;34m'CAIXAO'\u001b[0m\u001b[1;33m)\u001b[0m \u001b[1;32mand\u001b[0m \u001b[0mperfil\u001b[0m\u001b[1;33m.\u001b[0m\u001b[0mIy\u001b[0m \u001b[1;33m<=\u001b[0m \u001b[0mperfil\u001b[0m\u001b[1;33m.\u001b[0m\u001b[0mIx\u001b[0m\u001b[1;33m:\u001b[0m\u001b[1;33m\u001b[0m\u001b[1;33m\u001b[0m\u001b[0m\n\u001b[1;32m--> 637\u001b[1;33m             \u001b[1;32mreturn\u001b[0m \u001b[0mmin\u001b[0m\u001b[1;33m(\u001b[0m\u001b[0mNBR8800\u001b[0m\u001b[1;33m.\u001b[0m\u001b[0m_Mny_FLM\u001b[0m\u001b[1;33m(\u001b[0m\u001b[0mperfil\u001b[0m\u001b[1;33m)\u001b[0m\u001b[1;33m,\u001b[0m \u001b[0mNBR8800\u001b[0m\u001b[1;33m.\u001b[0m\u001b[0m_Mny_FLA\u001b[0m\u001b[1;33m(\u001b[0m\u001b[0mperfil\u001b[0m\u001b[1;33m)\u001b[0m\u001b[1;33m)\u001b[0m \u001b[1;33m/\u001b[0m \u001b[0mgama_a1\u001b[0m\u001b[1;33m\u001b[0m\u001b[1;33m\u001b[0m\u001b[0m\n\u001b[0m\u001b[0;32m    638\u001b[0m \u001b[1;33m\u001b[0m\u001b[0m\n\u001b[0;32m    639\u001b[0m         \u001b[1;32melif\u001b[0m \u001b[0mperfil\u001b[0m\u001b[1;33m.\u001b[0m\u001b[0mtipo\u001b[0m \u001b[1;33m==\u001b[0m \u001b[1;34m'TUBO CIR'\u001b[0m\u001b[1;33m:\u001b[0m\u001b[1;33m\u001b[0m\u001b[1;33m\u001b[0m\u001b[0m\n",
      "\u001b[1;32mc:\\Users\\55519\\Documents\\UFRGS\\TCC\\Código\\projeto de TCC - verificações de estrututas metálicas\\metalpy\\normas\\_nbr8800.py\u001b[0m in \u001b[0;36m_Mny_FLM\u001b[1;34m(perfil)\u001b[0m\n\u001b[0;32m    571\u001b[0m             \u001b[0melr\u001b[0m \u001b[1;33m=\u001b[0m \u001b[1;36m1.40\u001b[0m \u001b[1;33m*\u001b[0m \u001b[0mperfil\u001b[0m\u001b[1;33m.\u001b[0m\u001b[0mraiz_E_fy\u001b[0m\u001b[1;33m\u001b[0m\u001b[1;33m\u001b[0m\u001b[0m\n\u001b[0;32m    572\u001b[0m \u001b[1;33m\u001b[0m\u001b[0m\n\u001b[1;32m--> 573\u001b[1;33m             \u001b[0mMry\u001b[0m \u001b[1;33m=\u001b[0m \u001b[0mWef\u001b[0m \u001b[1;33m*\u001b[0m \u001b[0mperfil\u001b[0m\u001b[1;33m.\u001b[0m\u001b[0mmat\u001b[0m\u001b[1;33m.\u001b[0m\u001b[0mfy\u001b[0m  \u001b[1;31m# calcular Wef\u001b[0m\u001b[1;33m\u001b[0m\u001b[1;33m\u001b[0m\u001b[0m\n\u001b[0m\u001b[0;32m    574\u001b[0m             \u001b[0mMcry\u001b[0m \u001b[1;33m=\u001b[0m \u001b[0mperfil\u001b[0m\u001b[1;33m.\u001b[0m\u001b[0mWy\u001b[0m \u001b[1;33m*\u001b[0m \u001b[0mperfil\u001b[0m\u001b[1;33m.\u001b[0m\u001b[0mmat\u001b[0m\u001b[1;33m.\u001b[0m\u001b[0mfy\u001b[0m  \u001b[1;31m# calcular Wef e fazer Wef/Wy * fy\u001b[0m\u001b[1;33m\u001b[0m\u001b[1;33m\u001b[0m\u001b[0m\n\u001b[0;32m    575\u001b[0m \u001b[1;33m\u001b[0m\u001b[0m\n",
      "\u001b[1;31mNameError\u001b[0m: name 'Wef' is not defined"
     ]
    }
   ],
   "source": [
    "C200x15.Mrdy(500)"
   ]
  },
  {
   "cell_type": "code",
   "execution_count": 1,
   "metadata": {},
   "outputs": [],
   "source": [
    "from perfis import PerfilI\n",
    "from normas import NBR8800, AISC360\n",
    "from material import Aco\n",
    "\n",
    "#Definindo o aço do tipo MR250 com as propriedades em kN/cm²\n",
    "MR250 = Aco(20000, 0.3, 25, 30, 0.6)\n",
    "\n",
    "WRF1200X244 = PerfilI(120, 30, 55, 1.2, 2, 2, MR250)"
   ]
  },
  {
   "cell_type": "code",
   "execution_count": 5,
   "metadata": {},
   "outputs": [
    {
     "output_type": "stream",
     "name": "stderr",
     "text": [
      "c:\\Users\\55519\\Documents\\UFRGS\\TCC\\Código\\projeto de TCC - verificações de estrututas metálicas\\metalpy\\normas\\_aisc.py:67: UserWarning: Item D1: A AISC360-16 recomenda que índice de esbeltez de barras tracionadas não supere o valor de 300\n  warn('Item D1: A AISC360-16 recomenda que índice de esbeltez de barras tracionadas não '\n"
     ]
    },
    {
     "output_type": "execute_result",
     "data": {
      "text/plain": [
       "(6957.0, Ntrd_dados(Ntrk=7730.0, A=309.2, fy=25))"
      ]
     },
     "metadata": {},
     "execution_count": 5
    }
   ],
   "source": [
    " AISC360.Ntrd_brt(WRF1200X244, data=True)"
   ]
  },
  {
   "cell_type": "code",
   "execution_count": 3,
   "metadata": {},
   "outputs": [
    {
     "output_type": "stream",
     "name": "stderr",
     "text": [
      "c:\\Users\\55519\\Documents\\UFRGS\\TCC\\Código\\projeto de TCC - verificações de estrututas metálicas\\metalpy\\normas\\_nbr8800.py:65: UserWarning: Item 5.2.8.1:A NBR8800:2008 recomenda que índice de esbeltez de barras tracionadas não supere o valor de 300\n  warn('Item 5.2.8.1:A NBR8800:2008 recomenda que índice de esbeltez de barras tracionadas não '\n"
     ]
    },
    {
     "output_type": "execute_result",
     "data": {
      "text/plain": [
       "(7027.272727272727, Ntrd_dados(Ntrk=7730.0, A=309.2, fy=25))"
      ]
     },
     "metadata": {},
     "execution_count": 3
    }
   ],
   "source": [
    "NBR8800.Ntrd_brt(WRF1200X244, data=True)"
   ]
  },
  {
   "cell_type": "code",
   "execution_count": 7,
   "metadata": {},
   "outputs": [
    {
     "output_type": "execute_result",
     "data": {
      "text/plain": [
       "6957.0"
      ]
     },
     "metadata": {},
     "execution_count": 7
    }
   ],
   "source": [
    "7730*0.9"
   ]
  },
  {
   "cell_type": "code",
   "execution_count": null,
   "metadata": {},
   "outputs": [],
   "source": []
  }
 ],
 "metadata": {
  "kernelspec": {
   "name": "python373jvsc74a57bd0464c6aa782b7449773a3abbd2f9d5536cc8781441a626a3bbecfb7161a6d0e5a",
   "display_name": "Python 3.7.3 64-bit (conda)"
  },
  "language_info": {
   "codemirror_mode": {
    "name": "ipython",
    "version": 3
   },
   "file_extension": ".py",
   "mimetype": "text/x-python",
   "name": "python",
   "nbconvert_exporter": "python",
   "pygments_lexer": "ipython3",
   "version": "3.7.3"
  },
  "metadata": {
   "interpreter": {
    "hash": "9685c742d0dbdc333b7069f373b9bb80e4c938c5f883b4ee3d5911d9ebcf0e9e"
   }
  }
 },
 "nbformat": 4,
 "nbformat_minor": 2
}