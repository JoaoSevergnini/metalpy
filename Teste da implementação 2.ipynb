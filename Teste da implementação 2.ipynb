{
 "cells": [
  {
   "cell_type": "code",
   "execution_count": 5,
   "metadata": {},
   "outputs": [],
   "source": [
    "from perfis import *\n",
    "from normas._nbr8800 import Nbr8800\n",
    "from normas._aisc import AISC360\n",
    "from material import AcoNBR8800"
   ]
  },
  {
   "cell_type": "code",
   "execution_count": 6,
   "metadata": {},
   "outputs": [],
   "source": [
    "nome_p = 'W530X74'"
   ]
  },
  {
   "cell_type": "code",
   "execution_count": 7,
   "metadata": {},
   "outputs": [],
   "source": [
    "aco_35_40 = AcoNBR8800(345, 415)\n",
    "perfil = PerfilILam(nome_p, aco_35_40)"
   ]
  },
  {
   "cell_type": "code",
   "execution_count": 8,
   "metadata": {},
   "outputs": [],
   "source": [
    "data_est = perfil.par_estabilidade(6000, 6000, 6000)"
   ]
  },
  {
   "cell_type": "code",
   "execution_count": 12,
   "metadata": {},
   "outputs": [],
   "source": [
    "Ncrd, dados = Nbr8800.Ncrd(perfil, 1, 1, 1, data = True)"
   ]
  },
  {
   "cell_type": "code",
   "execution_count": 14,
   "metadata": {},
   "outputs": [
    {
     "data": {
      "text/plain": [
       "20528777154265.863"
      ]
     },
     "execution_count": 14,
     "metadata": {},
     "output_type": "execute_result"
    }
   ],
   "source": [
    "dados.Ne"
   ]
  },
  {
   "cell_type": "code",
   "execution_count": 9,
   "metadata": {},
   "outputs": [
    {
     "name": "stdout",
     "output_type": "stream",
     "text": [
      "(2583982.8118891204, Ncrd_dados(Ne=20528777154265.863, ier=0.00039914636269928864, Chi=0.999999942048198, Q=0.8690702800095238))\n",
      "(2624575.4143292713, Ncrd_dados(Fe=2165482822.1799436, Fy_Fe=1.5931781885607208e-07, Fcr=344.9999769945284, Aef=8452.739418172632))\n"
     ]
    }
   ],
   "source": [
    "print(Nbr8800.Ncrd(perfil, 1, 1, 1, data = True))\n",
    "print(AISC360.Ncrd(perfil, 1, 1, 1, data = True))"
   ]
  },
  {
   "cell_type": "code",
   "execution_count": 6,
   "metadata": {},
   "outputs": [
    {
     "name": "stdout",
     "output_type": "stream",
     "text": [
      "(849678.5454545454, {'kv': 1.2, 'elp': 29.01274082941463, 'elr': 36.13404994208913})\n",
      "841181.76\n"
     ]
    }
   ],
   "source": [
    "print(Nbr8800.Vrdx(perfil))\n",
    "print(AISC360.Vrdx(perfil))"
   ]
  },
  {
   "cell_type": "code",
   "execution_count": 11,
   "metadata": {},
   "outputs": [],
   "source": [
    "from types import MethodType\n",
    "metodos = ('Ncrd', 'Ntrd_brt', 'Vrdx', 'Vrdy', 'Mrdx', 'Mrdy')\n",
    "for metodo in metodos:\n",
    "    perfil.__setattr__(metodo, MethodType(getattr(Nbr8800, metodo), perfil))"
   ]
  },
  {
   "cell_type": "code",
   "execution_count": 31,
   "metadata": {},
   "outputs": [
    {
     "data": {
      "text/plain": [
       "2973272.727272727"
      ]
     },
     "execution_count": 31,
     "metadata": {},
     "output_type": "execute_result"
    }
   ],
   "source": [
    "perfil.Afy / 1.1"
   ]
  },
  {
   "cell_type": "code",
   "execution_count": 13,
   "metadata": {},
   "outputs": [
    {
     "data": {
      "text/plain": [
       "564545454.5454545"
      ]
     },
     "execution_count": 13,
     "metadata": {},
     "output_type": "execute_result"
    }
   ],
   "source": [
    "perfil.Mrdx(6000)"
   ]
  },
  {
   "cell_type": "code",
   "execution_count": 14,
   "metadata": {},
   "outputs": [
    {
     "data": {
      "text/plain": [
       "(849678.5454545454,\n",
       " {'kv': 1.2, 'elp': 29.01274082941463, 'elr': 36.13404994208913})"
      ]
     },
     "execution_count": 14,
     "metadata": {},
     "output_type": "execute_result"
    }
   ],
   "source": [
    "perfil.Vrdx()"
   ]
  },
  {
   "cell_type": "code",
   "execution_count": null,
   "metadata": {},
   "outputs": [],
   "source": []
  }
 ],
 "metadata": {
  "kernelspec": {
   "display_name": "Python 3",
   "language": "python",
   "name": "python3"
  },
  "language_info": {
   "codemirror_mode": {
    "name": "ipython",
    "version": 3
   },
   "file_extension": ".py",
   "mimetype": "text/x-python",
   "name": "python",
   "nbconvert_exporter": "python",
   "pygments_lexer": "ipython3",
   "version": "3.7.3"
  }
 },
 "nbformat": 4,
 "nbformat_minor": 2
}
