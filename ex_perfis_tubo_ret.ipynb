{
 "cells": [
  {
   "cell_type": "markdown",
   "metadata": {},
   "source": [
    "Exemplos *Classe TuboRet*\n",
    "-----------------------\n",
    "Este notebook apresenta exemplos de utilização da classe *TuboRet* que representa o perfil metálico do tipo *tubo retangular*. Estes exemplos tem por objetivo mostrar como utilizar a biblioteca Metalpy, apresentar algumas funcionalidades e servir como validação dos métodos implementados.\n",
    "\n",
    "Os exemplos apresentados são exemplos já resolvidos obtidos de livros e manuais das seguintes referências:\n",
    "\n",
    "[1] ARAÚJO, AFONSO et al. **Projeto de Estruturas de Edificações com perfis Tubulares em Aço.** Belo Horizonte, 2016.\n",
    "\n",
    "[2] AMERICAN INSTITUTE OF STEEL CONSTRUCTION. AISC 360: **Companion to the AISC steel construction manual - Volume 1: Design Examples.** V15.1, Chicago. Illinois, 2015.\n",
    "\n",
    "-----------------------------------------------------------------------------------------------------------------------------"
   ]
  },
  {
   "cell_type": "markdown",
   "metadata": {},
   "source": [
    "### Exemplo 1\n",
    "\n",
    "Este exemplo é o exemplo 3.7.4 de [1], trata do dimensionamento de uma viga biapoiada de 8 metros de vão, submetida a uma carga distribuida de 22kN/m, o perfil a ser dimensinado é do tipo retangular fabricado por conformação a frio. O aço utilizado no perfil é o aço ASTM A572 grau 50 (fy = 34.5kN/cm²). \n",
    "O perfil a ser verificado tem 300 mm de altura, 220 mm de largura e 6.3 mm de espessura, e será verificado ao momento fletor e esforço cortante."
   ]
  },
  {
   "cell_type": "code",
   "execution_count": null,
   "metadata": {},
   "outputs": [],
   "source": [
    "from perfis import TuboRet\n",
    "from material import Aco\n",
    "\n",
    "#Definição do Aço com a propriedades em kN/cm²\n",
    "A572 = Aco(20000, 0.3, 34.5, 45.0, 0.6)\n",
    "L = 800 #cm\n",
    "\n",
    "#Definindo um perfil do tipo tubo retangular\n",
    "TR300X200 = TuboRet('TR300X200X6.4', A572, und='cm', norma='NBR8800')\n",
    "\n",
    "TR300X200.Mrdx(Lb = L, Cb = 1, data=True)"
   ]
  },
  {
   "cell_type": "code",
   "execution_count": null,
   "metadata": {},
   "outputs": [],
   "source": []
  }
 ],
 "metadata": {
  "kernelspec": {
   "display_name": "Python 3.8.4rc1 64-bit",
   "language": "python",
   "name": "python3"
  },
  "language_info": {
   "name": "python",
   "version": "3.8.4"
  },
  "orig_nbformat": 4,
  "vscode": {
   "interpreter": {
    "hash": "befbcf08969470eadecbcf94d1cd06b44db4fd587aae8870162e2e80c17c9087"
   }
  }
 },
 "nbformat": 4,
 "nbformat_minor": 2
}
