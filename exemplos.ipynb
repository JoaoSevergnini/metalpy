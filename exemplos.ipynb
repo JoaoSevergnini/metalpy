{
 "cells": [
  {
   "cell_type": "markdown",
   "metadata": {},
   "source": [
    "[1] PFEIL, WALTER. **Estruturas de aço: dimensionamento prático.** 9ª Edição. Rio de Janeiro. LTC, 2022.\n",
    "\n",
    "[2] ARAÚJO, AFONSO et al. **Projeto de Estruturas de Edificações com perfis Tubulares em Aço.** Belo Horizonte, 2016.\n",
    "\n",
    "[3] AMERICAN INSTITUTE OF STEEL CONSTRUCTION. AISC 360: **Companion to the AISC steel construction manual - Volume 1: Design Examples.** V15.1, Chicago. Illinois, 2015."
   ]
  },
  {
   "cell_type": "markdown",
   "metadata": {
    "pycharm": {
     "name": "#%% md\n"
    }
   },
   "source": [
    " Exemplo 1\n",
    "---------------\n",
    "Exercicio 3.7.1 e 3.7.2 do livro ***Projeto de estruturas de Edificações com perfis Tubulates de Aço*** pag.176"
   ]
  },
  {
   "cell_type": "code",
   "execution_count": 1,
   "metadata": {
    "pycharm": {
     "name": "#%%\n"
    }
   },
   "outputs": [
    {
     "data": {
      "text/plain": [
       "(2018.3374718324114,\n",
       " Ncrd_dados(Ncrk=2220.1712190156527, A=76.6, fy=30, Ne=7087.165528334247, ier1=0.5694278760955249, Chi1=0.9661319490929734, ier2=0.5694278760955249, Chi2=0.9661319490929734, Q=1))"
      ]
     },
     "execution_count": 1,
     "metadata": {},
     "output_type": "execute_result"
    }
   ],
   "source": [
    "from perfis import TuboCir\n",
    "from material import Aco\n",
    "\n",
    "#Definição do Aço\n",
    "VMB300 = Aco(20000, 0.3, 30, 41.5, 0.6) #kN/cm²\n",
    "L = 250 #cm\n",
    "TUBO_C_nbr = TuboCir('TC168.3X16', VMB300, und = 'cm', norma = 'NBR8800')\n",
    "TUBO_C_nbr.Ncrd(L, L, L,  data = True)"
   ]
  },
  {
   "cell_type": "code",
   "execution_count": 2,
   "metadata": {},
   "outputs": [
    {
     "data": {
      "text/plain": [
       "(1805.7292128588929,\n",
       " Ncrd_dados(Ncrk=2006.3657920654364, A=76.6, Fy=30, Fe=92.52174318974214, Fy_Fe=0.3242481060746604, Fcr=26.19276490947045, Aef=76.6))"
      ]
     },
     "execution_count": 2,
     "metadata": {},
     "output_type": "execute_result"
    }
   ],
   "source": [
    "TUBO_C_aisc = TuboCir('TC168.3X16', VMB300, und = 'cm', norma = 'AISC360')\n",
    "TUBO_C_aisc.Ncrd(L, L, L,  data = True)"
   ]
  },
  {
   "cell_type": "markdown",
   "metadata": {
    "pycharm": {
     "name": "#%% md\n"
    }
   },
   "source": [
    " Exemplo 2\n",
    "---------------\n",
    "Exercicio 3.7.4 do livro ***Projeto de estruturas de Edificações com perfis Tubulates de Aço*** pag.181"
   ]
  },
  {
   "cell_type": "code",
   "execution_count": 3,
   "metadata": {
    "pycharm": {
     "name": "#%%\n"
    }
   },
   "outputs": [
    {
     "data": {
      "text/plain": [
       "(19383.702289380166,\n",
       " ELU_FLT_dados(esb=95.01893966203009, elp=86.75423973578022, elr=2291.7262091730695, Mn=21322.072518318186),\n",
       " ELU_FLM_dados(esb_mesa=26.25, elp=26.966431091212304, elr=33.70803886401537, Mn=21355.5),\n",
       " ELU_FLA_dados(esb_alma=41.875, elp=58.26675289351229, elr=137.2398725177769, Mn=21355.5))"
      ]
     },
     "execution_count": 3,
     "metadata": {},
     "output_type": "execute_result"
    }
   ],
   "source": [
    "from perfis import TuboRet\n",
    "from material import Aco\n",
    "\n",
    "#Definição do Aço com a propriedades em kN/cm²\n",
    "A572 = Aco(20000, 0.3, 34.5, 45.0, 0.6)\n",
    "L = 800 #cm\n",
    "TUBO_R = TuboRet('TR300X200X6.4', A572, und='cm', norma='NBR8800')\n",
    "\n",
    "TUBO_R.Mrdx(Lb = L, Cb = 1, data=True)"
   ]
  },
  {
   "cell_type": "markdown",
   "metadata": {},
   "source": [
    "Determinação da força cortante resistente de calculo Vrdy"
   ]
  },
  {
   "cell_type": "code",
   "execution_count": 4,
   "metadata": {
    "pycharm": {
     "name": "#%%\n"
    }
   },
   "outputs": [
    {
     "name": "stdout",
     "output_type": "stream",
     "text": [
      "41.875\n"
     ]
    },
    {
     "data": {
      "text/plain": [
       "(645.5389090909091,\n",
       " Vrdy_dados(Vpl=710.0928, kv=5, elp=59.222009226398214, elr=73.75832058196869))"
      ]
     },
     "execution_count": 4,
     "metadata": {},
     "output_type": "execute_result"
    }
   ],
   "source": [
    "print(TUBO_R.esb_alma)\n",
    "TUBO_R.Vrdy(data = True)"
   ]
  },
  {
   "cell_type": "markdown",
   "metadata": {},
   "source": [
    "Exercicio 3.7.4"
   ]
  },
  {
   "cell_type": "code",
   "execution_count": 5,
   "metadata": {
    "pycharm": {
     "name": "#%%\n"
    }
   },
   "outputs": [
    {
     "data": {
      "text/plain": [
       "(19414.090909090908,\n",
       " ELU_FLT_dados(esb=118.77367457753762, elp=86.75423973578022, elr=2291.7262091730695, Mn=21355.5),\n",
       " ELU_FLM_dados(esb_mesa=26.25, elp=26.966431091212304, elr=33.70803886401537, Mn=21355.5),\n",
       " ELU_FLA_dados(esb_alma=41.875, elp=58.26675289351229, elr=137.2398725177769, Mn=21355.5))"
      ]
     },
     "execution_count": 5,
     "metadata": {},
     "output_type": "execute_result"
    }
   ],
   "source": [
    "TUBO_R.Mrdx(Lb = 1000, Cb = 5.62, data=True)"
   ]
  },
  {
   "cell_type": "markdown",
   "metadata": {},
   "source": [
    "Exercicio 3.7.5"
   ]
  },
  {
   "cell_type": "code",
   "execution_count": 6,
   "metadata": {},
   "outputs": [
    {
     "data": {
      "text/plain": [
       "(19414.090909090908,\n",
       " ELU_FLT_dados(esb=118.77367457753762, elp=86.75423973578022, elr=2291.7262091730695, Mn=21355.5),\n",
       " ELU_FLM_dados(esb_mesa=26.25, elp=26.966431091212304, elr=33.70803886401537, Mn=21355.5),\n",
       " ELU_FLA_dados(esb_alma=41.875, elp=58.26675289351229, elr=137.2398725177769, Mn=21355.5))"
      ]
     },
     "execution_count": 6,
     "metadata": {},
     "output_type": "execute_result"
    }
   ],
   "source": [
    "TUBO_R.Mrdx(Lb = 1000, Cb = 1.24, data=True)"
   ]
  },
  {
   "cell_type": "markdown",
   "metadata": {
    "pycharm": {
     "name": "#%% md\n"
    }
   },
   "source": [
    "Exemplo 3\n",
    "---------\n",
    "Exercicio 3.7.7 do livro ***Projeto de estruturas de Edificações com perfis Tubulates de Aço*** pag.190"
   ]
  },
  {
   "cell_type": "code",
   "execution_count": 7,
   "metadata": {
    "pycharm": {
     "name": "#%%\n"
    }
   },
   "outputs": [],
   "source": [
    "from perfis import TuboCir\n",
    "from material import Aco\n",
    "\n",
    "#Definição do Aço com as propriedades em kN/cm²\n",
    "A572 = Aco(20000, 0.3, 34.5, 45.0, 0.6)\n",
    "L = 800 #comprimento da barra em cm\n",
    "\n",
    "#Definindo um perfil TC323.8X6.4 (perfil caralogado mais próximo do apresentado no exercicio)\n",
    "TC320X6 = TuboCir('TC323.8X6.4', A572, 'cm', 'NBR8800')"
   ]
  },
  {
   "cell_type": "markdown",
   "metadata": {},
   "source": [
    "Determinação do momento resistente Mrdx"
   ]
  },
  {
   "cell_type": "code",
   "execution_count": 8,
   "metadata": {
    "pycharm": {
     "name": "#%%\n"
    }
   },
   "outputs": [
    {
     "data": {
      "text/plain": [
       "(19338.460048290184,\n",
       " Mrd_dados(Mn=21272.306053119206, esb=50.59375, elp=40.579710144927546, elr=179.71014492753622))"
      ]
     },
     "execution_count": 8,
     "metadata": {},
     "output_type": "execute_result"
    }
   ],
   "source": [
    "TC320X6.Mrdx(data = True)"
   ]
  },
  {
   "cell_type": "markdown",
   "metadata": {},
   "source": [
    "Determinação da força cortante resistente Vrd"
   ]
  },
  {
   "cell_type": "code",
   "execution_count": 9,
   "metadata": {
    "pycharm": {
     "name": "#%%\n"
    }
   },
   "outputs": [
    {
     "data": {
      "text/plain": [
       "(600.2999999999998, Vrdy_dados(fcr=20.7))"
      ]
     },
     "execution_count": 9,
     "metadata": {},
     "output_type": "execute_result"
    }
   ],
   "source": [
    "TC320X6.Vrdy(Lv=4000, data=True)"
   ]
  },
  {
   "cell_type": "markdown",
   "metadata": {
    "pycharm": {
     "name": "#%% md\n"
    }
   },
   "source": [
    "Exemplo 4\n",
    "---------------\n",
    "Exercicio 6.5.1 do livro ***Estrutura de aço - dimensionamento prático*** pag.197"
   ]
  },
  {
   "cell_type": "code",
   "execution_count": 10,
   "metadata": {
    "pycharm": {
     "name": "#%%\n"
    }
   },
   "outputs": [],
   "source": [
    "from perfis import PerfilI\n",
    "from material import Aco\n",
    "\n",
    "#Definindo o aço do tipo MR250 com as propriedades em kN/cm²\n",
    "MR250 = Aco(20000, 0.3, 25, 30, 0.6)\n",
    "\n",
    "#Dados do perfil VS 500 X 86 em cm\n",
    "d = 50 \n",
    "bf = 25 \n",
    "tw = 0.63 \n",
    "tf = 1.6\n",
    "\n",
    "VS500X86 = PerfilI(d, bf, bf, tw, tf, tf, MR250, 'NBR8800')"
   ]
  },
  {
   "cell_type": "code",
   "execution_count": 11,
   "metadata": {
    "pycharm": {
     "name": "#%%\n"
    }
   },
   "outputs": [
    {
     "data": {
      "text/plain": [
       "(51840.06363636362,\n",
       " ELU_FLT_dados(esb=0.0, elp=49.78031739553295, elr=2378.4952994716205, Mn=57024.06999999999),\n",
       " ELU_FLM_dados(esb_mesa=7.8125, elp=10.748023074035522, elr=21.87878741756857, Mn=57024.06999999999),\n",
       " ELU_FLA_dados(esb_alma=74.28571428571428, elp=106.34885989045675, elr=161.22034611053286, Mn=57024.06999999999))"
      ]
     },
     "execution_count": 11,
     "metadata": {},
     "output_type": "execute_result"
    }
   ],
   "source": [
    "VS500X86.Mrdx(Lb = 0, data=True)"
   ]
  },
  {
   "cell_type": "code",
   "execution_count": 12,
   "metadata": {},
   "outputs": [],
   "source": [
    "from perfis import PerfilILam\n",
    "from material import Aco\n",
    "\n",
    "#Definindo o aço do tipo MR250 com as propriedades em kN/cm²\n",
    "MR250 = Aco(20000, 0.3, 25, 30, 0.6)\n",
    "\n",
    "#Definindo um perfil I laminado do tipo W com as propriedades em cm\n",
    "W530X85 = PerfilILam('W530X85', MR250, und='cm', norma='NBR8800')"
   ]
  },
  {
   "cell_type": "code",
   "execution_count": 13,
   "metadata": {},
   "outputs": [
    {
     "data": {
      "text/plain": [
       "(47954.54545454545,\n",
       " ELU_FLT_dados(esb=0.0, elp=49.78031739553295, elr=2738.012454487316, Mn=52750.0),\n",
       " ELU_FLM_dados(esb_mesa=5.04, elp=10.748023074035522, elr=28.05912125698675, Mn=52750.0),\n",
       " ELU_FLA_dados(esb_alma=46.3, elp=106.34885989045675, elr=161.22034611053286, Mn=52750.0))"
      ]
     },
     "execution_count": 13,
     "metadata": {},
     "output_type": "execute_result"
    }
   ],
   "source": [
    "W530X85.Mrdx(Lb = 0, data=True)"
   ]
  },
  {
   "cell_type": "markdown",
   "metadata": {},
   "source": [
    "Exemplo 6\n",
    "---------------\n",
    "Exercicio 6.5.6 do livro ***Estrutura de aço - dimensionamento prático*** pag.197"
   ]
  },
  {
   "cell_type": "code",
   "execution_count": 14,
   "metadata": {},
   "outputs": [],
   "source": [
    "from perfis import PerfilI\n",
    "from material import Aco\n",
    "\n",
    "#Definindo o aço do tipo MR250 com as propriedades em kN/cm²\n",
    "MR250 = Aco(20000, 0.3, 25, 30, 0.6)\n",
    "\n",
    "bf = 20\n",
    "d = 90\n",
    "tf = 0.95\n",
    "\n",
    "tw5 = PerfilI(d, bf, bf, 0.5, tf, tf, MR250, norma='NBR8800')\n",
    "tw8 = PerfilI(d, bf, bf, 0.8, tf, tf, MR250, norma='NBR8800')\n",
    "tw10 = PerfilI(d, bf, bf, 1, tf, tf, MR250, norma='NBR8800')"
   ]
  },
  {
   "cell_type": "code",
   "execution_count": 15,
   "metadata": {},
   "outputs": [
    {
     "name": "stdout",
     "output_type": "stream",
     "text": [
      "propriedades_perfil(A=82.05, Ix=103828.508375, Iy=1267.5843750000001, J=15.142083333333332, Wxs=2307.300186111111, Wxi=2307.300186111111, Wys=126.75843750000001, Wyi=126.75843750000001, Zx=2662.1512499999994, Zy=195.50625, Awx=44.05, Awy=38.0, xo=0, yo=0.0, Cw=2511135.7916666674)\n"
     ]
    },
    {
     "data": {
      "text/plain": [
       "(52438.640593434335,\n",
       " ELU_EMT_dados(Wxt=2307.300186111111, Mn=57682.504652777774),\n",
       " ELU_FLT_dados(esb=0.0, elp=31.112698372208094, elr=106.20521591221058, Mn=57682.504652777774),\n",
       " ELU_FLM_dados(esb_mesa=10.526315789473685, elp=10.748023074035522, elr=27.997959109294275, Mn=57682.504652777774))"
      ]
     },
     "execution_count": 15,
     "metadata": {},
     "output_type": "execute_result"
    }
   ],
   "source": [
    "print(tw5.prop())\n",
    "tw5.Mrdx(Lb=0, Cb=1, data=True)"
   ]
  },
  {
   "cell_type": "code",
   "execution_count": 16,
   "metadata": {},
   "outputs": [
    {
     "name": "stdout",
     "output_type": "stream",
     "text": [
      "propriedades_perfil(A=108.48, Ix=120923.45439999999, Iy=1270.4256, J=26.629533333333335, Wxs=2687.1878755555554, Wxi=2687.1878755555554, Wys=127.04256000000001, Wyi=127.04256000000001, Zx=3244.272, Zy=204.096, Awx=70.48, Awy=38.0, xo=0, yo=0.0, Cw=2511135.7916666674)\n"
     ]
    },
    {
     "data": {
      "text/plain": [
       "(72862.15099783118,\n",
       " ELU_FLT_dados(esb=0.0, elp=49.78031739553295, elr=1193.5669444162825, Mn=81106.8),\n",
       " ELU_FLM_dados(esb_mesa=10.526315789473685, elp=10.748023074035522, elr=19.827962738331667, Mn=81106.8),\n",
       " ELU_FLA_dados(esb_alma=110.12499999999999, elp=106.34885989045675, elr=161.22034611053286, Mn=80148.3660976143))"
      ]
     },
     "execution_count": 16,
     "metadata": {},
     "output_type": "execute_result"
    }
   ],
   "source": [
    "print(tw8.prop())\n",
    "tw8.Mrdx(Lb=0, Cb=1, data=True)"
   ]
  },
  {
   "cell_type": "code",
   "execution_count": 17,
   "metadata": {},
   "outputs": [
    {
     "name": "stdout",
     "output_type": "stream",
     "text": [
      "propriedades_perfil(A=126.1, Ix=132320.08508333334, Iy=1274.0083333333334, J=41.114999999999995, Wxs=2940.4463351851855, Wxi=2940.4463351851855, Wys=127.40083333333334, Wyi=127.40083333333334, Zx=3632.3525000000004, Zy=212.025, Awx=88.1, Awy=38.0, xo=0, yo=0.0, Cw=2511135.7916666674)\n"
     ]
    },
    {
     "data": {
      "text/plain": [
       "(82553.46590909091,\n",
       " ELU_FLT_dados(esb=0.0, elp=49.78031739553295, elr=1417.273905366374, Mn=90808.81250000001),\n",
       " ELU_FLM_dados(esb_mesa=10.526315789473685, elp=10.748023074035522, elr=20.965518012082185, Mn=90808.81250000001),\n",
       " ELU_FLA_dados(esb_alma=88.1, elp=106.34885989045675, elr=161.22034611053286, Mn=90808.81250000001))"
      ]
     },
     "execution_count": 17,
     "metadata": {},
     "output_type": "execute_result"
    }
   ],
   "source": [
    "print(tw10.prop())\n",
    "tw10.Mrdx(Lb=0, Cb=1, data=True)"
   ]
  },
  {
   "cell_type": "markdown",
   "metadata": {},
   "source": [
    "Exemplo 7\n",
    "---------\n",
    "Seção caixão"
   ]
  },
  {
   "cell_type": "code",
   "execution_count": 18,
   "metadata": {},
   "outputs": [],
   "source": [
    "from perfis import Caixao\n",
    "from material import Aco\n",
    "\n",
    "#Definindo o aço do tipo MR250 com as propriedades em kN/cm²\n",
    "MR250 = Aco(20000, 0.3, 25, 30, 0.6)\n",
    "\n",
    "#Definindo uma seção caixão com 20cm de altura, 20cm de largura e espessura de 3.5cm\n",
    "C200x15 = Caixao(20, 20, 1.77, 1.77, MR250, 'NBR8800')"
   ]
  },
  {
   "cell_type": "markdown",
   "metadata": {},
   "source": [
    "Propriedades geométricas do perfil"
   ]
  },
  {
   "cell_type": "code",
   "execution_count": 19,
   "metadata": {},
   "outputs": [
    {
     "data": {
      "text/plain": [
       "propriedades_perfil(A=129.0684, Ix=7216.33901012, Iy=7216.339010120001, J=10858.205047710002, Wxs=721.633901012, Wxi=721.633901012, Wys=721.6339010120001, Wyi=721.6339010120001, Zx=885.116466, Zy=885.116466, Awx=58.26840000000001, Awy=58.26840000000001, xo=0, yo=0, Cw=0)"
      ]
     },
     "execution_count": 19,
     "metadata": {},
     "output_type": "execute_result"
    }
   ],
   "source": [
    "C200x15.prop()"
   ]
  },
  {
   "cell_type": "markdown",
   "metadata": {},
   "source": [
    "Resistencia a tração do perfil (kN)"
   ]
  },
  {
   "cell_type": "code",
   "execution_count": 20,
   "metadata": {},
   "outputs": [
    {
     "name": "stderr",
     "output_type": "stream",
     "text": [
      "c:\\Users\\55519\\Documents\\UFRGS\\TCC\\Código\\projeto de TCC - verificações de estrututas metálicas\\metalpy\\normas\\_nbr8800.py:67: UserWarning: Item 5.2.8.1:A NBR8800:2008 recomenda que índice de esbeltez de barras tracionadas não supere o valor de 300\n",
      "  warn('Item 5.2.8.1:A NBR8800:2008 recomenda que índice de esbeltez de barras tracionadas não supere o valor de 300')\n"
     ]
    },
    {
     "data": {
      "text/plain": [
       "(2933.372727272727, Ntrd_dados(Ntrk=3226.71, A=129.0684, fy=25))"
      ]
     },
     "execution_count": 20,
     "metadata": {},
     "output_type": "execute_result"
    }
   ],
   "source": [
    "C200x15.Ntrd_brt(data=True)"
   ]
  },
  {
   "cell_type": "markdown",
   "metadata": {},
   "source": [
    "Resistência a compressão do perfil para uma barra de comprimento destravado de 500 cm (kN)"
   ]
  },
  {
   "cell_type": "code",
   "execution_count": 21,
   "metadata": {},
   "outputs": [
    {
     "data": {
      "text/plain": [
       "(2314.339043622723,\n",
       " Ncrd_dados(Ncrk=2545.7729479849954, A=129.0684, fy=25, Ne=5697.792900322654, ier1=0.7525348858112747, Chi1=0.7889686237638324, ier2=0.7525348858112747, Chi2=0.7889686237638324, Q=1.0))"
      ]
     },
     "execution_count": 21,
     "metadata": {},
     "output_type": "execute_result"
    }
   ],
   "source": [
    "klx=kly=klz = 500\n",
    "C200x15.Ncrd(klx, kly, klx, data=True)"
   ]
  },
  {
   "cell_type": "markdown",
   "metadata": {},
   "source": [
    "Momento fletor resistênte em relação ao eixo X(kN.cm)"
   ]
  },
  {
   "cell_type": "code",
   "execution_count": 22,
   "metadata": {},
   "outputs": [
    {
     "data": {
      "text/plain": [
       "(20116.283318181813,\n",
       " ELU_FLM_dados(esb_mesa=9.299435028248588, elp=31.678383797157334, elr=39.59797974644666, Mn=22127.91165),\n",
       " ELU_FLA_dados(esb_alma=9.299435028248588, elp=106.34885989045675, elr=161.22034611053286, Mn=22127.91165))"
      ]
     },
     "execution_count": 22,
     "metadata": {},
     "output_type": "execute_result"
    }
   ],
   "source": [
    "C200x15.Mrdx(Lb = 500, data=True)"
   ]
  },
  {
   "cell_type": "markdown",
   "metadata": {},
   "source": [
    "Momento fletor resistênte em relação ao eixo Y(kN.cm)"
   ]
  },
  {
   "cell_type": "code",
   "execution_count": 23,
   "metadata": {},
   "outputs": [
    {
     "data": {
      "text/plain": [
       "(20116.283318181813,\n",
       " ELU_FLT_dados(esb=66.86848809079733, elp=139.09832544713677, elr=2624.774739520965, Mn=22127.91165),\n",
       " ELU_FLM_dados(esb_mesa=9.299435028248588, elp=105.21748904055828, elr=161.22034611053286, Mn=22127.91165),\n",
       " ELU_FLA_dados(esb_alma=9.299435028248588, elp=31.678383797157334, elr=39.59797974644666, Mn=22127.91165))"
      ]
     },
     "execution_count": 23,
     "metadata": {},
     "output_type": "execute_result"
    }
   ],
   "source": [
    "C200x15.Mrdy(Lb = 500, data=True)"
   ]
  },
  {
   "cell_type": "markdown",
   "metadata": {},
   "source": [
    "Exemplo 8\n",
    "---------"
   ]
  },
  {
   "cell_type": "code",
   "execution_count": 24,
   "metadata": {},
   "outputs": [],
   "source": [
    "from perfis import PerfilI\n",
    "from normas import NBR8800, AISC360\n",
    "from material import Aco\n",
    "\n",
    "#Definindo o aço do tipo MR250 com as propriedades em kN/cm²\n",
    "MR250 = Aco(20000, 0.3, 25, 30, 0.6)\n",
    "\n",
    "WRF1200X244 = PerfilI(120, 30, 55, 1.2, 2, 2, MR250)"
   ]
  },
  {
   "cell_type": "code",
   "execution_count": 25,
   "metadata": {},
   "outputs": [
    {
     "name": "stderr",
     "output_type": "stream",
     "text": [
      "c:\\Users\\55519\\Documents\\UFRGS\\TCC\\Código\\projeto de TCC - verificações de estrututas metálicas\\metalpy\\normas\\_aisc.py:67: UserWarning: Item D1: A AISC360-16 recomenda que índice de esbeltez de barras tracionadas não supere o valor de 300\n",
      "  warn('Item D1: A AISC360-16 recomenda que índice de esbeltez de barras tracionadas não '\n"
     ]
    },
    {
     "data": {
      "text/plain": [
       "(6957.0, Ntrd_dados(Ntrk=7730.0, A=309.2, fy=25))"
      ]
     },
     "execution_count": 25,
     "metadata": {},
     "output_type": "execute_result"
    }
   ],
   "source": [
    " AISC360.Ntrd_brt(WRF1200X244, data=True)"
   ]
  },
  {
   "cell_type": "code",
   "execution_count": 26,
   "metadata": {},
   "outputs": [
    {
     "data": {
      "text/plain": [
       "(7027.272727272727, Ntrd_dados(Ntrk=7730.0, A=309.2, fy=25))"
      ]
     },
     "execution_count": 26,
     "metadata": {},
     "output_type": "execute_result"
    }
   ],
   "source": [
    "NBR8800.Ntrd_brt(WRF1200X244, data=True)"
   ]
  },
  {
   "cell_type": "markdown",
   "metadata": {},
   "source": [
    "Exemplo 9\n",
    "---------\n",
    "Exemplo E.1D do **manual da AISC - versão15.1** - exemplo convertido para unidades de kN e cm"
   ]
  },
  {
   "cell_type": "code",
   "execution_count": 27,
   "metadata": {},
   "outputs": [],
   "source": [
    "from perfis import PerfilILam\n",
    "from normas import AISC360\n",
    "from material import Aco\n",
    "\n",
    "#Definindo um aço ASTM A992\n",
    "A992 = Aco(20000, 0.3, 34.5, 4.5, 0.6)\n",
    "#Definindo um perfil W360X134\n",
    "W360X134 = PerfilILam('W360X134', A992, und='cm', norma='AISC360')"
   ]
  },
  {
   "cell_type": "code",
   "execution_count": 28,
   "metadata": {},
   "outputs": [
    {
     "data": {
      "text/plain": [
       "propriedades_perfil(A=171.0, Ix=41600.0, Iy=15100.0, J=169.0, Wxs=2340.0, Wxi=2340.0, Wys=818.0, Wyi=818.0, Zx=2570.0, Zy=1240.0, Awx=132.48, Awy=39.872, xo=0, yo=0, Cw=4300000.0)"
      ]
     },
     "execution_count": 28,
     "metadata": {},
     "output_type": "execute_result"
    }
   ],
   "source": [
    "W360X134.prop()"
   ]
  },
  {
   "cell_type": "code",
   "execution_count": 29,
   "metadata": {},
   "outputs": [
    {
     "name": "stdout",
     "output_type": "stream",
     "text": [
      "rx=  6.145324662267924 in\n",
      "ry=  3.702428158520547 in\n"
     ]
    }
   ],
   "source": [
    "cm_to_in = 0.394\n",
    "print('rx= ', W360X134.rx*cm_to_in, 'in')\n",
    "print('ry= ', W360X134.ry*cm_to_in, 'in')"
   ]
  },
  {
   "cell_type": "code",
   "execution_count": 30,
   "metadata": {},
   "outputs": [
    {
     "name": "stdout",
     "output_type": "stream",
     "text": [
      "esbeltez da alma=  25.9\n",
      "esbeltez da mesa= 10.2\n"
     ]
    }
   ],
   "source": [
    "print('esbeltez da alma= ', W360X134.esb_alma)\n",
    "print('esbeltez da mesa=', W360X134.esb_mesa)"
   ]
  },
  {
   "cell_type": "code",
   "execution_count": 31,
   "metadata": {},
   "outputs": [
    {
     "data": {
      "text/plain": [
       "(58.62564141030126, 48.65369219533509)"
      ]
     },
     "execution_count": 31,
     "metadata": {},
     "output_type": "execute_result"
    }
   ],
   "source": [
    "Lx = 914.4 #cm\n",
    "Ly = 457.2 #cm\n",
    "W360X134.indice_esbeltez(Lx, Ly)"
   ]
  },
  {
   "cell_type": "code",
   "execution_count": 32,
   "metadata": {},
   "outputs": [
    {
     "name": "stdout",
     "output_type": "stream",
     "text": [
      "4129.184278736852\n",
      "Ncrd_dados(Ncrk=4587.982531929836, A=171.0, Fy=34.5, Fe=57.43207751867834, Fy_Fe=0.600709594542871, Fcr=26.83030720426805, Aef=171.0)\n"
     ]
    }
   ],
   "source": [
    "Ncrd, dados = W360X134.Ncrd(Lx, Ly, 1, data=True)\n",
    "print(Ncrd)\n",
    "print(dados)"
   ]
  },
  {
   "cell_type": "code",
   "execution_count": 33,
   "metadata": {},
   "outputs": [
    {
     "name": "stdout",
     "output_type": "stream",
     "text": [
      "Fe= 83.2765124020836 ksi\n",
      "Fcr= 38.90394544618867 ksi\n",
      "Pn= 1032.296069684213 kips\n",
      "Ncrd=  929.0664627157918 kips\n"
     ]
    }
   ],
   "source": [
    "kN_cm2_to_ksi = 1.45\n",
    "kN_to_kips = 0.225\n",
    "print('Fe=', dados.Fe * kN_cm2_to_ksi, 'ksi')\n",
    "print('Fcr=', dados.Fcr * kN_cm2_to_ksi, 'ksi')\n",
    "print('Pn=', dados.Ncrk * kN_to_kips, 'kips' )\n",
    "print('Ncrd= ', Ncrd*kN_to_kips, 'kips')"
   ]
  },
  {
   "cell_type": "markdown",
   "metadata": {},
   "source": [
    "Exemplo 10 - viga I soldado de alma esbelta submetido a compressão\n",
    "----------\n",
    "Exemplo E.2 do **manual da AISC - versão15.1** - exemplo convertido para unidades de kN e cm"
   ]
  },
  {
   "cell_type": "code",
   "execution_count": 34,
   "metadata": {},
   "outputs": [],
   "source": [
    "from perfis import PerfilI\n",
    "from normas import AISC360\n",
    "from material import Aco\n",
    "\n",
    "in_to_cm = 2.54\n",
    "cm_to_in = 0.394\n",
    "\n",
    "#Definição do Aço com as propriedades em kN/cm²\n",
    "A572 = Aco(20000, 0.3, 34.5, 45.0, 0.6)\n",
    "\n",
    "#Definindo um perfil I lamidado com as seguintes propriedades em in sendo convertidas para cm\n",
    "d = 17 * in_to_cm\n",
    "bf = 8 * in_to_cm\n",
    "tf = 1 * in_to_cm\n",
    "h = 15 * in_to_cm\n",
    "tw = 0.25 * in_to_cm\n",
    "\n",
    "I17x8 = PerfilI(d, bf, bf, tw, tf, tf, A572, norma='AISC360')"
   ]
  },
  {
   "cell_type": "code",
   "execution_count": 35,
   "metadata": {},
   "outputs": [
    {
     "name": "stdout",
     "output_type": "stream",
     "text": [
      "Ag = 19.780031407600003 in²\n",
      "Iy = 85.6126332404541 in4\n",
      "ry = 2.080441168371243 in\n",
      "Ix = 1098.980395661081 in4\n",
      "rx = 7.453864337494601 in\n",
      "Cw = 5486.284378300556 in6\n",
      "J =  5.433152114846288 in4\n"
     ]
    }
   ],
   "source": [
    "print('Ag =', I17x8.A * cm_to_in**2, 'in²')\n",
    "print('Iy =', I17x8.Iy * cm_to_in**4, 'in4')\n",
    "print('ry =', I17x8.ry * cm_to_in, 'in')\n",
    "print('Ix =', I17x8.Ix * cm_to_in**4, 'in4')\n",
    "print('rx =', I17x8.rx * cm_to_in, 'in')\n",
    "print('Cw =', I17x8.Cw * cm_to_in ** 6, 'in6' )\n",
    "print('J = ', I17x8.J * cm_to_in ** 4, 'in4')"
   ]
  },
  {
   "cell_type": "code",
   "execution_count": 36,
   "metadata": {},
   "outputs": [
    {
     "data": {
      "text/plain": [
       "par_estabilidade(Ne=3354.82804914072, fe=26.329082917244904, Nex=43064.79216057349, Ney=3354.82804914072, Nez=8085.243011434268, Nexz=None, Neyz=None, Me=102295.50427520052)"
      ]
     },
     "execution_count": 36,
     "metadata": {},
     "output_type": "execute_result"
    }
   ],
   "source": [
    "ft_to_cm = 30.48\n",
    "Lx = Ly = Lz = 15 * ft_to_cm\n",
    "I17x8.par_estabilidade(Lx, Ly, Lz)"
   ]
  },
  {
   "cell_type": "code",
   "execution_count": 37,
   "metadata": {},
   "outputs": [
    {
     "name": "stdout",
     "output_type": "stream",
     "text": [
      "Ncrd=  498.59332371936193 kips\n",
      "Aef= 123.50594702350614 in²\n"
     ]
    }
   ],
   "source": [
    "Ncrd, dados = I17x8.Ncrd(Lx, Ly, Lz, data=True)\n",
    "print('Ncrd= ', Ncrd * kN_to_kips, 'kips')\n",
    "print('Aef=', dados.Aef, 'in²')\n"
   ]
  },
  {
   "cell_type": "markdown",
   "metadata": {},
   "source": [
    "Exemplo 11 - viga I soldado de mesa esbelta submetido a compressão\n",
    "----------\n",
    "Exemplo E.3 do **manual da AISC - versão15.1** - exemplo convertido para unidades de kN e cm"
   ]
  },
  {
   "cell_type": "code",
   "execution_count": 38,
   "metadata": {},
   "outputs": [],
   "source": [
    "from perfis import PerfilI\n",
    "from normas import AISC360\n",
    "from material import Aco\n",
    "\n",
    "in_to_cm = 2.54\n",
    "cm_to_in = 0.394\n",
    "ft_to_cm = 30.48\n",
    "kN_to_kips = 0.225\n",
    "\n",
    "#Definição do Aço com as propriedades em kN/cm²\n",
    "A572 = Aco(20000, 0.3, 34.5, 45.0, 0.6)\n",
    "\n",
    "#Definindo um perfil I lamidado com as seguintes propriedades em in sendo convertidas para cm\n",
    "d = 8 * in_to_cm\n",
    "bf = 10.5 * in_to_cm\n",
    "tf = (3/8) * in_to_cm\n",
    "h = 7.25 * in_to_cm\n",
    "tw = 0.25 * in_to_cm\n",
    "\n",
    "I8x10 = PerfilI(d, bf, bf, tw, tf, tf, A572, norma='AISC360')"
   ]
  },
  {
   "cell_type": "code",
   "execution_count": 39,
   "metadata": {},
   "outputs": [
    {
     "name": "stdout",
     "output_type": "stream",
     "text": [
      "propriedades_perfil(A=62.499875, Ix=5098.6588239993225, Iy=3011.892327177761, J=17.017795265416666, Wxs=501.8364984251302, Wxi=501.8364984251302, Wys=225.86369157688497, Wyi=225.86369157688497, Zx=545.8300575312498, Zy=340.60768571875, Awx=11.693525, Awy=50.80635, xo=0, yo=0.0, Cw=282403.3986194933)\n",
      "Ag = 9.702230595500001 in²\n",
      "Iy = 72.58123095345711 in4\n",
      "ry = 2.7351198947376965 in\n",
      "Ix = 122.86858010104939 in4\n",
      "rx = 3.558644650304556 in\n",
      "Cw = 1056.445870699602 in6\n",
      "J =  0.41009850097637846 in4\n"
     ]
    }
   ],
   "source": [
    "prop_geo = I8x10.prop()\n",
    "print(prop_geo)\n",
    "\n",
    "print('Ag =', prop_geo.A * cm_to_in**2, 'in²')\n",
    "print('Iy =', prop_geo.Iy * cm_to_in**4, 'in4')\n",
    "print('ry =', I8x10.ry * cm_to_in, 'in')\n",
    "print('Ix =', prop_geo.Ix * cm_to_in**4, 'in4')\n",
    "print('rx =', I8x10.rx * cm_to_in, 'in')\n",
    "print('Cw =', prop_geo.Cw * cm_to_in ** 6, 'in6' )\n",
    "print('J = ', prop_geo.J * cm_to_in ** 4, 'in4')"
   ]
  },
  {
   "cell_type": "code",
   "execution_count": 40,
   "metadata": {},
   "outputs": [
    {
     "name": "stdout",
     "output_type": "stream",
     "text": [
      "Ncrd=  317.91832331859456 kips\n",
      "Aef= 9.702230595500001 in²\n"
     ]
    }
   ],
   "source": [
    "Lx = Ly = Lz = 15 * ft_to_cm\n",
    "Ncrd, dados = I8x10.Ncrd(Lx, Ly, Lz, data=True)\n",
    "print('Ncrd= ', Ncrd * kN_to_kips, 'kips')\n",
    "print('Aef=', dados.Aef * cm_to_in ** 2, 'in²')"
   ]
  },
  {
   "cell_type": "code",
   "execution_count": 91,
   "metadata": {},
   "outputs": [
    {
     "data": {
      "text/plain": [
       "457.2"
      ]
     },
     "execution_count": 91,
     "metadata": {},
     "output_type": "execute_result"
    }
   ],
   "source": [
    "15 * ft_to_cm"
   ]
  },
  {
   "cell_type": "markdown",
   "metadata": {},
   "source": [
    "Exemplo 12 - perfil retangular HSS submetido a compressão\n",
    "----------\n",
    "Exemplo E.9 do **manual da AISC - versão15.1** - exemplo convertido para unidades de kN e cm"
   ]
  },
  {
   "cell_type": "code",
   "execution_count": 41,
   "metadata": {},
   "outputs": [],
   "source": [
    "from perfis import TuboRet\n",
    "from normas import AISC360\n",
    "from material import Aco\n",
    "\n",
    "in_to_cm = 2.54\n",
    "cm_to_in = 0.394\n",
    "ft_to_cm = 30.48\n",
    "kN_to_kips = 0.225\n",
    "\n",
    "#Definição do Aço com as propriedades em kN/cm²\n",
    "A500 = Aco(20000, 0.3, 34.5, 43.0, 0.6)\n",
    "\n",
    "#Definindo um perfil HSS retangular\n",
    "tubo30x25 = TuboRet('HSS304.8X254X9.5', A500, und='cm', norma='AISC360')"
   ]
  },
  {
   "cell_type": "code",
   "execution_count": 42,
   "metadata": {},
   "outputs": [
    {
     "name": "stdout",
     "output_type": "stream",
     "text": [
      "propriedades_perfil(A=94.2, Ix=12900.0, Iy=9740.0, J=17500.0, Wxs=846.0, Wxi=846.0, Wys=769.0, Wyi=769.0, Zx=1000.0, Zy=885.0, Awx=40.34879439999999, Awy=49.29774879999999, xo=0, yo=0, Cw=0.0)\n",
      "\n",
      "\n",
      "Ag = 14.623231200000001 in²\n",
      "t = 0.34908399999999995 in4\n",
      "rx = 4.6106868383158615 in\n",
      "ry = 4.006362561806587 in\n",
      "b/t=  25.7\n",
      "h/t=  31.4\n"
     ]
    }
   ],
   "source": [
    "prop_geo = tubo30x25.prop()\n",
    "\n",
    "print(prop_geo)\n",
    "print('\\n')\n",
    "print('Ag =', prop_geo.A * cm_to_in**2, 'in²')\n",
    "print('t =', tubo30x25.t * cm_to_in, 'in4')\n",
    "print('rx =', tubo30x25.rx * cm_to_in, 'in')\n",
    "print('ry =', tubo30x25.ry * cm_to_in, 'in')\n",
    "print('b/t= ', tubo30x25.esb_mesa)\n",
    "print('h/t= ', tubo30x25.esb_alma)"
   ]
  },
  {
   "cell_type": "code",
   "execution_count": 43,
   "metadata": {},
   "outputs": [
    {
     "name": "stdout",
     "output_type": "stream",
     "text": [
      "Ncrd_dados(Ncrk=2746.5820497860477, A=94.2, Fy=34.5, Fe=85.81592824735098, Fy_Fe=0.4020232689269427, Fcr=29.156921972251038, Aef=94.2)\n",
      "Ncrd=  556.1828650816747 kips\n",
      "Aef= 14.623231200000001 in²\n"
     ]
    }
   ],
   "source": [
    "Lx = Ly = Lz = 16 * ft_to_cm\n",
    "Ncrd, dados = tubo30x25.Ncrd(Lx, Ly, Lz, data=True)\n",
    "print(dados)\n",
    "print('Ncrd= ', Ncrd * kN_to_kips, 'kips')\n",
    "print('Aef=', dados.Aef * cm_to_in ** 2, 'in²')"
   ]
  },
  {
   "cell_type": "markdown",
   "metadata": {},
   "source": [
    "Exemplo 13 - perfil retangular HSS com elementos esbeltos submetido a compressão\n",
    "----------\n",
    "Exemplo E.10 do **manual da AISC - versão15.1** - exemplo convertido para unidades de kN e cm"
   ]
  },
  {
   "cell_type": "code",
   "execution_count": 44,
   "metadata": {},
   "outputs": [],
   "source": [
    "from perfis import TuboRet\n",
    "from normas import AISC360\n",
    "from material import Aco\n",
    "\n",
    "in_to_cm = 2.54\n",
    "cm_to_in = 0.394\n",
    "ft_to_cm = 30.48\n",
    "kN_to_kips = 0.225\n",
    "\n",
    "#Definição do Aço com as propriedades em kN/cm²\n",
    "A500 = Aco(20000, 0.3, 34.5, 43.0, 0.6)\n",
    "\n",
    "#Definindo um perfil HSS tubular\n",
    "tubo30x20 = TuboRet('HSS304.8X203.2X4.8', A500, und='cm', norma='AISC360')"
   ]
  },
  {
   "cell_type": "code",
   "execution_count": 45,
   "metadata": {},
   "outputs": [
    {
     "name": "stdout",
     "output_type": "stream",
     "text": [
      "propriedades_perfil(A=43.6, Ix=5830.0, Iy=3150.0, J=6370.0, Wxs=383.0, Wxi=383.0, Wys=310.0, Wyi=310.0, Zx=456.0, Zy=346.0, Awx=16.801304000000002, Awy=25.788048, xo=0, yo=0, Cw=0.0)\n",
      "\n",
      "\n",
      "Ag = 6.768289600000001 in²\n",
      "t = 0.174148 in4\n",
      "rx = 4.556037128023279 in\n",
      "ry = 3.348946842535492 in\n",
      "b/t=  43.0\n",
      "h/t=  66.0\n"
     ]
    }
   ],
   "source": [
    "prop_geo = tubo30x20.prop()\n",
    "\n",
    "print(prop_geo)\n",
    "print('\\n')\n",
    "print('Ag =', prop_geo.A * cm_to_in**2, 'in²')\n",
    "print('t =', tubo30x20.t * cm_to_in, 'in4')\n",
    "print('rx =', tubo30x20.rx * cm_to_in, 'in')\n",
    "print('ry =', tubo30x20.ry * cm_to_in, 'in')\n",
    "print('b/t= ', tubo30x20.esb_mesa)\n",
    "print('h/t= ', tubo30x20.esb_alma)"
   ]
  },
  {
   "cell_type": "code",
   "execution_count": 46,
   "metadata": {},
   "outputs": [
    {
     "name": "stdout",
     "output_type": "stream",
     "text": [
      "Ncrd_dados(Ncrk=747.7322165522424, A=43.6, Fy=34.5, Fe=26.650256714156715, Fy_Fe=1.2945466293265937, Fcr=20.067997504598488, Aef=37.259931708726945)\n",
      "Ncrd=  151.4157738518291 kips\n",
      "Aef= 5.784082758735937 in²\n"
     ]
    }
   ],
   "source": [
    "Lx = Ly = Lz = 24 * ft_to_cm\n",
    "Ncrd, dados = tubo30x20.Ncrd(Lx, Ly, Lz, data=True)\n",
    "print(dados)\n",
    "print('Ncrd= ', Ncrd * kN_to_kips, 'kips')\n",
    "print('Aef=', dados.Aef * cm_to_in ** 2, 'in²')"
   ]
  },
  {
   "cell_type": "markdown",
   "metadata": {},
   "source": [
    "Exemplo 14 - perfil PIPE submetido a compressão\n",
    "----------\n",
    "Exemplo E.11 do **manual da AISC - versão15.1** - exemplo convertido para unidades de kN e cm"
   ]
  },
  {
   "cell_type": "code",
   "execution_count": 47,
   "metadata": {},
   "outputs": [],
   "source": [
    "from perfis import TuboCir\n",
    "from normas import AISC360\n",
    "from material import Aco\n",
    "\n",
    "in_to_cm = 2.54\n",
    "cm_to_in = 0.394\n",
    "ft_to_cm = 30.48\n",
    "kN_to_kips = 0.225\n",
    "kN_cm2_to_ksi = 1.4504\n",
    "\n",
    "#Definição do Aço com as propriedades em kN/cm²\n",
    "A53 = Aco(20000, 0.3, 24.13, 42.0, 0.6)\n",
    "\n",
    "#Definindo um perfil PIPE\n",
    "p250std = TuboCir('Pipe250STD', A53, und='cm', norma='AISC360')"
   ]
  },
  {
   "cell_type": "code",
   "execution_count": 48,
   "metadata": {},
   "outputs": [
    {
     "name": "stdout",
     "output_type": "stream",
     "text": [
      "propriedades_perfil(A=74.2, Ix=6290.0, Iy=6290.0, J=12600.0, Wxs=460.0, Wxi=460.0, Wys=460.0, Wyi=460.0, Zx=605.0, Zy=605.0, Awx=37.1, Awy=37.1, xo=0, yo=0, Cw=0.0)\n",
      "\n",
      "\n",
      "Ag = 11.5185112 in²\n",
      "rx = 3.6276016595733176 in\n",
      "ry = 3.6276016595733176 in\n",
      "D/t=  31.6\n"
     ]
    }
   ],
   "source": [
    "prop_geo = p250std.prop()\n",
    "\n",
    "print(prop_geo)\n",
    "print('\\n')\n",
    "print('Ag =', prop_geo.A * cm_to_in**2, 'in²')\n",
    "print('rx =', p250std.rx * cm_to_in, 'in')\n",
    "print('ry =', p250std.ry * cm_to_in, 'in')\n",
    "print('D/t= ', p250std.esb)"
   ]
  },
  {
   "cell_type": "code",
   "execution_count": 49,
   "metadata": {},
   "outputs": [
    {
     "name": "stdout",
     "output_type": "stream",
     "text": [
      "Ncrd_dados(Ncrk=1080.9089544019146, A=74.2, Fy=24.13, Fe=20.012624487583984, Fy_Fe=1.2057389082061911, Fcr=14.56750612401502, Aef=74.2)\n",
      "Fcr=  21.128710882271385 ksi\n",
      "Aef= 11.5185112 in²\n",
      "Ncrd=  218.88406326638773 kips\n"
     ]
    }
   ],
   "source": [
    "Lx = Ly = Lz = 30 * ft_to_cm\n",
    "Ncrd, dados = p250std.Ncrd(Lx, Ly, Lz, data=True)\n",
    "print(dados)\n",
    "print('Fcr= ', dados.Fcr * kN_cm2_to_ksi, 'ksi')\n",
    "print('Aef=', dados.Aef * cm_to_in ** 2, 'in²')\n",
    "print('Ncrd= ', Ncrd * kN_to_kips, 'kips')\n"
   ]
  },
  {
   "cell_type": "markdown",
   "metadata": {},
   "source": [
    "Exemplo 15 - perfil I soldado monossimétrico submetido a compressão\n",
    "----------\n",
    "Exemplo E.12 do **manual da AISC - versão15.1** - exemplo convertido para unidades de kN e cm"
   ]
  },
  {
   "cell_type": "code",
   "execution_count": 50,
   "metadata": {},
   "outputs": [],
   "source": [
    "from perfis import PerfilI\n",
    "from normas import AISC360\n",
    "from material import Aco\n",
    "\n",
    "in_to_cm = 2.54\n",
    "cm_to_in = 0.394\n",
    "ft_to_cm = 30.48\n",
    "kN_to_kips = 0.225\n",
    "\n",
    "#Definição do Aço com as propriedades em kN/cm²\n",
    "A572 = Aco(20000, 0.3, 34.5, 45.0, 0.6)\n",
    "\n",
    "#Definindo um perfil I laminado monossimetrico\n",
    "\n",
    "d = 12 * in_to_cm\n",
    "bfs = 8 * in_to_cm\n",
    "bfi = 5 * in_to_cm\n",
    "tw = 3/8 * in_to_cm\n",
    "tf = 3/4 * in_to_cm\n",
    "\n",
    "pI_mono = PerfilI(d, bfs, bfi, tw, tf, tf, A572, norma = 'AISC360')"
   ]
  },
  {
   "cell_type": "code",
   "execution_count": 51,
   "metadata": {},
   "outputs": [
    {
     "name": "stdout",
     "output_type": "stream",
     "text": [
      "propriedades_perfil(A=88.306275, Ix=13878.246644274219, Iy=1659.041962277383, J=84.32344652414062, Wxs=789.0464769675443, Wxi=1076.5532904375, Wys=163.29153172021486, Wyi=163.29153172021486, Zx=1012.7973695625001, Zy=279.508261546875, Awx=25.403174999999997, Awy=62.9031, xo=0, yo=6.33153077353175, Cw=213416.45594336503)\n",
      "\n",
      "\n",
      "Ag = 13.708312905900002 in²\n",
      "Ix =  334.44098111600834 in4\n",
      "rx = 4.93932655648395 in\n",
      "Iy =  39.97995105567548 in4\n",
      "ry = 1.7077689948303303 in\n",
      "esbeltez da alma=  27.999999999999996\n",
      "esbeltez da mesa superior =  5.333333333333333\n",
      "esbeltez da mesa inferior =  3.333333333333333\n",
      "J =  2.0320446025688623 in4\n",
      "Cw =  798.3718847679216 in6\n"
     ]
    }
   ],
   "source": [
    "prop_geo = pI_mono.prop()\n",
    "\n",
    "print(prop_geo)\n",
    "print('\\n')\n",
    "print('Ag =', prop_geo.A * cm_to_in**2, 'in²')\n",
    "print('Ix = ', prop_geo.Ix * cm_to_in **4, 'in4')\n",
    "print('rx =', pI_mono.rx * cm_to_in, 'in')\n",
    "print('Iy = ', prop_geo.Iy * cm_to_in **4, 'in4')\n",
    "print('ry =', pI_mono.ry * cm_to_in, 'in')\n",
    "print('esbeltez da alma= ', pI_mono.esb_alma)\n",
    "print('esbeltez da mesa superior = ', pI_mono.esb_mesa_s)\n",
    "print('esbeltez da mesa inferior = ', pI_mono.esb_mesa_i)\n",
    "print('J = ', prop_geo.J * cm_to_in **4, 'in4')\n",
    "print('Cw = ', prop_geo.Cw * cm_to_in **6, 'in6')\n"
   ]
  },
  {
   "cell_type": "code",
   "execution_count": 52,
   "metadata": {},
   "outputs": [
    {
     "name": "stdout",
     "output_type": "stream",
     "text": [
      "Ncrd_dados(Ncrk=1376.3861163952467, A=88.306275, Fy=34.5, Fe=18.173703347764995, Fy_Fe=1.8983472625155848, Fcr=15.586504089264855, Aef=88.306275)\n",
      "Fcr=  22.606665531069744 ksi\n",
      "Aef= 13.708312905900002 in²\n",
      "Ncrd=  278.71818857003746 kips\n"
     ]
    }
   ],
   "source": [
    "Lx = Ly = Lz = 14 * ft_to_cm\n",
    "Ncrd, dados = pI_mono.Ncrd(Lx, Ly, Lz, data=True)\n",
    "print(dados)\n",
    "print('Fcr= ', dados.Fcr * kN_cm2_to_ksi, 'ksi')\n",
    "print('Aef=', dados.Aef * cm_to_in ** 2, 'in²')\n",
    "print('Ncrd= ', Ncrd * kN_to_kips, 'kips')"
   ]
  },
  {
   "cell_type": "markdown",
   "metadata": {},
   "source": [
    "Exemplo 16 - verificação do momento fletor resistente de perfil I laminado em relação ao eixo de maior inércia (eixo X)\n",
    "----------\n",
    "Exemplo F.1 do **manual da AISC - versão15.1** - exemplo convertido para unidades de kN e cm"
   ]
  },
  {
   "cell_type": "code",
   "execution_count": 53,
   "metadata": {},
   "outputs": [],
   "source": [
    "from perfis import PerfilILam\n",
    "from material import Aco\n",
    "from normas import AISC360\n",
    "\n",
    "in_to_cm = 2.54\n",
    "cm_to_in = 0.394\n",
    "ft_to_cm = 30.48\n",
    "cm_to_ft = 1/30.48\n",
    "kN_to_kips = 0.225\n",
    "kNcm_to_kipft = kN_to_kips * (1/ft_to_cm) \n",
    "\n",
    "#Definindo um aço ASTM A992\n",
    "A992 = Aco(20000, 0.3, 34.5, 4.5, 0.6)\n",
    "#Definindo um perfil W460X74\n",
    "W460X74 = PerfilILam('W460X74', A992, und='cm', norma='AISC360')"
   ]
  },
  {
   "cell_type": "code",
   "execution_count": 54,
   "metadata": {},
   "outputs": [
    {
     "name": "stdout",
     "output_type": "stream",
     "text": [
      "propriedades_perfil(A=94.8, Ix=33300.0, Iy=1670.0, J=51.6, Wxs=1460.0, Wxi=1460.0, Wys=175.0, Wyi=175.0, Zx=1660.0, Zy=272.0, Awx=55.39, Awy=41.221399999999996, xo=0, yo=0, Cw=816000.0)\n",
      "Ag = 14.7163728 in²\n",
      "Ix = 802.4705826768001 in4\n",
      "Wx = 89.29795664000001 in3\n",
      "ry = 1.653675486918082 in\n",
      "J=  1.2434679299136002 in4\n",
      "Zx = 101.53055344000002 in3\n"
     ]
    }
   ],
   "source": [
    "prop_geo = W460X74.prop()\n",
    "print(prop_geo)\n",
    "\n",
    "print('Ag =', prop_geo.A * cm_to_in**2, 'in²')\n",
    "print('Ix =', W460X74.Ix * cm_to_in**4, 'in4')\n",
    "print('Wx =', W460X74.Wx * cm_to_in**3, 'in3')\n",
    "print('ry =', W460X74.ry * cm_to_in, 'in')\n",
    "print('J= ', W460X74.J * cm_to_in **4, 'in4')\n",
    "print('Zx =', W460X74.Zx * cm_to_in**3, 'in3')"
   ]
  },
  {
   "cell_type": "markdown",
   "metadata": {},
   "source": [
    "1A - viga continualmente apoiada Lb = 0"
   ]
  },
  {
   "cell_type": "code",
   "execution_count": 55,
   "metadata": {},
   "outputs": [
    {
     "name": "stdout",
     "output_type": "stream",
     "text": [
      "Mrdx =  380.4847440944882 kip.ft\n"
     ]
    }
   ],
   "source": [
    "Mrdx, dados_FLT, dados_FLM = W460X74.Mrdx(Lb = 0, Cb = 1, data=True)\n",
    "print('Mrdx = ', Mrdx * kNcm_to_kipft, 'kip.ft' )\n"
   ]
  },
  {
   "cell_type": "markdown",
   "metadata": {},
   "source": [
    "2A - viga travada a cada 1/3 do seu comprimento"
   ]
  },
  {
   "cell_type": "code",
   "execution_count": 56,
   "metadata": {},
   "outputs": [
    {
     "name": "stdout",
     "output_type": "stream",
     "text": [
      "Mrdx =  306.6583241850399 kip.ft\n"
     ]
    }
   ],
   "source": [
    "Lb = (35 / 3) * ft_to_cm\n",
    "Cb = 1.01\n",
    "\n",
    "Mrdx, dados_FLT, dados_FLM = W460X74.Mrdx(Lb = Lb, Cb = 1.01, data=True)\n",
    "print('Mrdx = ', Mrdx * kNcm_to_kipft, 'kip.ft' )"
   ]
  },
  {
   "cell_type": "markdown",
   "metadata": {},
   "source": [
    "3A - viga travada no meio do vão"
   ]
  },
  {
   "cell_type": "code",
   "execution_count": 57,
   "metadata": {},
   "outputs": [
    {
     "name": "stdout",
     "output_type": "stream",
     "text": [
      "Mrdx =  288.4933762711251 kip.ft\n",
      "Mn_FLT= 320.54819585680565\n",
      "Lb 17.5 ft\n",
      "Lp= 5.835219836700745 ft\n",
      "Lr= 16.929799590110342 ft\n"
     ]
    }
   ],
   "source": [
    "Lb = (35 / 2) * ft_to_cm\n",
    "Cb = 1.3\n",
    "\n",
    "Mrdx, dados_FLT, dados_FLM = W460X74.Mrdx(Lb, Cb, data=True)\n",
    "print('Mrdx = ', Mrdx * kNcm_to_kipft, 'kip.ft' )\n",
    "print('Mn_FLT=', dados_FLT.Mn * kNcm_to_kipft)\n",
    "print('Lb', dados_FLT.Lb * cm_to_ft, 'ft')\n",
    "print('Lp=', dados_FLT.Lp * cm_to_ft, 'ft')\n",
    "print('Lr=', dados_FLT.Lr * cm_to_ft, 'ft')"
   ]
  },
  {
   "cell_type": "markdown",
   "metadata": {},
   "source": [
    "Exemplo 17 - verificação do momento fletor resistente de perfil I laminado de mesa esbelta em releção ao eixo de maior inércia (eixo X)\n",
    "----------\n",
    "Exemplo F.3 do **manual da AISC - versão15.1** - exemplo convertido para unidades de kN e cm"
   ]
  },
  {
   "cell_type": "code",
   "execution_count": 58,
   "metadata": {},
   "outputs": [],
   "source": [
    "from perfis import PerfilILam\n",
    "from material import Aco\n",
    "from normas import AISC360\n",
    "\n",
    "in_to_cm = 2.54\n",
    "cm_to_in = 0.394\n",
    "ft_to_cm = 30.48\n",
    "cm_to_ft = 1/30.48\n",
    "kN_to_kips = 0.225\n",
    "kNcm_to_kipft = kN_to_kips * (1/ft_to_cm) \n",
    "\n",
    "#Definindo um aço ASTM A992\n",
    "A992 = Aco(20000, 0.3, 34.5, 4.5, 0.6)\n",
    "#Definindo um perfil W530X72\n",
    "W530X72 = PerfilILam('W530X72', A992, und='cm', norma='AISC360')"
   ]
  },
  {
   "cell_type": "code",
   "execution_count": 59,
   "metadata": {},
   "outputs": [
    {
     "name": "stdout",
     "output_type": "stream",
     "text": [
      "propriedades_perfil(A=91.0, Ix=39900.0, Iy=1610.0000000000002, J=33.4, Wxs=1520.0, Wxi=1520.0, Wys=156.0, Wyi=156.0, Zx=1750.0, Zy=244.0, Awx=45.126000000000005, Awy=46.494699999999995, xo=0, yo=0, Cw=1060000.0)\n",
      "Ag = 14.126476000000002 in²\n",
      "Ix = 961.5188062704001 in4\n",
      "Wx = 92.96773568000002 in3\n",
      "ry = 1.6572516637261454 in\n",
      "J=  0.8048804042464001 in4\n",
      "Zx = 107.03522200000002 in3\n",
      "esbeltez da mesa= 9.47\n"
     ]
    }
   ],
   "source": [
    "prop_geo = W530X72.prop()\n",
    "print(prop_geo)\n",
    "\n",
    "print('Ag =', prop_geo.A * cm_to_in**2, 'in²')\n",
    "print('Ix =', W530X72.Ix * cm_to_in**4, 'in4')\n",
    "print('Wx =', W530X72.Wx * cm_to_in**3, 'in3')\n",
    "print('ry =', W530X72.ry * cm_to_in, 'in')\n",
    "print('J= ', W530X72.J * cm_to_in **4, 'in4')\n",
    "print('Zx =', W530X72.Zx * cm_to_in**3, 'in3')\n",
    "print('esbeltez da mesa=', W530X72.esb_mesa)"
   ]
  },
  {
   "cell_type": "markdown",
   "metadata": {},
   "source": [
    "2A - viga continualmente apoiada Lb = 0"
   ]
  },
  {
   "cell_type": "code",
   "execution_count": 60,
   "metadata": {},
   "outputs": [
    {
     "name": "stdout",
     "output_type": "stream",
     "text": [
      "Mrdx =  397.73573200973163 kip.ft\n"
     ]
    }
   ],
   "source": [
    "Mrdx, dados_FLT, dados_FLM = W530X72.Mrdx(Lb = 0, Cb = 1, data=True)\n",
    "print('Mrdx = ', Mrdx * kNcm_to_kipft, 'kip.ft' )"
   ]
  },
  {
   "cell_type": "markdown",
   "metadata": {},
   "source": [
    "Exemplo 18- verificação do momento fletor resistente de perfil I laminado de mesa esbelta em releção ao eixo de menor inércia (eixo Y)\n",
    "----------\n",
    "Exemplo F.5 do **manual da AISC - versão15.1** - exemplo convertido para unidades de kN e cm"
   ]
  },
  {
   "cell_type": "code",
   "execution_count": 61,
   "metadata": {},
   "outputs": [],
   "source": [
    "from perfis import PerfilILam\n",
    "from material import Aco\n",
    "from normas import AISC360\n",
    "\n",
    "in_to_cm = 2.54\n",
    "cm_to_in = 0.394\n",
    "ft_to_cm = 30.48\n",
    "cm_to_ft = 1/30.48\n",
    "kN_to_kips = 0.225\n",
    "kNcm_to_kipft = kN_to_kips * (1/ft_to_cm) \n",
    "\n",
    "#Definindo um aço ASTM A992\n",
    "A992 = Aco(20000, 0.3, 34.5, 4.5, 0.6)\n",
    "#Definindo um perfil W310X86\n",
    "W310X86 = PerfilILam('W310X86', A992, und='cm', norma='AISC360')"
   ]
  },
  {
   "cell_type": "code",
   "execution_count": 62,
   "metadata": {},
   "outputs": [
    {
     "name": "stdout",
     "output_type": "stream",
     "text": [
      "propriedades_perfil(A=110.0, Ix=19800.0, Iy=4450.0, J=87.4, Wxs=1280.0, Wxi=1280.0, Wys=351.0, Wyi=351.0, Zx=1420.0, Zy=533.0, Awx=82.804, Awy=28.334, xo=0, yo=0, Cw=959000.0)\n",
      "Ag = 17.075960000000002 in²\n",
      "Iy = 107.23705984720002 in4\n",
      "Wy = 21.468207384000003 in3\n",
      "ry = 2.505993179995073 in\n",
      "J=  2.1061840518304003 in4\n",
      "Zy = 32.599870472000006 in3\n"
     ]
    }
   ],
   "source": [
    "prop_geo = W310X86.prop()\n",
    "print(prop_geo)\n",
    "\n",
    "print('Ag =', prop_geo.A * cm_to_in**2, 'in²')\n",
    "print('Iy =', W310X86.Iy * cm_to_in**4, 'in4')\n",
    "print('Wy =', W310X86.Wy * cm_to_in**3, 'in3')\n",
    "print('ry =', W310X86.ry * cm_to_in, 'in')\n",
    "print('J= ', W310X86.J * cm_to_in **4, 'in4')\n",
    "print('Zy =', W310X86.Zy * cm_to_in**3, 'in3')"
   ]
  },
  {
   "cell_type": "code",
   "execution_count": 63,
   "metadata": {},
   "outputs": [
    {
     "name": "stdout",
     "output_type": "stream",
     "text": [
      "Mrdy= 122.16769192913387 kip.ft\n"
     ]
    }
   ],
   "source": [
    "Lb = 15 * ft_to_cm\n",
    "Mrd, dados_FLM = W310X86.Mrdy(Lb, Cb = 1, data=True)\n",
    "\n",
    "print('Mrdy=', Mrd*kNcm_to_kipft, 'kip.ft')"
   ]
  },
  {
   "cell_type": "markdown",
   "metadata": {},
   "source": [
    "Exemplo 19- verificação do momento fletor resistente de perfil tubular HSS\n",
    "----------\n",
    "\n",
    "Exemplo F.6 do **manual da AISC - versão15.1** - exemplo convertido para unidades de kN e cm"
   ]
  },
  {
   "cell_type": "code",
   "execution_count": 64,
   "metadata": {},
   "outputs": [],
   "source": [
    "from perfis import TuboRet\n",
    "from material import Aco\n",
    "from normas import AISC360\n",
    "\n",
    "in_to_cm = 2.54\n",
    "cm_to_in = 0.394\n",
    "ft_to_cm = 30.48\n",
    "cm_to_ft = 1/30.48\n",
    "kN_to_kips = 0.225\n",
    "kNcm_to_kipft = kN_to_kips * (1/ft_to_cm) \n",
    "\n",
    "#Definição do Aço com as propriedades em kN/cm²\n",
    "A500 = Aco(20000, 0.3, 34.5, 43.0, 0.6)\n",
    "\n",
    "#Definindo um perfil HSS retangular\n",
    "tubo90x90 = TuboRet('HSS88.9X88.9X3.2', A500, und='cm', norma='AISC360')"
   ]
  },
  {
   "cell_type": "code",
   "execution_count": 65,
   "metadata": {},
   "outputs": [
    {
     "name": "stdout",
     "output_type": "stream",
     "text": [
      "Mrd =  7.209649353183258 kip.ft\n"
     ]
    }
   ],
   "source": [
    "Mrdx = tubo90x90.Mrdx(Lb=0, Cb=1)\n",
    "\n",
    "print('Mrd = ', Mrdx * kNcm_to_kipft, 'kip.ft')"
   ]
  },
  {
   "cell_type": "markdown",
   "metadata": {},
   "source": [
    "Exemplo 20- verificação do momento fletor resistente de perfil tubular HSS com mesas não compactas\n",
    "----------\n",
    "\n",
    "Exemplo F.7 do **manual da AISC - versão15.1** - exemplo convertido para unidades de kN e cm"
   ]
  },
  {
   "cell_type": "code",
   "execution_count": 66,
   "metadata": {},
   "outputs": [],
   "source": [
    "from perfis import TuboRet\n",
    "from material import Aco\n",
    "from normas import AISC360\n",
    "\n",
    "in_to_cm = 2.54\n",
    "cm_to_in = 0.394\n",
    "ft_to_cm = 30.48\n",
    "cm_to_ft = 1/30.48\n",
    "kN_to_kips = 0.225\n",
    "kNcm_to_kipft = kN_to_kips * (1/ft_to_cm)\n",
    "kNcm_to_kipin = kN_to_kips * cm_to_in \n",
    "\n",
    "#Definição do Aço com as propriedades em kN/cm²\n",
    "A500 = Aco(20000, 0.3, 34.5, 43.0, 0.6)\n",
    "\n",
    "#Definindo um perfil HSS retangular\n",
    "tubo25x15 = TuboRet('HSS254X152.4X4.8', A500, und='cm', norma='AISC360')"
   ]
  },
  {
   "cell_type": "code",
   "execution_count": 67,
   "metadata": {},
   "outputs": [
    {
     "name": "stdout",
     "output_type": "stream",
     "text": [
      "propriedades_perfil(A=34.6, Ix=3110.0, Iy=1420.0, J=3070.0, Wxs=244.0, Wxi=244.0, Wys=187.0, Wyi=187.0, Zx=295.0, Zy=208.0, Awx=12.307932000000001, Awy=21.294676, xo=0, yo=0, Cw=0.0)\n",
      "\n",
      "\n",
      "Ag = 5.3711656 in²\n",
      "Zx = 18.04308028 in3\n",
      "Wx = 14.923768096000003 in3\n",
      "ry = 2.524075518964028 in\n",
      "J=  73.98152218672001 in4\n",
      "b/t=  31.5\n",
      "h/t=  54.5\n"
     ]
    }
   ],
   "source": [
    "prop_geo = tubo25x15.prop()\n",
    "\n",
    "print(prop_geo)\n",
    "print('\\n')\n",
    "print('Ag =', prop_geo.A * cm_to_in**2, 'in²')\n",
    "print('Zx =', tubo25x15.Zx * cm_to_in ** 3, 'in3')\n",
    "print('Wx =', tubo25x15.Wx * cm_to_in ** 3, 'in3')\n",
    "print('ry =', tubo25x15.ry * cm_to_in, 'in')\n",
    "print('J= ', tubo25x15.J * cm_to_in ** 4, 'in4')\n",
    "print('b/t= ', tubo25x15.esb_mesa)\n",
    "print('h/t= ', tubo25x15.esb_alma)"
   ]
  },
  {
   "cell_type": "code",
   "execution_count": 68,
   "metadata": {},
   "outputs": [],
   "source": [
    "Lb = 21 * ft_to_cm\n",
    "Mrdx, dados_FLT, dados_FLM, dados_FLA = tubo25x15.Mrdx(Lb=Lb, Cb=1.14, data=True)"
   ]
  },
  {
   "cell_type": "code",
   "execution_count": 69,
   "metadata": {},
   "outputs": [
    {
     "name": "stdout",
     "output_type": "stream",
     "text": [
      "Mrdx=  59.77714364176458 kip.ft\n"
     ]
    }
   ],
   "source": [
    "print('Mrdx= ', Mrdx * kNcm_to_kipft, 'kip.ft')"
   ]
  },
  {
   "cell_type": "markdown",
   "metadata": {},
   "source": [
    "Exemplo 21- verificação do momento fletor resistente de perfil tubular HSS com mesas esbeltaz\n",
    "----------\n",
    "\n",
    "Exemplo F.8 do **manual da AISC - versão15.1** - exemplo convertido para unidades de kN e cm"
   ]
  },
  {
   "cell_type": "code",
   "execution_count": 70,
   "metadata": {},
   "outputs": [],
   "source": [
    "from perfis import TuboRet\n",
    "from material import Aco\n",
    "from normas import AISC360\n",
    "\n",
    "in_to_cm = 2.54\n",
    "cm_to_in = 0.394\n",
    "ft_to_cm = 30.48\n",
    "cm_to_ft = 1/30.48\n",
    "kN_to_kips = 0.225\n",
    "kNcm_to_kipft = kN_to_kips * (1/ft_to_cm)\n",
    "kNcm_to_kipin = kN_to_kips * cm_to_in \n",
    "\n",
    "#Definição do Aço com as propriedades em kN/cm²\n",
    "A500 = Aco(20000, 0.3, 34.5, 43.0, 0.6)\n",
    "\n",
    "#Definindo um perfil HSS retangular\n",
    "tubo20x20 = TuboRet('HSS203.2X203.2X4.8', A500, und='cm', norma='AISC360')"
   ]
  },
  {
   "cell_type": "code",
   "execution_count": 71,
   "metadata": {},
   "outputs": [
    {
     "name": "stdout",
     "output_type": "stream",
     "text": [
      "propriedades_perfil(A=34.6, Ix=2260.0, Iy=2260.0, J=3520.0, Wxs=223.0, Wxi=223.0, Wys=223.0, Wyi=223.0, Zx=257.0, Zy=257.0, Awx=16.801304000000002, Awy=16.801304000000002, xo=0, yo=0, Cw=0.0)\n",
      "\n",
      "\n",
      "Ag = 5.3711656 in²\n",
      "Ix = 54.461967472960005 in4\n",
      "Zx = 15.718886888000002 in3\n",
      "Wx = 13.639345432000002 in3\n",
      "ry = 3.1842883797717088 in\n",
      "B = 7.998200000000001 in\n",
      "H = 7.998200000000001 in\n",
      "t = 0.174148 in\n",
      "b/t=  43.0\n",
      "h/t=  43.0\n"
     ]
    }
   ],
   "source": [
    "prop_geo = tubo20x20.prop()\n",
    "\n",
    "print(prop_geo)\n",
    "print('\\n')\n",
    "print('Ag =', prop_geo.A * cm_to_in**2, 'in²')\n",
    "print('Ix =', tubo20x20.Ix * cm_to_in**4, 'in4')\n",
    "print('Zx =', tubo20x20.Zx * cm_to_in ** 3, 'in3')\n",
    "print('Wx =', tubo20x20.Wx * cm_to_in ** 3, 'in3')\n",
    "print('ry =', tubo20x20.ry * cm_to_in, 'in')\n",
    "print('B =', tubo20x20.b * cm_to_in, 'in')\n",
    "print('H =', tubo20x20.h * cm_to_in, 'in')\n",
    "print('t =', tubo20x20.t * cm_to_in, 'in')\n",
    "print('b/t= ', tubo20x20.esb_mesa)\n",
    "print('h/t= ', tubo20x20.esb_alma)"
   ]
  },
  {
   "cell_type": "code",
   "execution_count": 72,
   "metadata": {},
   "outputs": [
    {
     "name": "stdout",
     "output_type": "stream",
     "text": [
      "Mrd =  45.13847921722964 kip.ft\n"
     ]
    }
   ],
   "source": [
    "Mrd, dados_FLT, dados_FLM, dados_FLA = tubo20x20.Mrdx(Lb=0, Cb=1, data=True)\n",
    "\n",
    "print('Mrd = ', Mrd * kNcm_to_kipft, 'kip.ft')"
   ]
  },
  {
   "cell_type": "markdown",
   "metadata": {},
   "source": [
    "Exemplo 22- verificação do momento fletor resistente de perfil tubular PIPE\n",
    "----------\n",
    "\n",
    "Exemplo F.9 do **manual da AISC - versão15.1** - exemplo convertido para unidades de kN e cm"
   ]
  },
  {
   "cell_type": "code",
   "execution_count": 73,
   "metadata": {},
   "outputs": [],
   "source": [
    "from perfis import TuboCir\n",
    "from normas import AISC360\n",
    "from material import Aco\n",
    "\n",
    "in_to_cm = 2.54\n",
    "cm_to_in = 0.394\n",
    "ft_to_cm = 30.48\n",
    "kN_to_kips = 0.225\n",
    "kN_cm2_to_ksi = 1.4504\n",
    "kNcm_to_kipft = kN_to_kips * (1/ft_to_cm)\n",
    "kNcm_to_kipin = kN_to_kips * cm_to_in \n",
    "\n",
    "#Definição do Aço com as propriedades em kN/cm²\n",
    "A53 = Aco(20000, 0.3, 24.13, 42.0, 0.6)\n",
    "\n",
    "#Definindo um perfil PIPE\n",
    "p200XS = TuboCir('Pipe200XS', A53, und='cm', norma='AISC360')"
   ]
  },
  {
   "cell_type": "code",
   "execution_count": 74,
   "metadata": {},
   "outputs": [
    {
     "name": "stdout",
     "output_type": "stream",
     "text": [
      "propriedades_perfil(A=76.8, Ix=4160.0, Iy=4160.0, J=8280.0, Wxs=379.0, Wxi=379.0, Wys=379.0, Wyi=379.0, Zx=508.0, Zy=508.0, Awx=38.4, Awy=38.4, xo=0, yo=0, Cw=0.0)\n",
      "\n",
      "\n",
      "Ag = 11.9221248 in²\n",
      "Zx = 31.070795872000005 in3\n",
      "D/t=  18.5\n"
     ]
    }
   ],
   "source": [
    "prop_geo = p200XS.prop()\n",
    "\n",
    "print(prop_geo)\n",
    "print('\\n')\n",
    "print('Ag =', prop_geo.A * cm_to_in**2, 'in²')\n",
    "print('Zx =', p200XS.Zx * cm_to_in**3, 'in3')\n",
    "print('D/t= ', p200XS.esb)"
   ]
  },
  {
   "cell_type": "code",
   "execution_count": 75,
   "metadata": {},
   "outputs": [
    {
     "name": "stdout",
     "output_type": "stream",
     "text": [
      "Mrd= 81.43874999999998 kip.ft\n"
     ]
    }
   ],
   "source": [
    "Mrd, dados= p200XS.Mrdx(Lb=0, Cb=1, data=True)\n",
    "\n",
    "print('Mrd=', Mrd * kNcm_to_kipft, 'kip.ft')"
   ]
  },
  {
   "cell_type": "markdown",
   "metadata": {},
   "source": [
    "Exemplo 22- Determinação da capacidade resistênte ao cortante de perfil W\n",
    "----------\n",
    "\n",
    "Exemplo G.1 do **manual da AISC - versão15.1** - exemplo convertido para unidades de kN e cm"
   ]
  },
  {
   "cell_type": "code",
   "execution_count": 76,
   "metadata": {},
   "outputs": [],
   "source": [
    "from perfis import PerfilILam\n",
    "from material import Aco\n",
    "from normas import AISC360\n",
    "\n",
    "in_to_cm = 2.54\n",
    "cm_to_in = 0.394\n",
    "ft_to_cm = 30.48\n",
    "cm_to_ft = 1/30.48\n",
    "kN_to_kips = 0.225\n",
    "kNcm_to_kipft = kN_to_kips * (1/ft_to_cm) \n",
    "\n",
    "#Definindo um aço ASTM A992\n",
    "A992 = Aco(20000, 0.3, 34.5, 4.5, 0.6)\n",
    "#Definindo um perfil W460X74\n",
    "W610X92 = PerfilILam('W610X92', A992, und='cm', norma='AISC360')"
   ]
  },
  {
   "cell_type": "code",
   "execution_count": 77,
   "metadata": {},
   "outputs": [
    {
     "name": "stdout",
     "output_type": "stream",
     "text": [
      "propriedades_perfil(A=117.0, Ix=64500.0, Iy=1440.0, J=71.2, Wxs=2150.0, Wxi=2150.0, Wys=161.0, Wyi=161.0, Zx=2510.0, Zy=257.0, Awx=53.699999999999996, Awy=65.61800000000001, xo=0, yo=0, Cw=1240000.0)\n",
      "\n",
      "\n",
      "Aw = 10.186275848000003 in²\n",
      "d = 23.7188 in\n",
      "tw = 0.42946000000000006 in\n"
     ]
    }
   ],
   "source": [
    "prop_geo = W610X92.prop()\n",
    "\n",
    "print(prop_geo)\n",
    "print('\\n')\n",
    "print('Aw =', prop_geo.Awy * cm_to_in**2, 'in²')\n",
    "print('d =', W610X92.d * cm_to_in, 'in')\n",
    "print('tw =', W610X92.tw * cm_to_in, 'in')"
   ]
  },
  {
   "cell_type": "code",
   "execution_count": 78,
   "metadata": {},
   "outputs": [
    {
     "data": {
      "text/plain": [
       "1358.2926000000002"
      ]
     },
     "execution_count": 78,
     "metadata": {},
     "output_type": "execute_result"
    }
   ],
   "source": [
    "W610X92.Vrdy()"
   ]
  },
  {
   "cell_type": "markdown",
   "metadata": {},
   "source": [
    "Exemplo 23- Determinação da capacidade resistênte ao cortante de perfil tubo retangular HSS\n",
    "----------\n",
    "\n",
    "Exemplo G.4 do **manual da AISC - versão15.1** - exemplo convertido para unidades de kN e cm"
   ]
  },
  {
   "cell_type": "code",
   "execution_count": 79,
   "metadata": {},
   "outputs": [],
   "source": [
    "from perfis import TuboRet\n",
    "from material import Aco\n",
    "from normas import AISC360\n",
    "\n",
    "in_to_cm = 2.54\n",
    "cm_to_in = 0.394\n",
    "ft_to_cm = 30.48\n",
    "cm_to_ft = 1/30.48\n",
    "kN_to_kips = 0.225\n",
    "kNcm_to_kipft = kN_to_kips * (1/ft_to_cm)\n",
    "kNcm_to_kipin = kN_to_kips * cm_to_in \n",
    "\n",
    "#Definição do Aço com as propriedades em kN/cm²\n",
    "A500 = Aco(20000, 0.3, 34.5, 43.0, 0.6)\n",
    "\n",
    "#Definindo um perfil HSS retangular\n",
    "tubo15x10 = TuboRet('HSS152.4X101.6X9.5', A500, und='cm', norma='AISC360')"
   ]
  },
  {
   "cell_type": "code",
   "execution_count": 80,
   "metadata": {},
   "outputs": [
    {
     "name": "stdout",
     "output_type": "stream",
     "text": [
      "propriedades_perfil(A=39.9, Ix=1180.0, Iy=620.0, J=1370.0, Wxs=155.0, Wxi=155.0, Wys=122.0, Wyi=122.0, Zx=195.0, Zy=147.0, Awx=13.282132319999999, Awy=22.29388639999999, xo=0, yo=0, Cw=0.0)\n",
      "\n",
      "\n",
      "B = 4.0188 in\n",
      "H = 5.9888 in\n",
      "t = 0.34908399999999995 in\n"
     ]
    }
   ],
   "source": [
    "prop_geo = tubo15x10.prop()\n",
    "\n",
    "print(prop_geo)\n",
    "print('\\n')\n",
    "print('B =', tubo15x10.b * cm_to_in, 'in')\n",
    "print('H =', tubo15x10.h * cm_to_in, 'in')\n",
    "print('t =', tubo15x10.t * cm_to_in, 'in')"
   ]
  },
  {
   "cell_type": "code",
   "execution_count": 81,
   "metadata": {},
   "outputs": [
    {
     "name": "stdout",
     "output_type": "stream",
     "text": [
      "Vrd=  93.45039831719996 kips\n"
     ]
    }
   ],
   "source": [
    "Vrd, dados = tubo15x10.Vrdy(data=True)\n",
    "print('Vrd= ', Vrd * kN_to_kips, 'kips')\n"
   ]
  },
  {
   "cell_type": "markdown",
   "metadata": {},
   "source": [
    "Exemplo 23- Determinação da capacidade resistênte ao cortante de perfil tubo circular HSS\n",
    "----------\n",
    "\n",
    "Exemplo G.5 do **manual da AISC - versão15.1** - exemplo convertido para unidades de kN e cm"
   ]
  },
  {
   "cell_type": "code",
   "execution_count": 82,
   "metadata": {},
   "outputs": [],
   "source": [
    "from perfis import TuboCir\n",
    "from material import Aco\n",
    "from normas import AISC360\n",
    "\n",
    "in_to_cm = 2.54\n",
    "cm_to_in = 0.394\n",
    "ft_to_cm = 30.48\n",
    "cm_to_ft = 1/30.48\n",
    "kN_cm2_to_ksi = 1.45\n",
    "kN_to_kips = 0.225\n",
    "kNcm_to_kipft = kN_to_kips * (1/ft_to_cm)\n",
    "kNcm_to_kipin = kN_to_kips * cm_to_in \n",
    "\n",
    "#Definição do Aço com as propriedades em kN/cm²\n",
    "A500 = Aco(20000, 0.3, 31.7, 43.0, 0.6)\n",
    "\n",
    "#Definindo um perfil HSS retangular\n",
    "tubo40 = TuboCir('HSS406.4X9.5', A500, und='cm', norma='AISC360')"
   ]
  },
  {
   "cell_type": "code",
   "execution_count": 83,
   "metadata": {},
   "outputs": [
    {
     "name": "stdout",
     "output_type": "stream",
     "text": [
      "propriedades_perfil(A=111.0, Ix=21900.0, Iy=21900.0, J=43700.0, Wxs=1080.0, Wxi=1080.0, Wys=1080.0, Wyi=1080.0, Zx=1400.0, Zy=1400.0, Awx=55.5, Awy=55.5, xo=0, yo=0, Cw=0.0)\n",
      "\n",
      "\n",
      "A = 17.231196 in\n",
      "D/t = 45.8\n"
     ]
    }
   ],
   "source": [
    "prop_geo = tubo40.prop()\n",
    "\n",
    "print(prop_geo)\n",
    "print('\\n')\n",
    "print('A =', tubo40.A * cm_to_in ** 2, 'in')\n",
    "print('D/t =', tubo40.esb )"
   ]
  },
  {
   "cell_type": "code",
   "execution_count": 84,
   "metadata": {},
   "outputs": [
    {
     "name": "stdout",
     "output_type": "stream",
     "text": [
      "Vrd=  213.761025 kips\n"
     ]
    }
   ],
   "source": [
    "Lv = 192 * in_to_cm\n",
    "Vrd, dados = tubo40.Vrdy(Lv = Lv, data=True)\n",
    "\n",
    "print('Vrd= ', Vrd * kN_to_kips, 'kips')"
   ]
  },
  {
   "cell_type": "markdown",
   "metadata": {},
   "source": [
    "Exemplo 24- Determinação da capacidade resistênte a torção de perfil tubo retangular HSS\n",
    "----------\n",
    "\n",
    "Exemplo H.5 do **manual da AISC - versão15.1** - exemplo convertido para unidades de kN e cm"
   ]
  },
  {
   "cell_type": "code",
   "execution_count": 85,
   "metadata": {},
   "outputs": [],
   "source": [
    "from perfis import TuboRet\n",
    "from material import Aco\n",
    "from normas import AISC360\n",
    "\n",
    "in_to_cm = 2.54\n",
    "cm_to_in = 0.394\n",
    "ft_to_cm = 30.48\n",
    "cm_to_ft = 1/30.48\n",
    "kN_to_kips = 0.225\n",
    "kN_cm2_to_ksi = 1.45\n",
    "kNcm_to_kipft = kN_to_kips * (1/ft_to_cm)\n",
    "kNcm_to_kipin = kN_to_kips * cm_to_in \n",
    "\n",
    "#Definição do Aço com as propriedades em kN/cm²\n",
    "fy = 50 * (1 / kN_cm2_to_ksi)\n",
    "fu =  62 * (1/ kN_cm2_to_ksi)\n",
    "A500 = Aco(20000, 0.3, fy, fu, 0.6)\n",
    "\n",
    "#Definindo um perfil HSS retangular\n",
    "tubo15x10 = TuboRet('HSS152.4X101.6X6.4', A500, und='cm', norma='AISC360')"
   ]
  },
  {
   "cell_type": "code",
   "execution_count": 86,
   "metadata": {},
   "outputs": [
    {
     "name": "stdout",
     "output_type": "stream",
     "text": [
      "propriedades_perfil(A=27.7, Ix=870.0, Iy=462.0, J=982.0, Wxs=114.0, Wxi=114.0, Wys=91.1, Wyi=91.1, Zx=140.0, Zy=106.0, Awx=9.953177599999998, Awy=15.9811584, xo=0, yo=0, Cw=0.0)\n",
      "\n",
      "\n",
      "t = 0.233248 in\n",
      "Wt = 10.153055344000002 in3\n",
      "b/t=  14.2\n",
      "h/t=  22.8\n"
     ]
    }
   ],
   "source": [
    "prop_geo = tubo15x10.prop()\n",
    "\n",
    "print(prop_geo)\n",
    "print('\\n')\n",
    "print('t =', tubo15x10.t * cm_to_in, 'in')\n",
    "print('Wt =', tubo15x10.Wt * cm_to_in ** 3, 'in3')\n",
    "print('b/t= ', tubo15x10.esb_mesa)\n",
    "print('h/t= ', tubo15x10.esb_alma)"
   ]
  },
  {
   "cell_type": "code",
   "execution_count": 87,
   "metadata": {},
   "outputs": [
    {
     "name": "stdout",
     "output_type": "stream",
     "text": [
      "Trd= 274.02020689655177 kip.in\n"
     ]
    }
   ],
   "source": [
    "Trd, dados = tubo15x10.Trd(L=0, data=True)\n",
    "print('Trd=', Trd * kNcm_to_kipin, 'kip.in')"
   ]
  },
  {
   "cell_type": "markdown",
   "metadata": {},
   "source": [
    "Exemplo 24- Determinação da capacidade resistênte a torção de perfil tubo circular HSS\n",
    "----------\n",
    "\n",
    "Exemplo H.6 do **manual da AISC - versão15.1** - exemplo convertido para unidades de kN e cm"
   ]
  },
  {
   "cell_type": "code",
   "execution_count": 88,
   "metadata": {},
   "outputs": [],
   "source": [
    "from perfis import TuboCir\n",
    "from material import Aco\n",
    "from normas import AISC360\n",
    "\n",
    "in_to_cm = 2.54\n",
    "cm_to_in = 0.394\n",
    "ft_to_cm = 30.48\n",
    "cm_to_ft = 1/30.48\n",
    "kN_cm2_to_ksi = 1.45\n",
    "kN_to_kips = 0.225\n",
    "kNcm_to_kipft = kN_to_kips * (1/ft_to_cm)\n",
    "kNcm_to_kipin = kN_to_kips * cm_to_in \n",
    "\n",
    "#Definição do Aço com as propriedades em kN/cm²\n",
    "fy = 46 * (1 / kN_cm2_to_ksi)\n",
    "fu =  62 * (1/ kN_cm2_to_ksi)\n",
    "A500 = Aco(20000, 0.3, fy, fu, 0.6)\n",
    "\n",
    "#Definindo um perfil HSS retangular\n",
    "tubo13 = TuboCir('HSS127X6.4', A500, und='cm', norma='AISC360')"
   ]
  },
  {
   "cell_type": "code",
   "execution_count": 89,
   "metadata": {},
   "outputs": [
    {
     "name": "stdout",
     "output_type": "stream",
     "text": [
      "propriedades_perfil(A=22.5, Ix=413.99999999999994, Iy=413.99999999999994, J=828.0, Wxs=65.1, Wxi=65.1, Wys=65.1, Wyi=65.1, Zx=86.9, Zy=86.9, Awx=11.25, Awy=11.25, xo=0, yo=0, Cw=0.0)\n",
      "\n",
      "\n",
      "D = 5.0038 in\n",
      "t= 0.233248\n",
      "D/t = 21.5\n",
      "Wt 7.9511879200000015 in3\n"
     ]
    }
   ],
   "source": [
    "prop_geo = tubo13.prop()\n",
    "\n",
    "print(prop_geo)\n",
    "print('\\n')\n",
    "print('D =', tubo13.D * cm_to_in, 'in')\n",
    "print('t=' , tubo13.t* cm_to_in)\n",
    "print('D/t =', tubo13.esb )\n",
    "print('Wt', tubo13.Wt * cm_to_in**3, 'in3')"
   ]
  },
  {
   "cell_type": "code",
   "execution_count": 90,
   "metadata": {},
   "outputs": [
    {
     "name": "stdout",
     "output_type": "stream",
     "text": [
      "Trd= 197.42660689655176 kip.in\n"
     ]
    }
   ],
   "source": [
    "L = 14 * ft_to_cm\n",
    "Trd, dados = tubo13.Trd(L, data=True)\n",
    "print('Trd=', Trd * kNcm_to_kipin, 'kip.in')"
   ]
  }
 ],
 "metadata": {
  "kernelspec": {
   "display_name": "Python 3.7.3 ('base')",
   "language": "python",
   "name": "python3"
  },
  "language_info": {
   "codemirror_mode": {
    "name": "ipython",
    "version": 3
   },
   "file_extension": ".py",
   "mimetype": "text/x-python",
   "name": "python",
   "nbconvert_exporter": "python",
   "pygments_lexer": "ipython3",
   "version": "3.7.3"
  },
  "metadata": {
   "interpreter": {
    "hash": "9685c742d0dbdc333b7069f373b9bb80e4c938c5f883b4ee3d5911d9ebcf0e9e"
   }
  },
  "vscode": {
   "interpreter": {
    "hash": "edf54ad24ebfb5fa8d28ab7d9e358dbacd9f36fc2103704bbb673ffd32c4b39f"
   }
  }
 },
 "nbformat": 4,
 "nbformat_minor": 2
}
