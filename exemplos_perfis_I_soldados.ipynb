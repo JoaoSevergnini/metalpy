{
 "cells": [
  {
   "cell_type": "markdown",
   "metadata": {},
   "source": [
    "Exemplos *Classe PerfilI*\n",
    "-----------------------\n",
    "Este notebook apresenta exemplos de utilização da classe *PerfilI* que representa o perfil metálico do tipo *I laminado*. Estes exemplos tem por objetivo mostrar como utilizar a biblioteca Metalpy, aprsentar algumas funcionalidades e servir como validação dos métodos implementados.\n",
    "\n",
    "Os exemplos apresentados são exemplos já resolvidos obtidos de livros e manuais das seguintes referências:\n",
    "\n",
    "[1] PFEIL, WALTER. **Estruturas de aço: dimensionamento prático.** 9ª Edição. Rio de Janeiro. LTC, 2022.\n",
    "\n",
    "[2] CANADIAN INSTITUTE OF STEEL CONSTRUCTION. **Torsional section of Steel Construction** 2002.\n",
    "\n",
    "[3] AMERICAN INSTITUTE OF STEEL CONSTRUCTION. AISC 360: **Companion to the AISC steel construction manual - Volume 1: Design Examples.** V15.1, Chicago. Illinois, 2015.\n",
    "\n",
    "--------------------------------------------------------------------------------------------------------------------------------------"
   ]
  },
  {
   "cell_type": "markdown",
   "metadata": {},
   "source": [
    "### Exemplo 1\n",
    "\n",
    "Este exemplo é o exercícico 6.5.1.b) dos problemas resolvidos do capitulo 6 de [1], o exercicio trata da obtenção do momento fletor resistênte de um perfil I laminado VS 500X86, apresentado na figura abaixo. Considera-se o perfil contido lateralmente em toda a sua extensão. Aço MR250.\n",
    "\n",
    "<img src=\"img\\\\EX1_I_soldado.png\" alt= \"Perfil VS 500X86\">"
   ]
  },
  {
   "cell_type": "code",
   "execution_count": 39,
   "metadata": {},
   "outputs": [],
   "source": [
    "from perfis import PerfilI\n",
    "from material import Aco\n",
    "\n",
    "import pandas as pd\n",
    "\n",
    "#Definindo o aço do tipo MR250 com as propriedades em kN/cm²\n",
    "MR250 = Aco(20000, 0.3, 25, 30, 0.6)\n",
    "\n",
    "#Dados do perfil VS 500 X 86 em cm\n",
    "\n",
    "# Altura total \n",
    "d = 50 \n",
    "# Largura da mesa superior e inferior\n",
    "bfs=bfi= 25 \n",
    "# Espessura da alma\n",
    "tw = 0.63\n",
    "# Espessura da alma superior e inferior\n",
    "tfs=tfi= 1.6\n",
    "\n",
    "# Criando o perfil VS500X86 com métodos de determinação da capacidade resistênte da norma NBR8800:2008\n",
    "VS500X86 = PerfilI(d, bfs, bfi, tw, tfs, tfi, MR250, 'NBR8800')\n"
   ]
  },
  {
   "cell_type": "markdown",
   "metadata": {},
   "source": [
    "Comparação entre os valores de referência e valores obtidos com Metalpy"
   ]
  },
  {
   "cell_type": "code",
   "execution_count": 43,
   "metadata": {},
   "outputs": [
    {
     "data": {
      "text/html": [
       "<div>\n",
       "<style scoped>\n",
       "    .dataframe tbody tr th:only-of-type {\n",
       "        vertical-align: middle;\n",
       "    }\n",
       "\n",
       "    .dataframe tbody tr th {\n",
       "        vertical-align: top;\n",
       "    }\n",
       "\n",
       "    .dataframe thead th {\n",
       "        text-align: right;\n",
       "    }\n",
       "</style>\n",
       "<table border=\"1\" class=\"dataframe\">\n",
       "  <thead>\n",
       "    <tr style=\"text-align: right;\">\n",
       "      <th></th>\n",
       "      <th>Referência</th>\n",
       "      <th>Metalpy</th>\n",
       "    </tr>\n",
       "  </thead>\n",
       "  <tbody>\n",
       "    <tr>\n",
       "      <th>bf/2tf</th>\n",
       "      <td>7.8</td>\n",
       "      <td>7.812500</td>\n",
       "    </tr>\n",
       "    <tr>\n",
       "      <th>h/tw</th>\n",
       "      <td>74.0</td>\n",
       "      <td>74.285714</td>\n",
       "    </tr>\n",
       "    <tr>\n",
       "      <th>Zx (cm³)</th>\n",
       "      <td>2281.0</td>\n",
       "      <td>2280.962800</td>\n",
       "    </tr>\n",
       "    <tr>\n",
       "      <th>Mrdx(kN.cm)</th>\n",
       "      <td>51840.0</td>\n",
       "      <td>51840.063636</td>\n",
       "    </tr>\n",
       "  </tbody>\n",
       "</table>\n",
       "</div>"
      ],
      "text/plain": [
       "             Referência       Metalpy\n",
       "bf/2tf              7.8      7.812500\n",
       "h/tw               74.0     74.285714\n",
       "Zx (cm³)         2281.0   2280.962800\n",
       "Mrdx(kN.cm)     51840.0  51840.063636"
      ]
     },
     "execution_count": 43,
     "metadata": {},
     "output_type": "execute_result"
    }
   ],
   "source": [
    "#Respostas do exercicio\n",
    "r_esb_mesa = 7.8 # Esbeltez da mesa\n",
    "r_esb_alma = 74 # Esbeltez da alma\n",
    "r_Zx = 2281 # Módulo plástico\n",
    "r_Mrdx = 51840 #Momento resistênte\n",
    "\n",
    "#Respostas com Metalpy\n",
    "mp_esb_mesa = VS500X86.esb_mesa\n",
    "mp_esb_alma =  VS500X86.esb_alma\n",
    "mp_Zx = VS500X86.Zx\n",
    "# Obtendo o momento fletor resistente em relação ao eixo X(maior inércia)\n",
    "Mrdx, dados_FLT, dados_FLM, dados_FLA = VS500X86.Mrdx(Lb=0, Cb=1, data=True)\n",
    "\n",
    "columns = 'Referência Metalpy'.split()\n",
    "index = ['bf/2tf', 'h/tw', 'Zx (cm³)', 'Mrdx(kN.cm)']\n",
    "data = zip([r_esb_mesa, r_esb_alma, r_Zx, r_Mrdx], [ mp_esb_mesa, mp_esb_alma, mp_Zx, Mrdx])\n",
    "\n",
    "df = pd.DataFrame(data,index=index,columns=columns)\n",
    "\n",
    "df"
   ]
  },
  {
   "cell_type": "code",
   "execution_count": 45,
   "metadata": {},
   "outputs": [],
   "source": [
    "# Verificação\n",
    "tol = 0.02 #tolerência de 2% de erro\n",
    "\n",
    "assert min(r_Mrdx, Mrdx)/ max(r_Mrdx, Mrdx) >= 1 - tol, 'Valor do momento resistênte excede o tolerência'"
   ]
  },
  {
   "cell_type": "markdown",
   "metadata": {},
   "source": [
    "-------------------------------------------------------------------------------------------------------------------------\n",
    "Exemplo 2\n",
    "---------------\n",
    "Exercicio resolvido 6.5.6 de [1] pag.197, o exercício trata da obtenção do momento resistente de projeto de uma viga I soldado, contida lateralmente em toda a sua extesnão (Lb=0), para três espessuras de alma diferentes:\n",
    " * tw1 = 5mm\n",
    " * tw2 = 8mm\n",
    " * tw3 = 10mm\n",
    " \n",
    " A viga é formado por aço MR250 e suas outras dimensões estão apresentadas na figura abaixo.\n",
    " \n",
    " <img src=\"img\\\\EX2_I_soldado.png\">"
   ]
  },
  {
   "cell_type": "code",
   "execution_count": 55,
   "metadata": {},
   "outputs": [],
   "source": [
    "from perfis import PerfilI\n",
    "from material import Aco\n",
    "\n",
    "#dados do problema em cm\n",
    "tw1 = 0.5\n",
    "tw2 = 0.8\n",
    "tw3 = 1\n",
    "bf = 20\n",
    "d = 90\n",
    "tf = 0.95\n",
    "\n",
    "#Definindo o aço do tipo MR250 com as propriedades em kN/cm²\n",
    "MR250 = Aco(20000, 0.3, 25, 30, 0.6)\n",
    "\n",
    "#Definindo 3 perfis I laminados com espessuras da alma tw1, tw2 e te3, respectivamente.\n",
    "perfil1 = PerfilI(d, bf, bf, tw1, tf, tf, MR250, norma='NBR8800')\n",
    "perfil2 = PerfilI(d, bf, bf, tw2, tf, tf, MR250, norma='NBR8800')\n",
    "perfil3 = PerfilI(d, bf, bf, tw3, tf, tf, MR250, norma='NBR8800')"
   ]
  },
  {
   "cell_type": "markdown",
   "metadata": {},
   "source": [
    "Item a) Propriedades Geométricas"
   ]
  },
  {
   "cell_type": "markdown",
   "metadata": {},
   "source": [
    "tw = 5 mm"
   ]
  },
  {
   "cell_type": "code",
   "execution_count": 67,
   "metadata": {},
   "outputs": [
    {
     "data": {
      "text/html": [
       "<div>\n",
       "<style scoped>\n",
       "    .dataframe tbody tr th:only-of-type {\n",
       "        vertical-align: middle;\n",
       "    }\n",
       "\n",
       "    .dataframe tbody tr th {\n",
       "        vertical-align: top;\n",
       "    }\n",
       "\n",
       "    .dataframe thead th {\n",
       "        text-align: right;\n",
       "    }\n",
       "</style>\n",
       "<table border=\"1\" class=\"dataframe\">\n",
       "  <thead>\n",
       "    <tr style=\"text-align: right;\">\n",
       "      <th></th>\n",
       "      <th>Referência</th>\n",
       "      <th>Metalpy</th>\n",
       "    </tr>\n",
       "  </thead>\n",
       "  <tbody>\n",
       "    <tr>\n",
       "      <th>A</th>\n",
       "      <td>88.0</td>\n",
       "      <td>82.050000</td>\n",
       "    </tr>\n",
       "    <tr>\n",
       "      <th>Ix (cm4)</th>\n",
       "      <td>103828.0</td>\n",
       "      <td>103828.508375</td>\n",
       "    </tr>\n",
       "    <tr>\n",
       "      <th>Wx (cm³)</th>\n",
       "      <td>2307.0</td>\n",
       "      <td>2307.300186</td>\n",
       "    </tr>\n",
       "    <tr>\n",
       "      <th>Zx (cm³)</th>\n",
       "      <td>2662.0</td>\n",
       "      <td>2662.151250</td>\n",
       "    </tr>\n",
       "  </tbody>\n",
       "</table>\n",
       "</div>"
      ],
      "text/plain": [
       "          Referência        Metalpy\n",
       "A               88.0      82.050000\n",
       "Ix (cm4)    103828.0  103828.508375\n",
       "Wx (cm³)      2307.0    2307.300186\n",
       "Zx (cm³)      2662.0    2662.151250"
      ]
     },
     "execution_count": 67,
     "metadata": {},
     "output_type": "execute_result"
    }
   ],
   "source": [
    "#Respostas do exercicio\n",
    "r_A1 = 88.0 # Area do perfil\n",
    "r_Ix1 = 103828 # Momento de inércia em X\n",
    "r_Wx1 =  2307 # Módulo elástico\n",
    "r_Zx1 = 2662 # Módulo plástico\n",
    "\n",
    "#Respostas com Metalpy\n",
    "mp_A1 = perfil1.A\n",
    "mp_Ix1 =  perfil1.Ix\n",
    "mp_Wx1 = perfil1.Wx\n",
    "mp_Zx1 = perfil1.Zx\n",
    "\n",
    "\n",
    "columns = 'Referência Metalpy'.split()\n",
    "index = ['A', 'Ix (cm4)', 'Wx (cm³)', 'Zx (cm³)']\n",
    "data = zip([r_A1, r_Ix1, r_Wx1, r_Zx1], [mp_A1, mp_Ix1, mp_Wx1, mp_Zx1])\n",
    "\n",
    "df = pd.DataFrame(data,index=index,columns=columns)\n",
    "df"
   ]
  },
  {
   "cell_type": "markdown",
   "metadata": {},
   "source": [
    "tw = 8 mm"
   ]
  },
  {
   "cell_type": "code",
   "execution_count": 57,
   "metadata": {},
   "outputs": [
    {
     "data": {
      "text/html": [
       "<div>\n",
       "<style scoped>\n",
       "    .dataframe tbody tr th:only-of-type {\n",
       "        vertical-align: middle;\n",
       "    }\n",
       "\n",
       "    .dataframe tbody tr th {\n",
       "        vertical-align: top;\n",
       "    }\n",
       "\n",
       "    .dataframe thead th {\n",
       "        text-align: right;\n",
       "    }\n",
       "</style>\n",
       "<table border=\"1\" class=\"dataframe\">\n",
       "  <thead>\n",
       "    <tr style=\"text-align: right;\">\n",
       "      <th></th>\n",
       "      <th>Referência</th>\n",
       "      <th>Metalpy</th>\n",
       "    </tr>\n",
       "  </thead>\n",
       "  <tbody>\n",
       "    <tr>\n",
       "      <th>A</th>\n",
       "      <td>108.5</td>\n",
       "      <td>108.480000</td>\n",
       "    </tr>\n",
       "    <tr>\n",
       "      <th>Ix (cm4)</th>\n",
       "      <td>120923.0</td>\n",
       "      <td>120923.454400</td>\n",
       "    </tr>\n",
       "    <tr>\n",
       "      <th>Wx (cm³)</th>\n",
       "      <td>2687.0</td>\n",
       "      <td>2687.187876</td>\n",
       "    </tr>\n",
       "    <tr>\n",
       "      <th>Zx (cm³)</th>\n",
       "      <td>3244.0</td>\n",
       "      <td>3244.272000</td>\n",
       "    </tr>\n",
       "  </tbody>\n",
       "</table>\n",
       "</div>"
      ],
      "text/plain": [
       "          Referência        Metalpy\n",
       "A              108.5     108.480000\n",
       "Ix (cm4)    120923.0  120923.454400\n",
       "Wx (cm³)      2687.0    2687.187876\n",
       "Zx (cm³)      3244.0    3244.272000"
      ]
     },
     "execution_count": 57,
     "metadata": {},
     "output_type": "execute_result"
    }
   ],
   "source": [
    "#Respostas do exercicio\n",
    "r_A2 = 108.5 # Area do perfil\n",
    "r_Ix2 = 120923 # Momento de inércia em X\n",
    "r_Wx2 =  2687 # Módulo elástico\n",
    "r_Zx2 = 3244 # Módulo plástico\n",
    "\n",
    "#Respostas com Metalpy\n",
    "mp_A2 = perfil2.A\n",
    "mp_Ix2 =  perfil2.Ix\n",
    "mp_Wx2 = perfil2.Wx\n",
    "mp_Zx2 = perfil2.Zx\n",
    "\n",
    "\n",
    "columns = 'Referência Metalpy'.split()\n",
    "index = ['A', 'Ix (cm4)', 'Wx (cm³)', 'Zx (cm³)']\n",
    "data = zip([r_A2, r_Ix2, r_Wx2, r_Zx2], [mp_A2, mp_Ix2, mp_Wx2, mp_Zx2])\n",
    "\n",
    "df2 = pd.DataFrame(data,index=index,columns=columns)\n",
    "df2"
   ]
  },
  {
   "cell_type": "markdown",
   "metadata": {},
   "source": [
    "tw = 10 mm"
   ]
  },
  {
   "cell_type": "code",
   "execution_count": 59,
   "metadata": {},
   "outputs": [
    {
     "data": {
      "text/html": [
       "<div>\n",
       "<style scoped>\n",
       "    .dataframe tbody tr th:only-of-type {\n",
       "        vertical-align: middle;\n",
       "    }\n",
       "\n",
       "    .dataframe tbody tr th {\n",
       "        vertical-align: top;\n",
       "    }\n",
       "\n",
       "    .dataframe thead th {\n",
       "        text-align: right;\n",
       "    }\n",
       "</style>\n",
       "<table border=\"1\" class=\"dataframe\">\n",
       "  <thead>\n",
       "    <tr style=\"text-align: right;\">\n",
       "      <th></th>\n",
       "      <th>Referência</th>\n",
       "      <th>Metalpy</th>\n",
       "    </tr>\n",
       "  </thead>\n",
       "  <tbody>\n",
       "    <tr>\n",
       "      <th>A(cm²)</th>\n",
       "      <td>126.1</td>\n",
       "      <td>126.100000</td>\n",
       "    </tr>\n",
       "    <tr>\n",
       "      <th>Ix (cm4)</th>\n",
       "      <td>132320.0</td>\n",
       "      <td>132320.085083</td>\n",
       "    </tr>\n",
       "    <tr>\n",
       "      <th>Wx (cm³)</th>\n",
       "      <td>2940.0</td>\n",
       "      <td>2940.446335</td>\n",
       "    </tr>\n",
       "    <tr>\n",
       "      <th>Zx (cm³)</th>\n",
       "      <td>3632.0</td>\n",
       "      <td>3632.352500</td>\n",
       "    </tr>\n",
       "  </tbody>\n",
       "</table>\n",
       "</div>"
      ],
      "text/plain": [
       "          Referência        Metalpy\n",
       "A(cm²)         126.1     126.100000\n",
       "Ix (cm4)    132320.0  132320.085083\n",
       "Wx (cm³)      2940.0    2940.446335\n",
       "Zx (cm³)      3632.0    3632.352500"
      ]
     },
     "execution_count": 59,
     "metadata": {},
     "output_type": "execute_result"
    }
   ],
   "source": [
    "#Respostas do exercicio\n",
    "r_A3 = 126.1 # Area do perfil\n",
    "r_Ix3 = 132320 # Momento de inércia em X\n",
    "r_Wx3 =  2940 # Módulo elástico\n",
    "r_Zx3 = 3632 # Módulo plástico\n",
    "\n",
    "#Respostas com Metalpy\n",
    "mp_A3 = perfil3.A\n",
    "mp_Ix3 =  perfil3.Ix\n",
    "mp_Wx3 = perfil3.Wx\n",
    "mp_Zx3 = perfil3.Zx\n",
    "\n",
    "\n",
    "columns = 'Referência Metalpy'.split()\n",
    "index = ['A(cm²)', 'Ix (cm4)', 'Wx (cm³)', 'Zx (cm³)']\n",
    "data = zip([r_A3, r_Ix3, r_Wx3, r_Zx3], [mp_A3, mp_Ix3, mp_Wx3, mp_Zx3])\n",
    "\n",
    "df3 = pd.DataFrame(data,index=index,columns=columns)\n",
    "df3"
   ]
  },
  {
   "cell_type": "markdown",
   "metadata": {},
   "source": [
    "Item b), c) e d) Momento resistente para as Vigas de espessuras 5, 8 e 10mm "
   ]
  },
  {
   "cell_type": "code",
   "execution_count": 63,
   "metadata": {},
   "outputs": [
    {
     "data": {
      "text/html": [
       "<div>\n",
       "<style scoped>\n",
       "    .dataframe tbody tr th:only-of-type {\n",
       "        vertical-align: middle;\n",
       "    }\n",
       "\n",
       "    .dataframe tbody tr th {\n",
       "        vertical-align: top;\n",
       "    }\n",
       "\n",
       "    .dataframe thead th {\n",
       "        text-align: right;\n",
       "    }\n",
       "</style>\n",
       "<table border=\"1\" class=\"dataframe\">\n",
       "  <thead>\n",
       "    <tr style=\"text-align: right;\">\n",
       "      <th></th>\n",
       "      <th>Referência</th>\n",
       "      <th>Metalpy</th>\n",
       "    </tr>\n",
       "  </thead>\n",
       "  <tbody>\n",
       "    <tr>\n",
       "      <th>Mrdx(tw=5) [kN.cm]</th>\n",
       "      <td>51380</td>\n",
       "      <td>52438.640593</td>\n",
       "    </tr>\n",
       "    <tr>\n",
       "      <th>Mrdx(tw=8) [kN.cm]</th>\n",
       "      <td>72820</td>\n",
       "      <td>72862.150998</td>\n",
       "    </tr>\n",
       "    <tr>\n",
       "      <th>Mrdx(tw=10) [kN.cm]</th>\n",
       "      <td>82550</td>\n",
       "      <td>82553.465909</td>\n",
       "    </tr>\n",
       "  </tbody>\n",
       "</table>\n",
       "</div>"
      ],
      "text/plain": [
       "                     Referência       Metalpy\n",
       "Mrdx(tw=5) [kN.cm]        51380  52438.640593\n",
       "Mrdx(tw=8) [kN.cm]        72820  72862.150998\n",
       "Mrdx(tw=10) [kN.cm]       82550  82553.465909"
      ]
     },
     "execution_count": 63,
     "metadata": {},
     "output_type": "execute_result"
    }
   ],
   "source": [
    "#Respostas do exercicio\n",
    "r_Mrd1 = 51380 #kN.cm\n",
    "r_Mrd2 = 72820 #kN.cm\n",
    "r_Mrd3 = 82550 #kN.cm\n",
    "\n",
    "#Respostas com Metalpy\n",
    "mp_Mrd1 = perfil1.Mrdx(Lb=0, Cb=1)\n",
    "mp_Mrd2 = perfil2.Mrdx(Lb=0, Cb=1)\n",
    "mp_Mrd3 = perfil3.Mrdx(Lb=0, Cb=1)\n",
    "\n",
    "columns = 'Referência Metalpy'.split()\n",
    "index = ['Mrdx(tw=5) [kN.cm]', 'Mrdx(tw=8) [kN.cm]', 'Mrdx(tw=10) [kN.cm]']\n",
    "data = zip([r_Mrd1, r_Mrd2, r_Mrd3], [mp_Mrd1, mp_Mrd2, mp_Mrd3])\n",
    "\n",
    "df = pd.DataFrame(data,index=index,columns=columns)\n",
    "\n",
    "df"
   ]
  },
  {
   "cell_type": "code",
   "execution_count": 66,
   "metadata": {},
   "outputs": [],
   "source": [
    "# Verificação\n",
    "tol = 0.05 #tolerência de 5% de erro\n",
    "\n",
    "assert min(r_Mrd1, mp_Mrd1)/ max(r_Mrd1, mp_Mrd1) >= 1 - tol, 'Valor do momento resistênte para viga com tw=5 excede a tolerência'\n",
    "assert min(r_Mrd2, mp_Mrd2)/ max(r_Mrd2, mp_Mrd2) >= 1 - tol, 'Valor do momento resistênte para viga com tw=8 excede a tolerência'\n",
    "assert min(r_Mrd3, mp_Mrd3)/ max(r_Mrd3, mp_Mrd3) >= 1 - tol, 'Valor do momento resistênte para viga com tw=10 excede a tolerência'"
   ]
  },
  {
   "cell_type": "markdown",
   "metadata": {},
   "source": [
    "-------------------------------------------------------------------------------------------------------------------------\n",
    "Exemplo 3\n",
    "---------------\n",
    "Determinação das propriedades geométricas de perfil I monossimético WRF1200X244.\n",
    "\n",
    "Exemplo retirado de [2]."
   ]
  },
  {
   "cell_type": "code",
   "execution_count": 74,
   "metadata": {},
   "outputs": [],
   "source": [
    "from perfis import PerfilI\n",
    "from normas import NBR8800, AISC360\n",
    "from material import Aco\n",
    "\n",
    "#Definindo o aço do tipo MR250 com as propriedades em kN/cm²\n",
    "\n",
    "    # Obs: o tipo de aço não é relevante para este exemplo, mas \n",
    "    # para criar um perfil do tipo I soldado deve-se fornecer o\n",
    "    # material que o constitui.\n",
    "\n",
    "MR250 = Aco(20000, 0.3, 25, 30, 0.6)\n",
    "\n",
    "#propriedades do perfil em mm\n",
    "d = 1200 # Altura da seção\n",
    "bfs = 300 # Largura da mesa superior\n",
    "bfi = 550 # Largura da mesa inferior\n",
    "tfs = tfi = 20 # Espessuras das mesas\n",
    "tw = 12 # Espessura da alma\n",
    "\n",
    "WRF1200X244 = PerfilI(d, bfs, bfi, tw, tfs, tfi, MR250)"
   ]
  },
  {
   "cell_type": "code",
   "execution_count": 75,
   "metadata": {},
   "outputs": [
    {
     "data": {
      "text/html": [
       "<div>\n",
       "<style scoped>\n",
       "    .dataframe tbody tr th:only-of-type {\n",
       "        vertical-align: middle;\n",
       "    }\n",
       "\n",
       "    .dataframe tbody tr th {\n",
       "        vertical-align: top;\n",
       "    }\n",
       "\n",
       "    .dataframe thead th {\n",
       "        text-align: right;\n",
       "    }\n",
       "</style>\n",
       "<table border=\"1\" class=\"dataframe\">\n",
       "  <thead>\n",
       "    <tr style=\"text-align: right;\">\n",
       "      <th></th>\n",
       "      <th>Referência</th>\n",
       "      <th>Metalpy</th>\n",
       "    </tr>\n",
       "  </thead>\n",
       "  <tbody>\n",
       "    <tr>\n",
       "      <th>J (mm4)</th>\n",
       "      <td>2.950000e+06</td>\n",
       "      <td>2.946347e+06</td>\n",
       "    </tr>\n",
       "    <tr>\n",
       "      <th>Cw (mm6)</th>\n",
       "      <td>5.390000e+13</td>\n",
       "      <td>5.390937e+13</td>\n",
       "    </tr>\n",
       "    <tr>\n",
       "      <th>Ix (mm4)</th>\n",
       "      <td>7.240000e+09</td>\n",
       "      <td>7.197711e+09</td>\n",
       "    </tr>\n",
       "    <tr>\n",
       "      <th>Iy (mm4)</th>\n",
       "      <td>3.220000e+08</td>\n",
       "      <td>3.224587e+08</td>\n",
       "    </tr>\n",
       "  </tbody>\n",
       "</table>\n",
       "</div>"
      ],
      "text/plain": [
       "            Referência       Metalpy\n",
       "J (mm4)   2.950000e+06  2.946347e+06\n",
       "Cw (mm6)  5.390000e+13  5.390937e+13\n",
       "Ix (mm4)  7.240000e+09  7.197711e+09\n",
       "Iy (mm4)  3.220000e+08  3.224587e+08"
      ]
     },
     "execution_count": 75,
     "metadata": {},
     "output_type": "execute_result"
    }
   ],
   "source": [
    "#Respostas do exercicio\n",
    "r_J = 2950e3 # Inércia a torção\n",
    "r_Cw =  53900e9 # Constante de empenamento\n",
    "r_Ix = 7240e6 # Momento de inécia em X\n",
    "r_Iy = 322e6 # Momento de inécia em Y\n",
    "\n",
    "#Respostas com Metalpy\n",
    "mp_J =  WRF1200X244.J\n",
    "mp_Cw = WRF1200X244.Cw\n",
    "mp_Ix = WRF1200X244.Ix\n",
    "mp_Iy = WRF1200X244.Iy\n",
    "\n",
    "\n",
    "columns = 'Referência Metalpy'.split()\n",
    "index = ['J (mm4)', 'Cw (mm6)', 'Ix (mm4)', 'Iy (mm4)']\n",
    "data = zip([r_J, r_Cw, r_Ix, r_Iy], [ mp_J, mp_Cw, mp_Ix, mp_Iy])\n",
    "\n",
    "df = pd.DataFrame(data,index=index,columns=columns)\n",
    "df"
   ]
  },
  {
   "cell_type": "code",
   "execution_count": 76,
   "metadata": {},
   "outputs": [],
   "source": [
    "# Verificação\n",
    "tol = 0.01 #tolerência de 5% de erro\n",
    "\n",
    "assert min(r_J, mp_J)/ max(r_J, mp_J) >= 1 - tol, 'Valor de J excede a tolerência'\n",
    "assert min(r_Cw, mp_Cw)/ max(r_Cw, mp_Cw) >= 1 - tol, 'Valor de Cw excede a tolerência'\n",
    "assert min(r_Ix, mp_Ix)/ max(r_Ix, mp_Ix) >= 1 - tol, 'Valor de Cw excede a tolerência'\n",
    "assert min(r_Iy, mp_Iy)/ max(r_Iy, mp_Iy) >= 1 - tol, 'Valor de Cw excede a tolerência'"
   ]
  },
  {
   "cell_type": "markdown",
   "metadata": {},
   "source": [
    "-------------------------------------------------------------------------------------------------------------------------\n",
    "Exemplo 4\n",
    "---------------\n",
    "Exemplo E.2 de [3]. Determinação da força axial de compressão resistênte de uma coluna I soldado de alma esbelta, constituido de aço ASTM A572 e comprimento 15ft (457.2 cm). As parâmetros geométricos do perfil estão apresentados na imagem abaixo:\n",
    "\n",
    " <img src=\"img\\\\EX4_I_soldado.png\">\n",
    "\n",
    "\n",
    "*Obs: O exemplo será resolvido em unidades de comprimento em **cm** e de força em **kN**, e os resultados serão convertidos posteriormente para unidades de **in** e **kips***"
   ]
  },
  {
   "cell_type": "code",
   "execution_count": null,
   "metadata": {},
   "outputs": [],
   "source": [
    "from perfis import PerfilI\n",
    "from normas import AISC360\n",
    "from material import Aco\n",
    "\n",
    "in_to_cm = 2.54\n",
    "cm_to_in = 0.394\n",
    "ft_to_cm = 30.48\n",
    "\n",
    "#Definição do Aço com as propriedades em kN/cm²\n",
    "A572 = Aco(20000, 0.3, 34.5, 45.0, 0.6)\n",
    "\n",
    "#Definindo um perfil I lamidado com as seguintes propriedades em in sendo convertidas para cm\n",
    "d = 17 * in_to_cm\n",
    "bf = 8 * in_to_cm\n",
    "tf = 1 * in_to_cm\n",
    "h = 15 * in_to_cm\n",
    "tw = 0.25 * in_to_cm\n",
    "\n",
    "I17x8 = PerfilI(d, bf, bf, tw, tf, tf, A572, norma='AISC360')"
   ]
  }
 ],
 "metadata": {
  "kernelspec": {
   "display_name": "Python 3.7.3 ('base')",
   "language": "python",
   "name": "python3"
  },
  "language_info": {
   "codemirror_mode": {
    "name": "ipython",
    "version": 3
   },
   "file_extension": ".py",
   "mimetype": "text/x-python",
   "name": "python",
   "nbconvert_exporter": "python",
   "pygments_lexer": "ipython3",
   "version": "3.7.3"
  },
  "orig_nbformat": 4,
  "vscode": {
   "interpreter": {
    "hash": "edf54ad24ebfb5fa8d28ab7d9e358dbacd9f36fc2103704bbb673ffd32c4b39f"
   }
  }
 },
 "nbformat": 4,
 "nbformat_minor": 2
}
